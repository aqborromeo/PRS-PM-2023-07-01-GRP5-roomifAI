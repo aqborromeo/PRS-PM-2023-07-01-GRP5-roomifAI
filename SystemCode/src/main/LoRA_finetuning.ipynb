{
  "cells": [
    {
      "attachments": {},
      "cell_type": "markdown",
      "metadata": {
        "id": "slgjeYgd6pWp"
      },
      "source": [
        "# **Stable Diffusion - LoRA**"
      ]
    },
    {
      "attachments": {},
      "cell_type": "markdown",
      "metadata": {
        "id": "tTVqCAgSmie4"
      },
      "source": [
        "# I. Installation"
      ]
    },
    {
      "cell_type": "code",
      "execution_count": 3,
      "metadata": {
        "cellView": "form",
        "id": "_u3q60di584x"
      },
      "outputs": [],
      "source": [
        "# @title ## 1.1. Install Dependencies\n",
        "# @markdown Clone Kohya Trainer from GitHub and check for updates. Use textbox below if you want to checkout other branch or old commit. Leave it empty to stay the HEAD on main.  This will also install the required libraries.\n",
        "import os\n",
        "import zipfile\n",
        "import shutil\n",
        "import time\n",
        "from subprocess import getoutput\n",
        "from IPython.utils import capture\n",
        "from run_training import train_model"
      ]
    },
    {
      "attachments": {},
      "cell_type": "markdown",
      "metadata": {
        "id": "yHNbl3O_NSS0"
      },
      "source": [
        "# Model Training \n",
        "\n"
      ]
    },
    {
      "cell_type": "code",
      "execution_count": 4,
      "metadata": {
        "cellView": "form",
        "id": "H_Q23fUEJhnC"
      },
      "outputs": [],
      "source": [
        "# @title ## Model Config\n",
        "# Change the key to:\n",
        "# - living\n",
        "# - bedroom\n",
        "# - dining\n",
        "import json\n",
        "\n",
        "with open('./train/LoRA/config/config.json') as json_file:\n",
        "    configs = json.load(json_file)"
      ]
    },
    {
      "cell_type": "code",
      "execution_count": 5,
      "metadata": {
        "cellView": "form",
        "id": "p_SHtbFwHVl1"
      },
      "outputs": [
        {
          "data": {
            "text/html": [
              "<pre style=\"white-space:pre;overflow-x:auto;line-height:normal;font-family:Menlo,'DejaVu Sans Mono',consolas,'Courier New',monospace\"><span style=\"color: #7fbfbf; text-decoration-color: #7fbfbf\">01:29:21-737414 </span><span style=\"color: #000080; text-decoration-color: #000080\">INFO    </span> Start training LoRA Standard <span style=\"color: #808000; text-decoration-color: #808000\">...</span>                                                          \n",
              "</pre>\n"
            ],
            "text/plain": [
              "\u001b[2;36m01:29:21-737414\u001b[0m\u001b[2;36m \u001b[0m\u001b[34mINFO    \u001b[0m Start training LoRA Standard \u001b[33m...\u001b[0m                                                          \n"
            ]
          },
          "metadata": {},
          "output_type": "display_data"
        },
        {
          "data": {
            "text/html": [
              "<pre style=\"white-space:pre;overflow-x:auto;line-height:normal;font-family:Menlo,'DejaVu Sans Mono',consolas,'Courier New',monospace\"><span style=\"color: #7fbfbf; text-decoration-color: #7fbfbf\">01:29:21-741426 </span><span style=\"color: #000080; text-decoration-color: #000080\">INFO    </span> Checking for duplicate image filenames in training data directory<span style=\"color: #808000; text-decoration-color: #808000\">...</span>                      \n",
              "</pre>\n"
            ],
            "text/plain": [
              "\u001b[2;36m01:29:21-741426\u001b[0m\u001b[2;36m \u001b[0m\u001b[34mINFO    \u001b[0m Checking for duplicate image filenames in training data directory\u001b[33m...\u001b[0m                      \n"
            ]
          },
          "metadata": {},
          "output_type": "display_data"
        },
        {
          "data": {
            "text/html": [
              "<pre style=\"white-space:pre;overflow-x:auto;line-height:normal;font-family:Menlo,'DejaVu Sans Mono',consolas,'Courier New',monospace\"><span style=\"color: #7fbfbf; text-decoration-color: #7fbfbf\">01:29:21-744944 </span><span style=\"color: #000080; text-decoration-color: #000080\">INFO    </span> Valid image folder names found in:                                                        \n",
              "<span style=\"color: #7fbfbf; text-decoration-color: #7fbfbf\">                </span>         C:<span style=\"color: #800080; text-decoration-color: #800080\">/Users/JackChua/Projects/NUS/SEM02/PRS-PM-2023-07-01-GRP5-roomifAI/SystemCode/src/main/t</span>\n",
              "<span style=\"color: #7fbfbf; text-decoration-color: #7fbfbf\">                </span>         <span style=\"color: #800080; text-decoration-color: #800080\">rain/LoRA/</span><span style=\"color: #ff00ff; text-decoration-color: #ff00ff\">train_data</span>                                                                      \n",
              "</pre>\n"
            ],
            "text/plain": [
              "\u001b[2;36m01:29:21-744944\u001b[0m\u001b[2;36m \u001b[0m\u001b[34mINFO    \u001b[0m Valid image folder names found in:                                                        \n",
              "\u001b[2;36m                \u001b[0m         C:\u001b[35m/Users/JackChua/Projects/NUS/SEM02/PRS-PM-2023-07-01-GRP5-roomifAI/SystemCode/src/main/t\u001b[0m\n",
              "\u001b[2;36m                \u001b[0m         \u001b[35mrain/LoRA/\u001b[0m\u001b[95mtrain_data\u001b[0m                                                                      \n"
            ]
          },
          "metadata": {},
          "output_type": "display_data"
        },
        {
          "data": {
            "text/html": [
              "<pre style=\"white-space:pre;overflow-x:auto;line-height:normal;font-family:Menlo,'DejaVu Sans Mono',consolas,'Courier New',monospace\"><span style=\"color: #7fbfbf; text-decoration-color: #7fbfbf\">01:29:21-746944 </span><span style=\"color: #000080; text-decoration-color: #000080\">INFO    </span> Headless mode, skipping verification if model already exist<span style=\"color: #808000; text-decoration-color: #808000\">...</span> if model already exist it  \n",
              "<span style=\"color: #7fbfbf; text-decoration-color: #7fbfbf\">                </span>         will be overwritten<span style=\"color: #808000; text-decoration-color: #808000\">...</span>                                                                    \n",
              "</pre>\n"
            ],
            "text/plain": [
              "\u001b[2;36m01:29:21-746944\u001b[0m\u001b[2;36m \u001b[0m\u001b[34mINFO    \u001b[0m Headless mode, skipping verification if model already exist\u001b[33m...\u001b[0m if model already exist it  \n",
              "\u001b[2;36m                \u001b[0m         will be overwritten\u001b[33m...\u001b[0m                                                                    \n"
            ]
          },
          "metadata": {},
          "output_type": "display_data"
        },
        {
          "data": {
            "text/html": [
              "<pre style=\"white-space:pre;overflow-x:auto;line-height:normal;font-family:Menlo,'DejaVu Sans Mono',consolas,'Courier New',monospace\"><span style=\"color: #7fbfbf; text-decoration-color: #7fbfbf\">01:29:21-750067 </span><span style=\"color: #000080; text-decoration-color: #000080\">INFO    </span> Folder 10_living: <span style=\"color: #008080; text-decoration-color: #008080; font-weight: bold\">160</span> images found                                                        \n",
              "</pre>\n"
            ],
            "text/plain": [
              "\u001b[2;36m01:29:21-750067\u001b[0m\u001b[2;36m \u001b[0m\u001b[34mINFO    \u001b[0m Folder 10_living: \u001b[1;36m160\u001b[0m images found                                                        \n"
            ]
          },
          "metadata": {},
          "output_type": "display_data"
        },
        {
          "data": {
            "text/html": [
              "<pre style=\"white-space:pre;overflow-x:auto;line-height:normal;font-family:Menlo,'DejaVu Sans Mono',consolas,'Courier New',monospace\"><span style=\"color: #7fbfbf; text-decoration-color: #7fbfbf\">01:29:21-751575 </span><span style=\"color: #000080; text-decoration-color: #000080\">INFO    </span> Folder 10_living: <span style=\"color: #008080; text-decoration-color: #008080; font-weight: bold\">1600</span> steps                                                              \n",
              "</pre>\n"
            ],
            "text/plain": [
              "\u001b[2;36m01:29:21-751575\u001b[0m\u001b[2;36m \u001b[0m\u001b[34mINFO    \u001b[0m Folder 10_living: \u001b[1;36m1600\u001b[0m steps                                                              \n"
            ]
          },
          "metadata": {},
          "output_type": "display_data"
        },
        {
          "data": {
            "text/html": [
              "<pre style=\"white-space:pre;overflow-x:auto;line-height:normal;font-family:Menlo,'DejaVu Sans Mono',consolas,'Courier New',monospace\"><span style=\"color: #7fbfbf; text-decoration-color: #7fbfbf\">01:29:21-753165 </span><span style=\"color: #000080; text-decoration-color: #000080\">INFO    </span> Total steps: <span style=\"color: #008080; text-decoration-color: #008080; font-weight: bold\">1600</span>                                                                         \n",
              "</pre>\n"
            ],
            "text/plain": [
              "\u001b[2;36m01:29:21-753165\u001b[0m\u001b[2;36m \u001b[0m\u001b[34mINFO    \u001b[0m Total steps: \u001b[1;36m1600\u001b[0m                                                                         \n"
            ]
          },
          "metadata": {},
          "output_type": "display_data"
        },
        {
          "data": {
            "text/html": [
              "<pre style=\"white-space:pre;overflow-x:auto;line-height:normal;font-family:Menlo,'DejaVu Sans Mono',consolas,'Courier New',monospace\"><span style=\"color: #7fbfbf; text-decoration-color: #7fbfbf\">01:29:21-754170 </span><span style=\"color: #000080; text-decoration-color: #000080\">INFO    </span> Train batch size: <span style=\"color: #008080; text-decoration-color: #008080; font-weight: bold\">1</span>                                                                       \n",
              "</pre>\n"
            ],
            "text/plain": [
              "\u001b[2;36m01:29:21-754170\u001b[0m\u001b[2;36m \u001b[0m\u001b[34mINFO    \u001b[0m Train batch size: \u001b[1;36m1\u001b[0m                                                                       \n"
            ]
          },
          "metadata": {},
          "output_type": "display_data"
        },
        {
          "data": {
            "text/html": [
              "<pre style=\"white-space:pre;overflow-x:auto;line-height:normal;font-family:Menlo,'DejaVu Sans Mono',consolas,'Courier New',monospace\"><span style=\"color: #7fbfbf; text-decoration-color: #7fbfbf\">01:29:21-755169 </span><span style=\"color: #000080; text-decoration-color: #000080\">INFO    </span> Gradient accumulation steps: <span style=\"color: #008080; text-decoration-color: #008080; font-weight: bold\">4</span>                                                            \n",
              "</pre>\n"
            ],
            "text/plain": [
              "\u001b[2;36m01:29:21-755169\u001b[0m\u001b[2;36m \u001b[0m\u001b[34mINFO    \u001b[0m Gradient accumulation steps: \u001b[1;36m4\u001b[0m                                                            \n"
            ]
          },
          "metadata": {},
          "output_type": "display_data"
        },
        {
          "data": {
            "text/html": [
              "<pre style=\"white-space:pre;overflow-x:auto;line-height:normal;font-family:Menlo,'DejaVu Sans Mono',consolas,'Courier New',monospace\"><span style=\"color: #7fbfbf; text-decoration-color: #7fbfbf\">01:29:21-757169 </span><span style=\"color: #000080; text-decoration-color: #000080\">INFO    </span> Epoch: <span style=\"color: #008080; text-decoration-color: #008080; font-weight: bold\">1</span>                                                                                  \n",
              "</pre>\n"
            ],
            "text/plain": [
              "\u001b[2;36m01:29:21-757169\u001b[0m\u001b[2;36m \u001b[0m\u001b[34mINFO    \u001b[0m Epoch: \u001b[1;36m1\u001b[0m                                                                                  \n"
            ]
          },
          "metadata": {},
          "output_type": "display_data"
        },
        {
          "data": {
            "text/html": [
              "<pre style=\"white-space:pre;overflow-x:auto;line-height:normal;font-family:Menlo,'DejaVu Sans Mono',consolas,'Courier New',monospace\"><span style=\"color: #7fbfbf; text-decoration-color: #7fbfbf\">01:29:21-758169 </span><span style=\"color: #000080; text-decoration-color: #000080\">INFO    </span> Regulatization factor: <span style=\"color: #008080; text-decoration-color: #008080; font-weight: bold\">1</span>                                                                  \n",
              "</pre>\n"
            ],
            "text/plain": [
              "\u001b[2;36m01:29:21-758169\u001b[0m\u001b[2;36m \u001b[0m\u001b[34mINFO    \u001b[0m Regulatization factor: \u001b[1;36m1\u001b[0m                                                                  \n"
            ]
          },
          "metadata": {},
          "output_type": "display_data"
        },
        {
          "data": {
            "text/html": [
              "<pre style=\"white-space:pre;overflow-x:auto;line-height:normal;font-family:Menlo,'DejaVu Sans Mono',consolas,'Courier New',monospace\"><span style=\"color: #7fbfbf; text-decoration-color: #7fbfbf\">01:29:21-760170 </span><span style=\"color: #000080; text-decoration-color: #000080\">INFO    </span> max_train_steps <span style=\"font-weight: bold\">(</span><span style=\"color: #008080; text-decoration-color: #008080; font-weight: bold\">1600</span> <span style=\"color: #800080; text-decoration-color: #800080\">/</span> <span style=\"color: #008080; text-decoration-color: #008080; font-weight: bold\">1</span> <span style=\"color: #800080; text-decoration-color: #800080\">/</span> <span style=\"color: #008080; text-decoration-color: #008080; font-weight: bold\">4</span> * <span style=\"color: #008080; text-decoration-color: #008080; font-weight: bold\">1</span> * <span style=\"color: #008080; text-decoration-color: #008080; font-weight: bold\">1</span><span style=\"font-weight: bold\">)</span> = <span style=\"color: #008080; text-decoration-color: #008080; font-weight: bold\">400</span>                                              \n",
              "</pre>\n"
            ],
            "text/plain": [
              "\u001b[2;36m01:29:21-760170\u001b[0m\u001b[2;36m \u001b[0m\u001b[34mINFO    \u001b[0m max_train_steps \u001b[1m(\u001b[0m\u001b[1;36m1600\u001b[0m \u001b[35m/\u001b[0m \u001b[1;36m1\u001b[0m \u001b[35m/\u001b[0m \u001b[1;36m4\u001b[0m * \u001b[1;36m1\u001b[0m * \u001b[1;36m1\u001b[0m\u001b[1m)\u001b[0m = \u001b[1;36m400\u001b[0m                                              \n"
            ]
          },
          "metadata": {},
          "output_type": "display_data"
        },
        {
          "data": {
            "text/html": [
              "<pre style=\"white-space:pre;overflow-x:auto;line-height:normal;font-family:Menlo,'DejaVu Sans Mono',consolas,'Courier New',monospace\"><span style=\"color: #7fbfbf; text-decoration-color: #7fbfbf\">01:29:21-761169 </span><span style=\"color: #000080; text-decoration-color: #000080\">INFO    </span> stop_text_encoder_training = <span style=\"color: #008080; text-decoration-color: #008080; font-weight: bold\">0</span>                                                            \n",
              "</pre>\n"
            ],
            "text/plain": [
              "\u001b[2;36m01:29:21-761169\u001b[0m\u001b[2;36m \u001b[0m\u001b[34mINFO    \u001b[0m stop_text_encoder_training = \u001b[1;36m0\u001b[0m                                                            \n"
            ]
          },
          "metadata": {},
          "output_type": "display_data"
        },
        {
          "data": {
            "text/html": [
              "<pre style=\"white-space:pre;overflow-x:auto;line-height:normal;font-family:Menlo,'DejaVu Sans Mono',consolas,'Courier New',monospace\"><span style=\"color: #7fbfbf; text-decoration-color: #7fbfbf\">01:29:21-762169 </span><span style=\"color: #000080; text-decoration-color: #000080\">INFO    </span> lr_warmup_steps = <span style=\"color: #008080; text-decoration-color: #008080; font-weight: bold\">40</span>                                                                      \n",
              "</pre>\n"
            ],
            "text/plain": [
              "\u001b[2;36m01:29:21-762169\u001b[0m\u001b[2;36m \u001b[0m\u001b[34mINFO    \u001b[0m lr_warmup_steps = \u001b[1;36m40\u001b[0m                                                                      \n"
            ]
          },
          "metadata": {},
          "output_type": "display_data"
        },
        {
          "data": {
            "text/html": [
              "<pre style=\"white-space:pre;overflow-x:auto;line-height:normal;font-family:Menlo,'DejaVu Sans Mono',consolas,'Courier New',monospace\"><span style=\"color: #7fbfbf; text-decoration-color: #7fbfbf\">01:29:21-764169 </span><span style=\"color: #000080; text-decoration-color: #000080\">INFO    </span> Saving training config to                                                                 \n",
              "<span style=\"color: #7fbfbf; text-decoration-color: #7fbfbf\">                </span>         C:<span style=\"color: #800080; text-decoration-color: #800080\">/Users/JackChua/Projects/NUS/SEM02/PRS-PM-2023-07-01-GRP5-roomifAI/SystemCode/src/main/t</span>\n",
              "<span style=\"color: #7fbfbf; text-decoration-color: #7fbfbf\">                </span>         <span style=\"color: #800080; text-decoration-color: #800080\">rain/LoRA/</span><span style=\"color: #ff00ff; text-decoration-color: #ff00ff\">output</span>\\roomifai_living_20231012-<span style=\"color: #008080; text-decoration-color: #008080; font-weight: bold\">012921.j</span>son<span style=\"color: #808000; text-decoration-color: #808000\">...</span>                                  \n",
              "</pre>\n"
            ],
            "text/plain": [
              "\u001b[2;36m01:29:21-764169\u001b[0m\u001b[2;36m \u001b[0m\u001b[34mINFO    \u001b[0m Saving training config to                                                                 \n",
              "\u001b[2;36m                \u001b[0m         C:\u001b[35m/Users/JackChua/Projects/NUS/SEM02/PRS-PM-2023-07-01-GRP5-roomifAI/SystemCode/src/main/t\u001b[0m\n",
              "\u001b[2;36m                \u001b[0m         \u001b[35mrain/LoRA/\u001b[0m\u001b[95moutput\u001b[0m\\roomifai_living_20231012-\u001b[1;36m012921.j\u001b[0mson\u001b[33m...\u001b[0m                                  \n"
            ]
          },
          "metadata": {},
          "output_type": "display_data"
        },
        {
          "data": {
            "text/html": [
              "<pre style=\"white-space:pre;overflow-x:auto;line-height:normal;font-family:Menlo,'DejaVu Sans Mono',consolas,'Courier New',monospace\"><span style=\"color: #7fbfbf; text-decoration-color: #7fbfbf\">01:29:21-766172 </span><span style=\"color: #000080; text-decoration-color: #000080\">INFO    </span> accelerate launch --<span style=\"color: #808000; text-decoration-color: #808000\">num_cpu_threads_per_process</span>=<span style=\"color: #008080; text-decoration-color: #008080; font-weight: bold\">2</span> <span style=\"color: #008000; text-decoration-color: #008000\">\"./train_network.py\"</span> --enable_bucket    \n",
              "<span style=\"color: #7fbfbf; text-decoration-color: #7fbfbf\">                </span>         --<span style=\"color: #808000; text-decoration-color: #808000\">min_bucket_reso</span>=<span style=\"color: #008080; text-decoration-color: #008080; font-weight: bold\">256</span> --<span style=\"color: #808000; text-decoration-color: #808000\">max_bucket_reso</span>=<span style=\"color: #008080; text-decoration-color: #008080; font-weight: bold\">2048</span>                                              \n",
              "<span style=\"color: #7fbfbf; text-decoration-color: #7fbfbf\">                </span>         --<span style=\"color: #808000; text-decoration-color: #808000\">pretrained_model_name_or_path</span>=<span style=\"color: #008000; text-decoration-color: #008000\">\"runwayml/stable-diffusion-v1-5\"</span>                          \n",
              "<span style=\"color: #7fbfbf; text-decoration-color: #7fbfbf\">                </span>         --<span style=\"color: #808000; text-decoration-color: #808000\">train_data_dir</span>=<span style=\"color: #008000; text-decoration-color: #008000\">\"C:/Users/JackChua/Projects/NUS/SEM02/PRS-PM-2023-07-01-GRP5-roomifAI/Sys</span>\n",
              "<span style=\"color: #7fbfbf; text-decoration-color: #7fbfbf\">                </span>         <span style=\"color: #008000; text-decoration-color: #008000\">temCode/src/main/train/LoRA/train_data\"</span> --<span style=\"color: #808000; text-decoration-color: #808000\">resolution</span>=<span style=\"color: #008000; text-decoration-color: #008000\">\"512,512\"</span>                            \n",
              "<span style=\"color: #7fbfbf; text-decoration-color: #7fbfbf\">                </span>         --<span style=\"color: #808000; text-decoration-color: #808000\">output_dir</span>=<span style=\"color: #008000; text-decoration-color: #008000\">\"C:/Users/JackChua/Projects/NUS/SEM02/PRS-PM-2023-07-01-GRP5-roomifAI/SystemC</span>\n",
              "<span style=\"color: #7fbfbf; text-decoration-color: #7fbfbf\">                </span>         <span style=\"color: #008000; text-decoration-color: #008000\">ode/src/main/train/LoRA/output\"</span>                                                           \n",
              "<span style=\"color: #7fbfbf; text-decoration-color: #7fbfbf\">                </span>         --<span style=\"color: #808000; text-decoration-color: #808000\">logging_dir</span>=<span style=\"color: #008000; text-decoration-color: #008000\">\"C:/Users/JackChua/Projects/NUS/SEM02/PRS-PM-2023-07-01-GRP5-roomifAI/System</span>\n",
              "<span style=\"color: #7fbfbf; text-decoration-color: #7fbfbf\">                </span>         <span style=\"color: #008000; text-decoration-color: #008000\">Code/src/main/train/LoRA/logs\"</span> --<span style=\"color: #808000; text-decoration-color: #808000\">network_alpha</span>=<span style=\"color: #008000; text-decoration-color: #008000\">\"1\"</span> --<span style=\"color: #808000; text-decoration-color: #808000\">save_model_as</span>=<span style=\"color: #800080; text-decoration-color: #800080\">safetensors</span>            \n",
              "<span style=\"color: #7fbfbf; text-decoration-color: #7fbfbf\">                </span>         --<span style=\"color: #808000; text-decoration-color: #808000\">network_module</span>=<span style=\"color: #800080; text-decoration-color: #800080\">networks</span>.lora --<span style=\"color: #808000; text-decoration-color: #808000\">text_encoder_lr</span>=<span style=\"color: #008080; text-decoration-color: #008080; font-weight: bold\">5e-05</span> --<span style=\"color: #808000; text-decoration-color: #808000\">unet_lr</span>=<span style=\"color: #008080; text-decoration-color: #008080; font-weight: bold\">0.0001</span> --<span style=\"color: #808000; text-decoration-color: #808000\">network_dim</span>=<span style=\"color: #008080; text-decoration-color: #008080; font-weight: bold\">8</span>   \n",
              "<span style=\"color: #7fbfbf; text-decoration-color: #7fbfbf\">                </span>         --<span style=\"color: #808000; text-decoration-color: #808000\">gradient_accumulation_steps</span>=<span style=\"color: #008080; text-decoration-color: #008080; font-weight: bold\">4</span> --<span style=\"color: #808000; text-decoration-color: #808000\">output_name</span>=<span style=\"color: #008000; text-decoration-color: #008000\">\"roomifai_living\"</span>                           \n",
              "<span style=\"color: #7fbfbf; text-decoration-color: #7fbfbf\">                </span>         --<span style=\"color: #808000; text-decoration-color: #808000\">lr_scheduler_num_cycles</span>=<span style=\"color: #008000; text-decoration-color: #008000\">\"1\"</span> --no_half_vae --<span style=\"color: #808000; text-decoration-color: #808000\">learning_rate</span>=<span style=\"color: #008000; text-decoration-color: #008000\">\"0.0001\"</span>                      \n",
              "<span style=\"color: #7fbfbf; text-decoration-color: #7fbfbf\">                </span>         --<span style=\"color: #808000; text-decoration-color: #808000\">lr_scheduler</span>=<span style=\"color: #008000; text-decoration-color: #008000\">\"cosine\"</span> --<span style=\"color: #808000; text-decoration-color: #808000\">lr_warmup_steps</span>=<span style=\"color: #008000; text-decoration-color: #008000\">\"40\"</span> --<span style=\"color: #808000; text-decoration-color: #808000\">train_batch_size</span>=<span style=\"color: #008000; text-decoration-color: #008000\">\"1\"</span>                     \n",
              "<span style=\"color: #7fbfbf; text-decoration-color: #7fbfbf\">                </span>         --<span style=\"color: #808000; text-decoration-color: #808000\">max_train_steps</span>=<span style=\"color: #008000; text-decoration-color: #008000\">\"400\"</span> --<span style=\"color: #808000; text-decoration-color: #808000\">save_every_n_epochs</span>=<span style=\"color: #008000; text-decoration-color: #008000\">\"1\"</span> --<span style=\"color: #808000; text-decoration-color: #808000\">mixed_precision</span>=<span style=\"color: #008000; text-decoration-color: #008000\">\"fp16\"</span>                \n",
              "<span style=\"color: #7fbfbf; text-decoration-color: #7fbfbf\">                </span>         --<span style=\"color: #808000; text-decoration-color: #808000\">save_precision</span>=<span style=\"color: #008000; text-decoration-color: #008000\">\"fp16\"</span> --<span style=\"color: #808000; text-decoration-color: #808000\">caption_extension</span>=<span style=\"color: #008000; text-decoration-color: #008000\">\".txt\"</span> --cache_latents                        \n",
              "<span style=\"color: #7fbfbf; text-decoration-color: #7fbfbf\">                </span>         --<span style=\"color: #808000; text-decoration-color: #808000\">optimizer_type</span>=<span style=\"color: #008000; text-decoration-color: #008000\">\"AdamW8bit\"</span> --<span style=\"color: #808000; text-decoration-color: #808000\">max_data_loader_n_workers</span>=<span style=\"color: #008000; text-decoration-color: #008000\">\"0\"</span> --<span style=\"color: #808000; text-decoration-color: #808000\">bucket_reso_steps</span>=<span style=\"color: #008080; text-decoration-color: #008080; font-weight: bold\">64</span>       \n",
              "<span style=\"color: #7fbfbf; text-decoration-color: #7fbfbf\">                </span>         --<span style=\"color: #808000; text-decoration-color: #808000\">save_every_n_steps</span>=<span style=\"color: #008000; text-decoration-color: #008000\">\"100\"</span> --bucket_no_upscale --<span style=\"color: #808000; text-decoration-color: #808000\">noise_offset</span>=<span style=\"color: #008080; text-decoration-color: #008080; font-weight: bold\">0.0</span>                         \n",
              "</pre>\n"
            ],
            "text/plain": [
              "\u001b[2;36m01:29:21-766172\u001b[0m\u001b[2;36m \u001b[0m\u001b[34mINFO    \u001b[0m accelerate launch --\u001b[33mnum_cpu_threads_per_process\u001b[0m=\u001b[1;36m2\u001b[0m \u001b[32m\"./train_network.py\"\u001b[0m --enable_bucket    \n",
              "\u001b[2;36m                \u001b[0m         --\u001b[33mmin_bucket_reso\u001b[0m=\u001b[1;36m256\u001b[0m --\u001b[33mmax_bucket_reso\u001b[0m=\u001b[1;36m2048\u001b[0m                                              \n",
              "\u001b[2;36m                \u001b[0m         --\u001b[33mpretrained_model_name_or_path\u001b[0m=\u001b[32m\"runwayml\u001b[0m\u001b[32m/stable-diffusion-v1-5\"\u001b[0m                          \n",
              "\u001b[2;36m                \u001b[0m         --\u001b[33mtrain_data_dir\u001b[0m=\u001b[32m\"C\u001b[0m\u001b[32m:/Users/JackChua/Projects/NUS/SEM02/PRS-PM-2023-07-01-GRP5-roomifAI/Sys\u001b[0m\n",
              "\u001b[2;36m                \u001b[0m         \u001b[32mtemCode/src/main/train/LoRA/train_data\"\u001b[0m --\u001b[33mresolution\u001b[0m=\u001b[32m\"512\u001b[0m\u001b[32m,512\"\u001b[0m                            \n",
              "\u001b[2;36m                \u001b[0m         --\u001b[33moutput_dir\u001b[0m=\u001b[32m\"C\u001b[0m\u001b[32m:/Users/JackChua/Projects/NUS/SEM02/PRS-PM-2023-07-01-GRP5-roomifAI/SystemC\u001b[0m\n",
              "\u001b[2;36m                \u001b[0m         \u001b[32mode/src/main/train/LoRA/output\"\u001b[0m                                                           \n",
              "\u001b[2;36m                \u001b[0m         --\u001b[33mlogging_dir\u001b[0m=\u001b[32m\"C\u001b[0m\u001b[32m:/Users/JackChua/Projects/NUS/SEM02/PRS-PM-2023-07-01-GRP5-roomifAI/System\u001b[0m\n",
              "\u001b[2;36m                \u001b[0m         \u001b[32mCode/src/main/train/LoRA/logs\"\u001b[0m --\u001b[33mnetwork_alpha\u001b[0m=\u001b[32m\"1\"\u001b[0m --\u001b[33msave_model_as\u001b[0m=\u001b[35msafetensors\u001b[0m            \n",
              "\u001b[2;36m                \u001b[0m         --\u001b[33mnetwork_module\u001b[0m=\u001b[35mnetworks\u001b[0m.lora --\u001b[33mtext_encoder_lr\u001b[0m=\u001b[1;36m5e\u001b[0m\u001b[1;36m-05\u001b[0m --\u001b[33munet_lr\u001b[0m=\u001b[1;36m0\u001b[0m\u001b[1;36m.0001\u001b[0m --\u001b[33mnetwork_dim\u001b[0m=\u001b[1;36m8\u001b[0m   \n",
              "\u001b[2;36m                \u001b[0m         --\u001b[33mgradient_accumulation_steps\u001b[0m=\u001b[1;36m4\u001b[0m --\u001b[33moutput_name\u001b[0m=\u001b[32m\"roomifai_living\"\u001b[0m                           \n",
              "\u001b[2;36m                \u001b[0m         --\u001b[33mlr_scheduler_num_cycles\u001b[0m=\u001b[32m\"1\"\u001b[0m --no_half_vae --\u001b[33mlearning_rate\u001b[0m=\u001b[32m\"0\u001b[0m\u001b[32m.0001\"\u001b[0m                      \n",
              "\u001b[2;36m                \u001b[0m         --\u001b[33mlr_scheduler\u001b[0m=\u001b[32m\"cosine\"\u001b[0m --\u001b[33mlr_warmup_steps\u001b[0m=\u001b[32m\"40\"\u001b[0m --\u001b[33mtrain_batch_size\u001b[0m=\u001b[32m\"1\"\u001b[0m                     \n",
              "\u001b[2;36m                \u001b[0m         --\u001b[33mmax_train_steps\u001b[0m=\u001b[32m\"400\"\u001b[0m --\u001b[33msave_every_n_epochs\u001b[0m=\u001b[32m\"1\"\u001b[0m --\u001b[33mmixed_precision\u001b[0m=\u001b[32m\"fp16\"\u001b[0m                \n",
              "\u001b[2;36m                \u001b[0m         --\u001b[33msave_precision\u001b[0m=\u001b[32m\"fp16\"\u001b[0m --\u001b[33mcaption_extension\u001b[0m=\u001b[32m\".txt\"\u001b[0m --cache_latents                        \n",
              "\u001b[2;36m                \u001b[0m         --\u001b[33moptimizer_type\u001b[0m=\u001b[32m\"AdamW8bit\"\u001b[0m --\u001b[33mmax_data_loader_n_workers\u001b[0m=\u001b[32m\"0\"\u001b[0m --\u001b[33mbucket_reso_steps\u001b[0m=\u001b[1;36m64\u001b[0m       \n",
              "\u001b[2;36m                \u001b[0m         --\u001b[33msave_every_n_steps\u001b[0m=\u001b[32m\"100\"\u001b[0m --bucket_no_upscale --\u001b[33mnoise_offset\u001b[0m=\u001b[1;36m0\u001b[0m\u001b[1;36m.0\u001b[0m                         \n"
            ]
          },
          "metadata": {},
          "output_type": "display_data"
        }
      ],
      "source": [
        "#@title ## Start Training\n",
        "# Replace invalid config params\n",
        "configs['stop_text_encoder_training_pct'] = configs.pop('stop_text_encoder_training')\n",
        "\n",
        "train_model(headless=True, print_only=False, **configs)"
      ]
    },
    {
      "cell_type": "code",
      "execution_count": 10,
      "metadata": {
        "cellView": "form",
        "id": "Rt7CKCog_4tm"
      },
      "outputs": [
        {
          "name": "stdout",
          "output_type": "stream",
          "text": [
            "\n",
            "Load metadata for: ./LoRA/roomifai_living.safetensors\n",
            "{\n",
            "    \"modelspec.architecture\": \"stable-diffusion-v1/lora\",\n",
            "    \"modelspec.date\": \"2023-10-11T01:19:58\",\n",
            "    \"modelspec.implementation\": \"diffusers\",\n",
            "    \"modelspec.prediction_type\": \"epsilon\",\n",
            "    \"modelspec.resolution\": \"512x512\",\n",
            "    \"modelspec.sai_model_spec\": \"1.0.0\",\n",
            "    \"modelspec.title\": \"roomifai_living\",\n",
            "    \"ss_adaptive_noise_scale\": \"None\",\n",
            "    \"ss_base_model_version\": \"sd_v1\",\n",
            "    \"ss_batch_size_per_device\": \"1\",\n",
            "    \"ss_bucket_info\": \"{\\\"buckets\\\": {\\\"0\\\": {\\\"resolution\\\": [512, 512], \\\"count\\\": 1600}}, \\\"mean_img_ar_error\\\": 0.0}\",\n",
            "    \"ss_bucket_no_upscale\": \"True\",\n",
            "    \"ss_cache_latents\": \"True\",\n",
            "    \"ss_caption_dropout_every_n_epochs\": \"0\",\n",
            "    \"ss_caption_dropout_rate\": \"0.0\",\n",
            "    \"ss_caption_tag_dropout_rate\": \"0.0\",\n",
            "    \"ss_clip_skip\": \"None\",\n",
            "    \"ss_color_aug\": \"False\",\n",
            "    \"ss_dataset_dirs\": \"{\\\"10_roomifai\\\": {\\\"n_repeats\\\": 10, \\\"img_count\\\": 160}}\",\n",
            "    \"ss_enable_bucket\": \"True\",\n",
            "    \"ss_epoch\": \"4\",\n",
            "    \"ss_face_crop_aug_range\": \"None\",\n",
            "    \"ss_flip_aug\": \"False\",\n",
            "    \"ss_full_fp16\": \"False\",\n",
            "    \"ss_gradient_accumulation_steps\": \"4\",\n",
            "    \"ss_gradient_checkpointing\": \"False\",\n",
            "    \"ss_ip_noise_gamma\": \"None\",\n",
            "    \"ss_keep_tokens\": \"0\",\n",
            "    \"ss_learning_rate\": \"0.0001\",\n",
            "    \"ss_lowram\": \"False\",\n",
            "    \"ss_lr_scheduler\": \"cosine\",\n",
            "    \"ss_lr_warmup_steps\": \"160\",\n",
            "    \"ss_max_bucket_reso\": \"512\",\n",
            "    \"ss_max_grad_norm\": \"1.0\",\n",
            "    \"ss_max_token_length\": \"None\",\n",
            "    \"ss_max_train_steps\": \"1600\",\n",
            "    \"ss_min_bucket_reso\": \"256\",\n",
            "    \"ss_min_snr_gamma\": \"None\",\n",
            "    \"ss_mixed_precision\": \"fp16\",\n",
            "    \"ss_multires_noise_discount\": \"0.3\",\n",
            "    \"ss_multires_noise_iterations\": \"None\",\n",
            "    \"ss_network_alpha\": \"1.0\",\n",
            "    \"ss_network_args\": \"{\\\"rank_dropout\\\": \\\"0.2\\\", \\\"module_dropout\\\": \\\"0.2\\\"}\",\n",
            "    \"ss_network_dim\": \"8\",\n",
            "    \"ss_network_dropout\": \"0.2\",\n",
            "    \"ss_network_module\": \"networks.lora\",\n",
            "    \"ss_noise_offset\": \"0.0\",\n",
            "    \"ss_num_batches_per_epoch\": \"1600\",\n",
            "    \"ss_num_epochs\": \"4\",\n",
            "    \"ss_num_reg_images\": \"0\",\n",
            "    \"ss_num_train_images\": \"1600\",\n",
            "    \"ss_optimizer\": \"bitsandbytes.optim.adamw.AdamW8bit\",\n",
            "    \"ss_output_name\": \"roomifai_living\",\n",
            "    \"ss_prior_loss_weight\": \"1.0\",\n",
            "    \"ss_random_crop\": \"False\",\n",
            "    \"ss_reg_dataset_dirs\": \"{}\",\n",
            "    \"ss_resolution\": \"(512, 512)\",\n",
            "    \"ss_scale_weight_norms\": \"None\",\n",
            "    \"ss_sd_model_name\": \"runwayml/stable-diffusion-v1-5\",\n",
            "    \"ss_sd_scripts_commit_hash\": \"31b26d59d3988980e4ecab464ae19efca06b80dd\",\n",
            "    \"ss_seed\": \"3748258700\",\n",
            "    \"ss_session_id\": \"383712562\",\n",
            "    \"ss_shuffle_caption\": \"False\",\n",
            "    \"ss_steps\": \"1600\",\n",
            "    \"ss_tag_frequency\": \"{\\\"10_roomifai\\\": {\\\"a living room with a couch\\\": 124, \\\"chair\\\": 76, \\\"coffee table and a door; light luxury rough cloth armchair\\\": 1, \\\"modern  pendant lamp\\\": 38, \\\"l-shaped sofa\\\": 2, \\\"minimalist marble coffee table\\\": 8, \\\"coffee table and a lamp; southeast asia wood sideboard / side cabinet / console table\\\": 1, \\\"three-seat / multi-seat sofa\\\": 10, \\\"modern marble coffee table\\\": 10, \\\"industrial leather armchair\\\": 3, \\\"minimalist rough cloth armchair\\\": 4, \\\"modern composite board bookcase / jewelry armoire\\\": 2, \\\"a living room with a green couch and a coffee table; modern  pendant lamp\\\": 1, \\\"modern wood coffee table\\\": 20, \\\"japanese rough cloth loveseat sofa\\\": 1, \\\"vintage/retro wood bookcase / jewelry armoire\\\": 1, \\\"coffee table and a window; minimalist marble coffee table\\\": 1, \\\"modern metal corner/side table\\\": 4, \\\"southeast asia leather three-seat / multi-seat sofa\\\": 3, \\\"nordic rough cloth three-seat / multi-seat sofa\\\": 4, \\\"a living room with a tv and a couch; modern composite board coffee table\\\": 1, \\\"coffee table\\\": 50, \\\"and lamp; minimalist marble coffee table\\\": 1, \\\"modern wood corner/side table\\\": 6, \\\"coffee table and a television; minimalist metal sideboard / side cabinet / console table\\\": 1, \\\"modern composite board corner/side table\\\": 4, \\\"light luxury rough cloth armchair\\\": 10, \\\"southeast asia solid wood coffee table\\\": 1, \\\"light luxury smooth leather three-seat / multi-seat sofa\\\": 1, \\\"a living room with a blue couch and a coffee table; modern smooth leather three-seat / multi-seat sofa\\\": 1, \\\"modern composite board coffee table\\\": 11, \\\"korean composite board bookcase / jewelry armoire\\\": 1, \\\"chairs\\\": 6, \\\"and a coffee table; minimalist rough cloth armchair\\\": 1, \\\"modern rough cloth lounge chair / cafe chair / office chair\\\": 8, \\\"loveseat sofa\\\": 5, \\\"and bookcase; modern  ceiling lamp\\\": 1, \\\"minimalist wood coffee table\\\": 7, \\\"vintage/retro rough cloth loveseat sofa\\\": 2, \\\"table\\\": 3, \\\"and lamp; modern rough cloth loveseat sofa\\\": 1, \\\"chinoiserie  pendant lamp\\\": 3, \\\"and cabinet; modern  pendant lamp\\\": 1, \\\"industrial wood bookcase / jewelry armoire\\\": 1, \\\"table and chandelier; industrial marble coffee table\\\": 1, \\\"modern smooth leather armchair\\\": 1, \\\"light luxury rough cloth l-shaped sofa\\\": 1, \\\"and television; american country wood armchair\\\": 1, \\\"new chinese wood coffee table\\\": 3, \\\"industrial wood corner/side table\\\": 2, \\\"coffee table and a chandelier; modern  pendant lamp\\\": 3, \\\"industrial wood coffee table\\\": 1, \\\"new chinese wood lounge chair / cafe chair / office chair\\\": 1, \\\"neoclassical rough cloth three-seat / multi-seat sofa\\\": 6, \\\"light luxury metal corner/side table\\\": 1, \\\"coffee table and a deer head; minimalist others coffee table\\\": 1, \\\"light luxury rough cloth three-seat / multi-seat sofa\\\": 7, \\\"a living room with a lot of furniture and a painting; korean rough cloth three-seat / multi-seat sofa\\\": 1, \\\"american country wood coffee table\\\": 2, \\\"modern wood sideboard / side cabinet / console table\\\": 2, \\\"european  ceiling lamp\\\": 3, \\\"new chinese rough cloth armchair\\\": 3, \\\"ceiling lamp\\\": 8, \\\"coffee table and a painting; coffee table\\\": 1, \\\"light luxury rough cloth loveseat sofa\\\": 5, \\\"kids  ceiling lamp\\\": 1, \\\"modern marble sideboard / side cabinet / console table\\\": 2, \\\"coffee table and a window; vintage/retro rough cloth three-seat / multi-seat sofa\\\": 1, \\\"modern  ceiling lamp\\\": 11, \\\"coffee table and a window; coffee table\\\": 1, \\\"pendant lamp\\\": 17, \\\"and a chandelier; armchair\\\": 1, \\\"sideboard / side cabinet / console table\\\": 6, \\\"japanese solid wood drawer chest / corner cabinet\\\": 1, \\\"vintage/retro wood coffee table\\\": 5, \\\"modern others dining table\\\": 1, \\\"table and a chandelier; drawer chest / corner cabinet\\\": 1, \\\"korean rough cloth three-seat / multi-seat sofa\\\": 6, \\\"japanese plywood coffee table\\\": 1, \\\"american country wood sideboard / side cabinet / console table\\\": 1, \\\"and shelves; southeast asia leather three-seat / multi-seat sofa\\\": 1, \\\"modern wood wine cabinet\\\": 1, \\\"and a television; japanese wood bookcase / jewelry armoire\\\": 1, \\\"lounge chair / cafe chair / office chair\\\": 6, \\\"table and a chandelier; industrial leather armchair\\\": 1, \\\"new chinese wood corner/side table\\\": 5, \\\"modern rough cloth armchair\\\": 4, \\\"bookcase / jewelry armoire\\\": 4, \\\"vintage/retro rough cloth three-seat / multi-seat sofa\\\": 2, \\\"modern marble bookcase / jewelry armoire\\\": 1, \\\"and ottoman; modern metal coffee table\\\": 1, \\\"modern marble corner/side table\\\": 3, \\\"footstool / sofastool / bed end stool / stool\\\": 6, \\\"coffee table and a large rock; neoclassical rough cloth three-seat / multi-seat sofa\\\": 1, \\\"minimalist rough cloth coffee table\\\": 3, \\\"coffee table and a mirror; modern others coffee table\\\": 1, \\\"coffee table and a lamp; pendant lamp\\\": 1, \\\"industrial stone corner/side table\\\": 1, \\\"a living room with a white couch and a coffee table; modern marble corner/side table\\\": 1, \\\"japanese stone coffee table\\\": 1, \\\"modern rough cloth three-seat / multi-seat sofa\\\": 9, \\\"and coffee table; modern  pendant lamp\\\": 1, \\\"japanese leather armchair\\\": 2, \\\"minimalist others coffee table\\\": 1, \\\"coffee table and chandelier; japanese leather armchair\\\": 1, \\\"minimalist rough cloth three-seat / multi-seat sofa\\\": 3, \\\"minimalist metal bookcase / jewelry armoire\\\": 1, \\\"and television; three-seat / multi-seat sofa\\\": 1, \\\"tv stand\\\": 4, \\\"and television; japanese smooth leather three-seat / multi-seat sofa\\\": 2, \\\"japanese wood sideboard / side cabinet / console table\\\": 2, \\\"table and a lamp; sideboard / side cabinet / console table\\\": 1, \\\"southeast asia stone footstool / sofastool / bed end stool / stool\\\": 1, \\\"american country rough cloth armchair\\\": 3, \\\"and a coffee table; three-seat / multi-seat sofa\\\": 1, \\\"modern composite board dining table\\\": 1, \\\"minimalist others corner/side table\\\": 6, \\\"and coffee table; modern metal corner/side table\\\": 1, \\\"industrial others coffee table\\\": 1, \\\"table and lamp; coffee table\\\": 1, \\\"american country smooth leather armchair\\\": 1, \\\"southeast asia cloth loveseat sofa\\\": 4, \\\"minimalist others footstool / sofastool / bed end stool / stool\\\": 3, \\\"a living room with a white couch and a coffee table; industrial marble corner/side table\\\": 1, \\\"a living room with a couch and a table; three-seat / multi-seat sofa\\\": 1, \\\"a living room with a yellow couch and a coffee table; pendant lamp\\\": 1, \\\"japanese solid wood corner/side table\\\": 2, \\\"coffee table and a window; minimalist wood corner/side table\\\": 1, \\\"southeast asia rough cloth armchair\\\": 1, \\\"coffee table and a television; japanese wood sideboard / side cabinet / console table\\\": 1, \\\"armchair\\\": 6, \\\"japanese smooth leather three-seat / multi-seat sofa\\\": 3, \\\"table and a lamp; modern  pendant lamp\\\": 2, \\\"others solid wood coffee table\\\": 1, \\\"light luxury rough cloth lounge chair / cafe chair / office chair\\\": 2, \\\"and a large window; modern  ceiling lamp\\\": 1, \\\"southeast asia leather l-shaped sofa\\\": 2, \\\"industrial rough cloth armchair\\\": 1, \\\"japanese wood coffee table\\\": 3, \\\"coffee table and a television; modern rough cloth footstool / sofastool / bed end stool / stool\\\": 1, \\\"a living room with a large couch and a coffee table; southeast asia leather l-shaped sofa\\\": 1, \\\"kids  pendant lamp\\\": 2, \\\"a living room with a couch and a table; nordic composite board sideboard / side cabinet / console table\\\": 1, \\\"a living room with a couch and a table; loveseat sofa\\\": 1, \\\"modern rough cloth footstool / sofastool / bed end stool / stool\\\": 2, \\\"and coffee table; minimalist marble coffee table\\\": 1, \\\"japanese cloth loveseat sofa\\\": 2, \\\"industrial metal corner/side table\\\": 1, \\\"coffee table and bookcase; modern wood corner/side table\\\": 1, \\\"industrial cloth armchair\\\": 2, \\\"and a window; modern wood coffee table\\\": 1, \\\"japanese cloth three-seat / multi-seat sofa\\\": 2, \\\"coffee table and a painting; sideboard / side cabinet / console table\\\": 1, \\\"minimalist metal corner/side table\\\": 2, \\\"modern wood dining table\\\": 1, \\\"a living room with a chair and a book shelf; vintage/retro smooth leather lounge chair / cafe chair / office chair\\\": 1, \\\"minimalist composite board wardrobe\\\": 1, \\\"vintage/retro wood corner/side table\\\": 2, \\\"coffee table and a window; modern  pendant lamp\\\": 4, \\\"minimalist marble corner/side table\\\": 2, \\\"southeast asia cloth three-seat / multi-seat sofa\\\": 6, \\\"table and a rug; japanese wood dining table\\\": 1, \\\"japanese wood bookcase / jewelry armoire\\\": 4, \\\"minimalist composite board corner/side table\\\": 5, \\\"coffee table and a large window; modern wood drawer chest / corner cabinet\\\": 1, \\\"table and a fireplace; european  ceiling lamp\\\": 1, \\\"japanese suede armchair\\\": 1, \\\"corner/side table\\\": 2, \\\"modern marble dining table\\\": 1, \\\"and a television; japanese wood sideboard / side cabinet / console table\\\": 1, \\\"japanese cloth l-shaped sofa\\\": 5, \\\"and a dresser; japanese composition sideboard / side cabinet / console table\\\": 1, \\\"and television; japanese composition sideboard / side cabinet / console table\\\": 1, \\\"japanese composition tv stand\\\": 1, \\\"coffee table and television; modern  pendant lamp\\\": 1, \\\"coffee table and a large window; modern  ceiling lamp\\\": 1, \\\"light luxury smooth leather armchair\\\": 2, \\\"japanese composition corner/side table\\\": 2, \\\"and a painting; modern wood coffee table\\\": 1, \\\"modern composite board sideboard / side cabinet / console table\\\": 2, \\\"korean rough cloth l-shaped sofa\\\": 1, \\\"table and lamp; pendant lamp\\\": 1, \\\"light luxury wood loveseat sofa\\\": 1, \\\"coffee table and a large window; japanese cloth three-seat / multi-seat sofa\\\": 1, \\\"light luxury composition coffee table\\\": 1, \\\"modern others corner/side table\\\": 3, \\\"japanese plywood tv stand\\\": 1, \\\"coffee table and a painting; minimalist rough cloth footstool / sofastool / bed end stool / stool\\\": 1, \\\"light luxury others corner/side table\\\": 1, \\\"minimalist smooth leather armchair\\\": 1, \\\"table and a television; minimalist composite board corner/side table\\\": 1, \\\"modern smooth leather lounge chair / cafe chair / office chair\\\": 3, \\\"table and a chandelier; minimalist composite board coffee table\\\": 1, \\\"mediterranean composition corner/side table\\\": 1, \\\"a living room with a couch and a coffee table; japanese cloth three-seat / multi-seat sofa\\\": 1, \\\"chinoiserie  ceiling lamp\\\": 2, \\\"and a table; japanese cloth three-seat / multi-seat sofa\\\": 1, \\\"minimalist rough cloth lazy sofa\\\": 1, \\\"and a window; southeast asia cloth armchair\\\": 1, \\\"minimalist composite board sideboard / side cabinet / console table\\\": 2, \\\"coffee table and a window; armchair\\\": 1, \\\"coffee table and chairs; modern  pendant lamp\\\": 1, \\\"and a table; pendant lamp\\\": 1, \\\"japanese wood footstool / sofastool / bed end stool / stool\\\": 1, \\\"table and television; southeast asia composition coffee table\\\": 1, \\\"korean rough cloth footstool / sofastool / bed end stool / stool\\\": 1, \\\"minimalist marble tv stand\\\": 1, \\\"european classic wood coffee table\\\": 1, \\\"a living room with a yellow couch and a coffee table; lounge chair / cafe chair / office chair\\\": 1, \\\"southeast asia wood corner/side table\\\": 2, \\\"coffee table and a painting; light luxury rough cloth lounge chair / cafe chair / office chair\\\": 1, \\\"japanese leather three-seat / multi-seat sofa\\\": 3, \\\"minimalist wood dining table\\\": 1, \\\"table and a chandelier; dining table\\\": 1, \\\"modern marble dining chair\\\": 1, \\\"drawer chest / corner cabinet\\\": 3, \\\"modern smooth leather three-seat / multi-seat sofa\\\": 2, \\\"and a table; wine cabinet\\\": 1, \\\"american country leather lounge chair / cafe chair / office chair\\\": 1, \\\"and piano; modern  ceiling lamp\\\": 1, \\\"light luxury marble coffee table\\\": 1, \\\"table and a chandelier; american country rough cloth armchair\\\": 1, \\\"round end table\\\": 2, \\\"coffee table and television; modern wood coffee table\\\": 1, \\\"modern composite board tv stand\\\": 1, \\\"wine cabinet\\\": 2, \\\"japanese cloth armchair\\\": 4, \\\"coffee table and a painting; modern wood drawer chest / corner cabinet\\\": 1, \\\"neoclassical rough cloth sideboard / side cabinet / console table\\\": 1, \\\"minimalist composite board dining table\\\": 2, \\\"table and lamp; light luxury metal corner/side table\\\": 1, \\\"korean wood coffee table\\\": 1, \\\"southeast asia solid wood three-seat / multi-seat sofa\\\": 1, \\\"coffee table and a chandelier; japanese cloth armchair\\\": 1, \\\"vintage/retro wood three-seat / multi-seat sofa\\\": 1, \\\"ottoman and a window; modern rough cloth three-seat / multi-seat sofa\\\": 1, \\\"industrial suede armchair\\\": 1, \\\"coffee table and a window; new chinese wood lounge chair / cafe chair / office chair\\\": 1, \\\"southeast asia solid wood corner/side table\\\": 1, \\\"ming qing wood coffee table\\\": 1, \\\"coffee table and ottoman; japanese cloth three-seat / multi-seat sofa\\\": 1, \\\"minimalist rough cloth footstool / sofastool / bed end stool / stool\\\": 2, \\\"coffee table and a window; korean rough cloth three-seat / multi-seat sofa\\\": 1, \\\"american country wood corner/side table\\\": 1, \\\"table and fireplace; nordic composite board sideboard / side cabinet / console table\\\": 1, \\\"new chinese rough cloth three-seat / multi-seat sofa\\\": 1, \\\"minimalist marble dining table\\\": 1, \\\"coffee table and windows; modern rough cloth three-seat / multi-seat sofa\\\": 1, \\\"american country rough cloth coffee table\\\": 1, \\\"coffee table and a painting; modern wood coffee table\\\": 1, \\\"table and a large window; footstool / sofastool / bed end stool / stool\\\": 1, \\\"industrial composition corner/side table\\\": 1, \\\"and a window; industrial composite board coffee table\\\": 1, \\\"neoclassical rough cloth lounge chair / cafe chair / office chair\\\": 1, \\\"coffee table and a window; modern metal corner/side table\\\": 1, \\\"modern others coffee table\\\": 3, \\\"table and a television; minimalist wood tv stand\\\": 1, \\\"light luxury cloth three-seat / multi-seat sofa\\\": 1, \\\"coffee table and a lamp; modern composite board coffee table\\\": 1, \\\"modern rough cloth loveseat sofa\\\": 2, \\\"european  pendant lamp\\\": 1, \\\"and coffee table; japanese cloth three-seat / multi-seat sofa\\\": 1, \\\"minimalist rough cloth corner/side table\\\": 1, \\\"vintage/retro smooth leather lounge chair / cafe chair / office chair\\\": 2, \\\"and a window; modern rough cloth lazy sofa\\\": 1, \\\"southeast asia composition coffee table\\\": 1, \\\"a living room with a blue couch and a coffee table; minimalist others corner/side table\\\": 1, \\\"mediterranean rough cloth three-seat / multi-seat sofa\\\": 1, \\\"and a television; japanese composition coffee table\\\": 1, \\\"industrial rough cloth lounge chair / cafe chair / office chair\\\": 1, \\\"table and a painting; modern others corner/side table\\\": 1, \\\"japanese leather loveseat sofa\\\": 1, \\\"and chairs; minimalist composite board sideboard / side cabinet / console table\\\": 1, \\\"japanese solid wood coffee table\\\": 1, \\\"new chinese others footstool / sofastool / bed end stool / stool\\\": 1, \\\"coffee table and a bookcase; footstool / sofastool / bed end stool / stool\\\": 1, \\\"and lamp; modern smooth leather three-seat / multi-seat sofa\\\": 1, \\\"southeast asia cloth l-shaped sofa\\\": 1, \\\"industrial rough cloth lazy sofa\\\": 1, \\\"and a coffee table; coffee table\\\": 1, \\\"a living room with a green couch and chairs; southeast asia cloth loveseat sofa\\\": 1, \\\"japanese cloth lounge chair / cafe chair / office chair\\\": 1, \\\"a living room with a couch and a coffee table; modern others corner/side table\\\": 1, \\\"a living room with a couch and a rug; southeast asia leather three-seat / multi-seat sofa\\\": 1, \\\"korean wood drawer chest / corner cabinet\\\": 1, \\\"shelf\\\": 1, \\\"coffee table and a window; minimalist rough cloth armchair\\\": 1, \\\"coffee table and a television; modern rough cloth lounge chair / cafe chair / office chair\\\": 1, \\\"korean others coffee table\\\": 1, \\\"television and a table; vintage/retro composite board wine cabinet\\\": 1, \\\"light luxury wood tv stand\\\": 1, \\\"table and bookcase; modern  pendant lamp\\\": 1, \\\"and coffee table; footstool / sofastool / bed end stool / stool\\\": 1, \\\"japanese rough cloth three-seat / multi-seat sofa\\\": 1, \\\"coffee table and a chandelier; modern marble corner/side table\\\": 1, \\\"ottoman and coffee table; modern composite board corner/side table\\\": 1, \\\"light luxury cloth l-shaped sofa\\\": 1, \\\"neoclassical marble coffee table\\\": 1, \\\"coffee table and a painting; japanese leather armchair\\\": 1, \\\"a living room with a couch and a table; minimalist rough cloth coffee table\\\": 1, \\\"and a painting; modern composite board sideboard / side cabinet / console table\\\": 1, \\\"minimalist others drawer chest / corner cabinet\\\": 1, \\\"coffee table and a television; modern smooth leather armchair\\\": 1, \\\"ottoman and coffee table; modern rough cloth three-seat / multi-seat sofa\\\": 1, \\\"modern others armchair\\\": 1, \\\"and television; modern marble coffee table\\\": 1, \\\"southeast asia composition tv stand\\\": 1, \\\"table and a window; minimalist rough cloth armchair\\\": 1, \\\"and lamp; nordic rough cloth three-seat / multi-seat sofa\\\": 1, \\\"ottoman and coffee table; armchair\\\": 1, \\\"japanese leather lazy sofa\\\": 1, \\\"american country cloth three-seat / multi-seat sofa\\\": 1, \\\"and a television; minimalist wood bookcase / jewelry armoire\\\": 1, \\\"a living room with a couch and a table; modern composite board corner/side table\\\": 1, \\\"ottoman and a coffee table; new chinese wood drawer chest / corner cabinet\\\": 1, \\\"industrial suede lounge chair / cafe chair / office chair\\\": 1, \\\"american country rough cloth l-shaped sofa\\\": 1, \\\"coffee table and a television; light luxury rough cloth lounge chair / cafe chair / office chair\\\": 1, \\\"modern wood bookcase / jewelry armoire\\\": 1, \\\"coffee table and a chandelier; modern wood coffee table\\\": 1, \\\"coffee table and a chandelier; european  pendant lamp\\\": 1, \\\"table and a chandelier; modern wood corner/side table\\\": 1, \\\"korean rough cloth armchair\\\": 1, \\\"and lamp; minimalist rough cloth lazy sofa\\\": 1, \\\"a living room with blue leather furniture and yellow accents; scandinavian style\\\": 1, \\\"a living room with white furniture and a brown rug; scandinavian style\\\": 1, \\\"a living room with a white couch\\\": 2, \\\"chair and table; scandinavian style\\\": 2, \\\"desk and chair; scandinavian style\\\": 1, \\\"a modern living room with a television and a couch; scandinavian style\\\": 1, \\\"a living room with blue walls and orange furniture; scandinavian style\\\": 1, \\\"a living room with a glass cabinet and chairs; scandinavian style\\\": 1, \\\"a living room with a sofa\\\": 1, \\\"a chair and a bookcase; scandinavian style\\\": 1, \\\"a living room with grey furniture and bookshelves; scandinavian style\\\": 1, \\\"a colorful living room with colorful furniture and a colorful wall; scandinavian style\\\": 1, \\\"coffee table and a coffee table; scandinavian style\\\": 1, \\\"a living room with a yellow wall and a pink couch; scandinavian style\\\": 1, \\\"a living room with burgundy walls and a black and white rug; scandinavian style\\\": 1, \\\"a living room with white furniture and red shelves; scandinavian style\\\": 1, \\\"a living room with a pink and white striped couch; scandinavian style\\\": 1, \\\"a living room with white furniture and a bookcase; scandinavian style\\\": 1, \\\"coffee table and chairs; scandinavian style\\\": 1, \\\"a living room with a gray couch\\\": 1, \\\"a gray chair\\\": 1, \\\"a gray ottoman\\\": 1, \\\"a gray; scandinavian style\\\": 1}}\",\n",
            "    \"ss_text_encoder_lr\": \"5e-05\",\n",
            "    \"ss_total_batch_size\": \"4\",\n",
            "    \"ss_training_comment\": \"None\",\n",
            "    \"ss_training_finished_at\": \"1696958398.0323606\",\n",
            "    \"ss_training_started_at\": \"1696955919.7192888\",\n",
            "    \"ss_unet_lr\": \"0.0001\",\n",
            "    \"ss_v2\": \"False\",\n",
            "    \"ss_zero_terminal_snr\": \"False\",\n",
            "    \"sshs_legacy_hash\": \"1ee0f022\",\n",
            "    \"sshs_model_hash\": \"20f826fba2674ccb9766498b64563824c4fac039d9d15aec2f9ff8c9003e32a2\"\n",
            "}\n"
          ]
        },
        {
          "name": "stderr",
          "output_type": "stream",
          "text": [
            "c:\\Users\\JackChua\\miniconda3\\envs\\room\\lib\\site-packages\\safetensors\\torch.py:98: UserWarning: TypedStorage is deprecated. It will be removed in the future and UntypedStorage will be the only storage class. This should only matter to you if you are using storages directly.  To access UntypedStorage directly, use tensor.untyped_storage() instead of tensor.storage()\n",
            "  with safe_open(filename, framework=\"pt\", device=device) as f:\n"
          ]
        }
      ],
      "source": [
        "# @title ## 6.2. Interrogating LoRA Weights\n",
        "# @markdown Now you can check if your LoRA trained properly.\n",
        "import os\n",
        "import torch\n",
        "import json\n",
        "from safetensors.torch import load_file\n",
        "from safetensors.torch import safe_open\n",
        "\n",
        "# @markdown If you used `clip_skip = 2` during training, the values of `lora_te_text_model_encoder_layers_11_*` will be `0.0`, this is normal. These layers are not trained at this value of `Clip Skip`.\n",
        "network_weight = \"./LoRA/roomifai_living.safetensors\"\n",
        "verbose = False\n",
        "\n",
        "def is_safetensors(path):\n",
        "    return os.path.splitext(path)[1].lower() == \".safetensors\"\n",
        "\n",
        "def load_weight_data(file_path):\n",
        "    if is_safetensors(file_path):\n",
        "        return load_file(file_path)\n",
        "    else:\n",
        "        return torch.load(file_path, map_location=\"cuda\")\n",
        "\n",
        "def extract_lora_weights(weight_data):\n",
        "    lora_weights = [\n",
        "        (key, weight_data[key])\n",
        "        for key in weight_data.keys()\n",
        "        if \"lora_up\" in key or \"lora_down\" in key\n",
        "    ]\n",
        "    return lora_weights\n",
        "\n",
        "def print_lora_weight_stats(lora_weights):\n",
        "    print(f\"Number of LoRA modules: {len(lora_weights)}\")\n",
        "\n",
        "    for key, value in lora_weights:\n",
        "        value = value.to(torch.float32)\n",
        "        print(f\"{key}, {torch.mean(torch.abs(value))}, {torch.min(torch.abs(value))}\")\n",
        "\n",
        "def print_metadata(file_path):\n",
        "    if is_safetensors(file_path):\n",
        "        with safe_open(file_path, framework=\"pt\") as f:\n",
        "            metadata = f.metadata()\n",
        "        if metadata is not None:\n",
        "            print(f\"\\nLoad metadata for: {file_path}\")\n",
        "            print(json.dumps(metadata, indent=4))\n",
        "    else:\n",
        "        print(\"No metadata saved, your model is not in safetensors format\")\n",
        "\n",
        "def main(file_path, verbose: bool):\n",
        "    weight_data = load_weight_data(file_path)\n",
        "\n",
        "    if verbose:\n",
        "        lora_weights = extract_lora_weights(weight_data)\n",
        "        print_lora_weight_stats(lora_weights)\n",
        "\n",
        "    print_metadata(file_path)\n",
        "\n",
        "if __name__ == \"__main__\":\n",
        "    main(network_weight, verbose)"
      ]
    },
    {
      "cell_type": "code",
      "execution_count": null,
      "metadata": {
        "cellView": "form",
        "id": "FKBrTDPrcNjP"
      },
      "outputs": [],
      "source": [
        "# @title ## 6.3. Inference\n",
        "%store -r\n",
        "\n",
        "# @markdown ### LoRA Config\n",
        "# @markdown Currently, `LoHa` and `LoCon_Lycoris` are not supported. Please run `Portable Web UI` instead\n",
        "network_weight = \"\"\n",
        "network_mul = 0.7  # @param {type:\"slider\", min:-1, max:2, step:0.05}\n",
        "network_module = \"networks.lora\"\n",
        "network_args = \"\"\n",
        "\n",
        "# @markdown ### <br> General Config\n",
        "v2 = False\n",
        "v_parameterization = False\n",
        "prompt = \"masterpiece, best quality, 1girl, aqua eyes, baseball cap, blonde hair, closed mouth, earrings, green background, hat, hoop earrings, jewelry, looking at viewer, shirt, short hair, simple background, solo, upper body, yellow shirt\"  # @param {type: \"string\"}\n",
        "negative = \"lowres, bad anatomy, bad hands, text, error, missing fingers, extra digit, fewer digits, cropped, worst quality, low quality, normal quality, jpeg artifacts, signature, watermark, username, blurry\"  # @param {type: \"string\"}\n",
        "model = \"/content/pretrained_model/AnyLoRA.safetensors\"  # @param {type: \"string\"}\n",
        "vae = \"\"  # @param {type: \"string\"}\n",
        "outdir = \"/content/tmp\"  # @param {type: \"string\"}\n",
        "scale = 7  # @param {type: \"slider\", min: 1, max: 40}\n",
        "sampler = \"ddim\"  # @param [\"ddim\", \"pndm\", \"lms\", \"euler\", \"euler_a\", \"heun\", \"dpm_2\", \"dpm_2_a\", \"dpmsolver\",\"dpmsolver++\", \"dpmsingle\", \"k_lms\", \"k_euler\", \"k_euler_a\", \"k_dpm_2\", \"k_dpm_2_a\"]\n",
        "steps = 28  # @param {type: \"slider\", min: 1, max: 100}\n",
        "precision = \"fp16\"  # @param [\"fp16\", \"bf16\"] {allow-input: false}\n",
        "width = 512  # @param {type: \"integer\"}\n",
        "height = 768  # @param {type: \"integer\"}\n",
        "images_per_prompt = 4  # @param {type: \"integer\"}\n",
        "batch_size = 4  # @param {type: \"integer\"}\n",
        "clip_skip = 2  # @param {type: \"slider\", min: 1, max: 40}\n",
        "seed = -1  # @param {type: \"integer\"}\n",
        "\n",
        "final_prompt = f\"{prompt} --n {negative}\"\n",
        "\n",
        "config = {\n",
        "    \"v2\": v2,\n",
        "    \"v_parameterization\": v_parameterization,\n",
        "    \"network_module\": network_module,\n",
        "    \"network_weight\": network_weight,\n",
        "    \"network_mul\": float(network_mul),\n",
        "    \"network_args\": eval(network_args) if network_args else None,\n",
        "    \"ckpt\": model,\n",
        "    \"outdir\": outdir,\n",
        "    \"xformers\": True,\n",
        "    \"vae\": vae if vae else None,\n",
        "    \"fp16\": True,\n",
        "    \"W\": width,\n",
        "    \"H\": height,\n",
        "    \"seed\": seed if seed > 0 else None,\n",
        "    \"scale\": scale,\n",
        "    \"sampler\": sampler,\n",
        "    \"steps\": steps,\n",
        "    \"max_embeddings_multiples\": 3,\n",
        "    \"batch_size\": batch_size,\n",
        "    \"images_per_prompt\": images_per_prompt,\n",
        "    \"clip_skip\": clip_skip if not v2 else None,\n",
        "    \"prompt\": final_prompt,\n",
        "}\n",
        "\n",
        "args = \"\"\n",
        "for k, v in config.items():\n",
        "    if k.startswith(\"_\"):\n",
        "        args += f'\"{v}\" '\n",
        "    elif isinstance(v, str):\n",
        "        args += f'--{k}=\"{v}\" '\n",
        "    elif isinstance(v, bool) and v:\n",
        "        args += f\"--{k} \"\n",
        "    elif isinstance(v, float) and not isinstance(v, bool):\n",
        "        args += f\"--{k}={v} \"\n",
        "    elif isinstance(v, int) and not isinstance(v, bool):\n",
        "        args += f\"--{k}={v} \"\n",
        "\n",
        "final_args = f\"python gen_img_diffusers.py {args}\"\n",
        "\n",
        "# os.chdir(repo_dir)\n",
        "!{final_args}"
      ]
    }
  ],
  "metadata": {
    "accelerator": "GPU",
    "colab": {
      "provenance": []
    },
    "gpuClass": "standard",
    "kernelspec": {
      "display_name": "Python 3.9.17 ('room')",
      "language": "python",
      "name": "python3"
    },
    "language_info": {
      "codemirror_mode": {
        "name": "ipython",
        "version": 3
      },
      "file_extension": ".py",
      "mimetype": "text/x-python",
      "name": "python",
      "nbconvert_exporter": "python",
      "pygments_lexer": "ipython3",
      "version": "3.9.17"
    },
    "vscode": {
      "interpreter": {
        "hash": "33e8c653b61fcd30db27bb9bf153aa9abf8c95d57f0a0708ce05bf3f3ed84366"
      }
    }
  },
  "nbformat": 4,
  "nbformat_minor": 0
}
