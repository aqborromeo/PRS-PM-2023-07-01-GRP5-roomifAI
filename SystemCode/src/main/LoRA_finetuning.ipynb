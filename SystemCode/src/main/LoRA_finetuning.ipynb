{
  "cells": [
    {
      "attachments": {},
      "cell_type": "markdown",
      "metadata": {
        "id": "slgjeYgd6pWp"
      },
      "source": [
        "# **Stable Diffusion - LoRA**"
      ]
    },
    {
      "attachments": {},
      "cell_type": "markdown",
      "metadata": {
        "id": "tTVqCAgSmie4"
      },
      "source": [
        "# I. Installation"
      ]
    },
    {
      "cell_type": "code",
      "execution_count": 1,
      "metadata": {
        "cellView": "form",
        "id": "_u3q60di584x"
      },
      "outputs": [],
      "source": [
        "# @title ## Install Dependencies\n",
        "import os\n",
        "import zipfile\n",
        "import shutil\n",
        "import time\n",
        "from subprocess import getoutput\n",
        "from IPython.utils import capture\n",
        "from run_training import train_model"
      ]
    },
    {
      "attachments": {},
      "cell_type": "markdown",
      "metadata": {
        "id": "yHNbl3O_NSS0"
      },
      "source": [
        "# Model Training \n",
        "\n"
      ]
    },
    {
      "cell_type": "code",
      "execution_count": 2,
      "metadata": {
        "cellView": "form",
        "id": "H_Q23fUEJhnC"
      },
      "outputs": [],
      "source": [
        "# @title ## Model Config\n",
        "# Change the key to:\n",
        "# - living\n",
        "# - bedroom\n",
        "# - dining\n",
        "import json\n",
        "\n",
        "# Uncomment the config file lines for the respective rooms\n",
        "config_path = './train/LoRA/config/living-config.json'\n",
        "# config_path = './train/LoRA/config/bedroom-config.json'\n",
        "# config_path = './train/LoRA/config/dining-config.json'\n",
        "\n",
        "with open(config_path) as json_file:\n",
        "    configs = json.load(json_file)"
      ]
    },
    {
      "cell_type": "code",
      "execution_count": 4,
      "metadata": {
        "cellView": "form",
        "id": "p_SHtbFwHVl1"
      },
      "outputs": [
        {
          "data": {
            "text/html": [
              "<pre style=\"white-space:pre;overflow-x:auto;line-height:normal;font-family:Menlo,'DejaVu Sans Mono',consolas,'Courier New',monospace\"><span style=\"color: #7fbfbf; text-decoration-color: #7fbfbf\">01:41:54-426821 </span><span style=\"color: #000080; text-decoration-color: #000080\">INFO    </span> Start training LoRA Standard <span style=\"color: #808000; text-decoration-color: #808000\">...</span>                                                          \n",
              "</pre>\n"
            ],
            "text/plain": [
              "\u001b[2;36m01:41:54-426821\u001b[0m\u001b[2;36m \u001b[0m\u001b[34mINFO    \u001b[0m Start training LoRA Standard \u001b[33m...\u001b[0m                                                          \n"
            ]
          },
          "metadata": {},
          "output_type": "display_data"
        },
        {
          "data": {
            "text/html": [
              "<pre style=\"white-space:pre;overflow-x:auto;line-height:normal;font-family:Menlo,'DejaVu Sans Mono',consolas,'Courier New',monospace\"><span style=\"color: #7fbfbf; text-decoration-color: #7fbfbf\">01:41:54-440772 </span><span style=\"color: #000080; text-decoration-color: #000080\">INFO    </span> Checking for duplicate image filenames in training data directory<span style=\"color: #808000; text-decoration-color: #808000\">...</span>                      \n",
              "</pre>\n"
            ],
            "text/plain": [
              "\u001b[2;36m01:41:54-440772\u001b[0m\u001b[2;36m \u001b[0m\u001b[34mINFO    \u001b[0m Checking for duplicate image filenames in training data directory\u001b[33m...\u001b[0m                      \n"
            ]
          },
          "metadata": {},
          "output_type": "display_data"
        },
        {
          "data": {
            "text/html": [
              "<pre style=\"white-space:pre;overflow-x:auto;line-height:normal;font-family:Menlo,'DejaVu Sans Mono',consolas,'Courier New',monospace\"><span style=\"color: #7fbfbf; text-decoration-color: #7fbfbf\">01:41:54-447276 </span><span style=\"color: #000080; text-decoration-color: #000080\">INFO    </span> Valid image folder names found in:                                                        \n",
              "<span style=\"color: #7fbfbf; text-decoration-color: #7fbfbf\">                </span>         C:<span style=\"color: #800080; text-decoration-color: #800080\">/Users/JackChua/Projects/NUS/SEM02/PRS-PM-2023-07-01-GRP5-roomifAI/SystemCode/src/main/t</span>\n",
              "<span style=\"color: #7fbfbf; text-decoration-color: #7fbfbf\">                </span>         <span style=\"color: #800080; text-decoration-color: #800080\">rain/LoRA/</span><span style=\"color: #ff00ff; text-decoration-color: #ff00ff\">train_data</span>                                                                      \n",
              "</pre>\n"
            ],
            "text/plain": [
              "\u001b[2;36m01:41:54-447276\u001b[0m\u001b[2;36m \u001b[0m\u001b[34mINFO    \u001b[0m Valid image folder names found in:                                                        \n",
              "\u001b[2;36m                \u001b[0m         C:\u001b[35m/Users/JackChua/Projects/NUS/SEM02/PRS-PM-2023-07-01-GRP5-roomifAI/SystemCode/src/main/t\u001b[0m\n",
              "\u001b[2;36m                \u001b[0m         \u001b[35mrain/LoRA/\u001b[0m\u001b[95mtrain_data\u001b[0m                                                                      \n"
            ]
          },
          "metadata": {},
          "output_type": "display_data"
        },
        {
          "data": {
            "text/html": [
              "<pre style=\"white-space:pre;overflow-x:auto;line-height:normal;font-family:Menlo,'DejaVu Sans Mono',consolas,'Courier New',monospace\"><span style=\"color: #7fbfbf; text-decoration-color: #7fbfbf\">01:41:54-450297 </span><span style=\"color: #000080; text-decoration-color: #000080\">INFO    </span> Headless mode, skipping verification if model already exist<span style=\"color: #808000; text-decoration-color: #808000\">...</span> if model already exist it  \n",
              "<span style=\"color: #7fbfbf; text-decoration-color: #7fbfbf\">                </span>         will be overwritten<span style=\"color: #808000; text-decoration-color: #808000\">...</span>                                                                    \n",
              "</pre>\n"
            ],
            "text/plain": [
              "\u001b[2;36m01:41:54-450297\u001b[0m\u001b[2;36m \u001b[0m\u001b[34mINFO    \u001b[0m Headless mode, skipping verification if model already exist\u001b[33m...\u001b[0m if model already exist it  \n",
              "\u001b[2;36m                \u001b[0m         will be overwritten\u001b[33m...\u001b[0m                                                                    \n"
            ]
          },
          "metadata": {},
          "output_type": "display_data"
        },
        {
          "data": {
            "text/html": [
              "<pre style=\"white-space:pre;overflow-x:auto;line-height:normal;font-family:Menlo,'DejaVu Sans Mono',consolas,'Courier New',monospace\"><span style=\"color: #7fbfbf; text-decoration-color: #7fbfbf\">01:41:54-455363 </span><span style=\"color: #000080; text-decoration-color: #000080\">INFO    </span> Folder 10_living: <span style=\"color: #008080; text-decoration-color: #008080; font-weight: bold\">160</span> images found                                                        \n",
              "</pre>\n"
            ],
            "text/plain": [
              "\u001b[2;36m01:41:54-455363\u001b[0m\u001b[2;36m \u001b[0m\u001b[34mINFO    \u001b[0m Folder 10_living: \u001b[1;36m160\u001b[0m images found                                                        \n"
            ]
          },
          "metadata": {},
          "output_type": "display_data"
        },
        {
          "data": {
            "text/html": [
              "<pre style=\"white-space:pre;overflow-x:auto;line-height:normal;font-family:Menlo,'DejaVu Sans Mono',consolas,'Courier New',monospace\"><span style=\"color: #7fbfbf; text-decoration-color: #7fbfbf\">01:41:54-458886 </span><span style=\"color: #000080; text-decoration-color: #000080\">INFO    </span> Folder 10_living: <span style=\"color: #008080; text-decoration-color: #008080; font-weight: bold\">1600</span> steps                                                              \n",
              "</pre>\n"
            ],
            "text/plain": [
              "\u001b[2;36m01:41:54-458886\u001b[0m\u001b[2;36m \u001b[0m\u001b[34mINFO    \u001b[0m Folder 10_living: \u001b[1;36m1600\u001b[0m steps                                                              \n"
            ]
          },
          "metadata": {},
          "output_type": "display_data"
        },
        {
          "data": {
            "text/html": [
              "<pre style=\"white-space:pre;overflow-x:auto;line-height:normal;font-family:Menlo,'DejaVu Sans Mono',consolas,'Courier New',monospace\"><span style=\"color: #7fbfbf; text-decoration-color: #7fbfbf\">01:41:54-461321 </span><span style=\"color: #000080; text-decoration-color: #000080\">INFO    </span> Total steps: <span style=\"color: #008080; text-decoration-color: #008080; font-weight: bold\">1600</span>                                                                         \n",
              "</pre>\n"
            ],
            "text/plain": [
              "\u001b[2;36m01:41:54-461321\u001b[0m\u001b[2;36m \u001b[0m\u001b[34mINFO    \u001b[0m Total steps: \u001b[1;36m1600\u001b[0m                                                                         \n"
            ]
          },
          "metadata": {},
          "output_type": "display_data"
        },
        {
          "data": {
            "text/html": [
              "<pre style=\"white-space:pre;overflow-x:auto;line-height:normal;font-family:Menlo,'DejaVu Sans Mono',consolas,'Courier New',monospace\"><span style=\"color: #7fbfbf; text-decoration-color: #7fbfbf\">01:41:54-464526 </span><span style=\"color: #000080; text-decoration-color: #000080\">INFO    </span> Train batch size: <span style=\"color: #008080; text-decoration-color: #008080; font-weight: bold\">1</span>                                                                       \n",
              "</pre>\n"
            ],
            "text/plain": [
              "\u001b[2;36m01:41:54-464526\u001b[0m\u001b[2;36m \u001b[0m\u001b[34mINFO    \u001b[0m Train batch size: \u001b[1;36m1\u001b[0m                                                                       \n"
            ]
          },
          "metadata": {},
          "output_type": "display_data"
        },
        {
          "data": {
            "text/html": [
              "<pre style=\"white-space:pre;overflow-x:auto;line-height:normal;font-family:Menlo,'DejaVu Sans Mono',consolas,'Courier New',monospace\"><span style=\"color: #7fbfbf; text-decoration-color: #7fbfbf\">01:41:54-467535 </span><span style=\"color: #000080; text-decoration-color: #000080\">INFO    </span> Gradient accumulation steps: <span style=\"color: #008080; text-decoration-color: #008080; font-weight: bold\">4</span>                                                            \n",
              "</pre>\n"
            ],
            "text/plain": [
              "\u001b[2;36m01:41:54-467535\u001b[0m\u001b[2;36m \u001b[0m\u001b[34mINFO    \u001b[0m Gradient accumulation steps: \u001b[1;36m4\u001b[0m                                                            \n"
            ]
          },
          "metadata": {},
          "output_type": "display_data"
        },
        {
          "data": {
            "text/html": [
              "<pre style=\"white-space:pre;overflow-x:auto;line-height:normal;font-family:Menlo,'DejaVu Sans Mono',consolas,'Courier New',monospace\"><span style=\"color: #7fbfbf; text-decoration-color: #7fbfbf\">01:41:54-470534 </span><span style=\"color: #000080; text-decoration-color: #000080\">INFO    </span> Epoch: <span style=\"color: #008080; text-decoration-color: #008080; font-weight: bold\">1</span>                                                                                  \n",
              "</pre>\n"
            ],
            "text/plain": [
              "\u001b[2;36m01:41:54-470534\u001b[0m\u001b[2;36m \u001b[0m\u001b[34mINFO    \u001b[0m Epoch: \u001b[1;36m1\u001b[0m                                                                                  \n"
            ]
          },
          "metadata": {},
          "output_type": "display_data"
        },
        {
          "data": {
            "text/html": [
              "<pre style=\"white-space:pre;overflow-x:auto;line-height:normal;font-family:Menlo,'DejaVu Sans Mono',consolas,'Courier New',monospace\"><span style=\"color: #7fbfbf; text-decoration-color: #7fbfbf\">01:41:54-473533 </span><span style=\"color: #000080; text-decoration-color: #000080\">INFO    </span> Regulatization factor: <span style=\"color: #008080; text-decoration-color: #008080; font-weight: bold\">1</span>                                                                  \n",
              "</pre>\n"
            ],
            "text/plain": [
              "\u001b[2;36m01:41:54-473533\u001b[0m\u001b[2;36m \u001b[0m\u001b[34mINFO    \u001b[0m Regulatization factor: \u001b[1;36m1\u001b[0m                                                                  \n"
            ]
          },
          "metadata": {},
          "output_type": "display_data"
        },
        {
          "data": {
            "text/html": [
              "<pre style=\"white-space:pre;overflow-x:auto;line-height:normal;font-family:Menlo,'DejaVu Sans Mono',consolas,'Courier New',monospace\"><span style=\"color: #7fbfbf; text-decoration-color: #7fbfbf\">01:41:54-477628 </span><span style=\"color: #000080; text-decoration-color: #000080\">INFO    </span> max_train_steps <span style=\"font-weight: bold\">(</span><span style=\"color: #008080; text-decoration-color: #008080; font-weight: bold\">1600</span> <span style=\"color: #800080; text-decoration-color: #800080\">/</span> <span style=\"color: #008080; text-decoration-color: #008080; font-weight: bold\">1</span> <span style=\"color: #800080; text-decoration-color: #800080\">/</span> <span style=\"color: #008080; text-decoration-color: #008080; font-weight: bold\">4</span> * <span style=\"color: #008080; text-decoration-color: #008080; font-weight: bold\">1</span> * <span style=\"color: #008080; text-decoration-color: #008080; font-weight: bold\">1</span><span style=\"font-weight: bold\">)</span> = <span style=\"color: #008080; text-decoration-color: #008080; font-weight: bold\">400</span>                                              \n",
              "</pre>\n"
            ],
            "text/plain": [
              "\u001b[2;36m01:41:54-477628\u001b[0m\u001b[2;36m \u001b[0m\u001b[34mINFO    \u001b[0m max_train_steps \u001b[1m(\u001b[0m\u001b[1;36m1600\u001b[0m \u001b[35m/\u001b[0m \u001b[1;36m1\u001b[0m \u001b[35m/\u001b[0m \u001b[1;36m4\u001b[0m * \u001b[1;36m1\u001b[0m * \u001b[1;36m1\u001b[0m\u001b[1m)\u001b[0m = \u001b[1;36m400\u001b[0m                                              \n"
            ]
          },
          "metadata": {},
          "output_type": "display_data"
        },
        {
          "data": {
            "text/html": [
              "<pre style=\"white-space:pre;overflow-x:auto;line-height:normal;font-family:Menlo,'DejaVu Sans Mono',consolas,'Courier New',monospace\"><span style=\"color: #7fbfbf; text-decoration-color: #7fbfbf\">01:41:54-483059 </span><span style=\"color: #000080; text-decoration-color: #000080\">INFO    </span> stop_text_encoder_training = <span style=\"color: #008080; text-decoration-color: #008080; font-weight: bold\">0</span>                                                            \n",
              "</pre>\n"
            ],
            "text/plain": [
              "\u001b[2;36m01:41:54-483059\u001b[0m\u001b[2;36m \u001b[0m\u001b[34mINFO    \u001b[0m stop_text_encoder_training = \u001b[1;36m0\u001b[0m                                                            \n"
            ]
          },
          "metadata": {},
          "output_type": "display_data"
        },
        {
          "data": {
            "text/html": [
              "<pre style=\"white-space:pre;overflow-x:auto;line-height:normal;font-family:Menlo,'DejaVu Sans Mono',consolas,'Courier New',monospace\"><span style=\"color: #7fbfbf; text-decoration-color: #7fbfbf\">01:41:54-486466 </span><span style=\"color: #000080; text-decoration-color: #000080\">INFO    </span> lr_warmup_steps = <span style=\"color: #008080; text-decoration-color: #008080; font-weight: bold\">40</span>                                                                      \n",
              "</pre>\n"
            ],
            "text/plain": [
              "\u001b[2;36m01:41:54-486466\u001b[0m\u001b[2;36m \u001b[0m\u001b[34mINFO    \u001b[0m lr_warmup_steps = \u001b[1;36m40\u001b[0m                                                                      \n"
            ]
          },
          "metadata": {},
          "output_type": "display_data"
        },
        {
          "data": {
            "text/html": [
              "<pre style=\"white-space:pre;overflow-x:auto;line-height:normal;font-family:Menlo,'DejaVu Sans Mono',consolas,'Courier New',monospace\"><span style=\"color: #7fbfbf; text-decoration-color: #7fbfbf\">01:41:54-491107 </span><span style=\"color: #000080; text-decoration-color: #000080\">INFO    </span> Saving training config to                                                                 \n",
              "<span style=\"color: #7fbfbf; text-decoration-color: #7fbfbf\">                </span>         C:<span style=\"color: #800080; text-decoration-color: #800080\">/Users/JackChua/Projects/NUS/SEM02/PRS-PM-2023-07-01-GRP5-roomifAI/SystemCode/src/main/t</span>\n",
              "<span style=\"color: #7fbfbf; text-decoration-color: #7fbfbf\">                </span>         <span style=\"color: #800080; text-decoration-color: #800080\">rain/LoRA/</span><span style=\"color: #ff00ff; text-decoration-color: #ff00ff\">output</span>\\roomifai_living_20231024-<span style=\"color: #008080; text-decoration-color: #008080; font-weight: bold\">014154.j</span>son<span style=\"color: #808000; text-decoration-color: #808000\">...</span>                                  \n",
              "</pre>\n"
            ],
            "text/plain": [
              "\u001b[2;36m01:41:54-491107\u001b[0m\u001b[2;36m \u001b[0m\u001b[34mINFO    \u001b[0m Saving training config to                                                                 \n",
              "\u001b[2;36m                \u001b[0m         C:\u001b[35m/Users/JackChua/Projects/NUS/SEM02/PRS-PM-2023-07-01-GRP5-roomifAI/SystemCode/src/main/t\u001b[0m\n",
              "\u001b[2;36m                \u001b[0m         \u001b[35mrain/LoRA/\u001b[0m\u001b[95moutput\u001b[0m\\roomifai_living_20231024-\u001b[1;36m014154.j\u001b[0mson\u001b[33m...\u001b[0m                                  \n"
            ]
          },
          "metadata": {},
          "output_type": "display_data"
        },
        {
          "data": {
            "text/html": [
              "<pre style=\"white-space:pre;overflow-x:auto;line-height:normal;font-family:Menlo,'DejaVu Sans Mono',consolas,'Courier New',monospace\"><span style=\"color: #7fbfbf; text-decoration-color: #7fbfbf\">01:41:54-497128 </span><span style=\"color: #000080; text-decoration-color: #000080\">INFO    </span> accelerate launch --<span style=\"color: #808000; text-decoration-color: #808000\">num_cpu_threads_per_process</span>=<span style=\"color: #008080; text-decoration-color: #008080; font-weight: bold\">2</span> <span style=\"color: #008000; text-decoration-color: #008000\">\"./train_network.py\"</span> --enable_bucket    \n",
              "<span style=\"color: #7fbfbf; text-decoration-color: #7fbfbf\">                </span>         --<span style=\"color: #808000; text-decoration-color: #808000\">min_bucket_reso</span>=<span style=\"color: #008080; text-decoration-color: #008080; font-weight: bold\">256</span> --<span style=\"color: #808000; text-decoration-color: #808000\">max_bucket_reso</span>=<span style=\"color: #008080; text-decoration-color: #008080; font-weight: bold\">2048</span>                                              \n",
              "<span style=\"color: #7fbfbf; text-decoration-color: #7fbfbf\">                </span>         --<span style=\"color: #808000; text-decoration-color: #808000\">pretrained_model_name_or_path</span>=<span style=\"color: #008000; text-decoration-color: #008000\">\"runwayml/stable-diffusion-v1-5\"</span>                          \n",
              "<span style=\"color: #7fbfbf; text-decoration-color: #7fbfbf\">                </span>         --<span style=\"color: #808000; text-decoration-color: #808000\">train_data_dir</span>=<span style=\"color: #008000; text-decoration-color: #008000\">\"C:/Users/JackChua/Projects/NUS/SEM02/PRS-PM-2023-07-01-GRP5-roomifAI/Sys</span>\n",
              "<span style=\"color: #7fbfbf; text-decoration-color: #7fbfbf\">                </span>         <span style=\"color: #008000; text-decoration-color: #008000\">temCode/src/main/train/LoRA/train_data\"</span> --<span style=\"color: #808000; text-decoration-color: #808000\">resolution</span>=<span style=\"color: #008000; text-decoration-color: #008000\">\"512,512\"</span>                            \n",
              "<span style=\"color: #7fbfbf; text-decoration-color: #7fbfbf\">                </span>         --<span style=\"color: #808000; text-decoration-color: #808000\">output_dir</span>=<span style=\"color: #008000; text-decoration-color: #008000\">\"C:/Users/JackChua/Projects/NUS/SEM02/PRS-PM-2023-07-01-GRP5-roomifAI/SystemC</span>\n",
              "<span style=\"color: #7fbfbf; text-decoration-color: #7fbfbf\">                </span>         <span style=\"color: #008000; text-decoration-color: #008000\">ode/src/main/train/LoRA/output\"</span>                                                           \n",
              "<span style=\"color: #7fbfbf; text-decoration-color: #7fbfbf\">                </span>         --<span style=\"color: #808000; text-decoration-color: #808000\">logging_dir</span>=<span style=\"color: #008000; text-decoration-color: #008000\">\"C:/Users/JackChua/Projects/NUS/SEM02/PRS-PM-2023-07-01-GRP5-roomifAI/System</span>\n",
              "<span style=\"color: #7fbfbf; text-decoration-color: #7fbfbf\">                </span>         <span style=\"color: #008000; text-decoration-color: #008000\">Code/src/main/train/LoRA/logs\"</span> --<span style=\"color: #808000; text-decoration-color: #808000\">network_alpha</span>=<span style=\"color: #008000; text-decoration-color: #008000\">\"1\"</span> --<span style=\"color: #808000; text-decoration-color: #808000\">save_model_as</span>=<span style=\"color: #800080; text-decoration-color: #800080\">safetensors</span>            \n",
              "<span style=\"color: #7fbfbf; text-decoration-color: #7fbfbf\">                </span>         --<span style=\"color: #808000; text-decoration-color: #808000\">network_module</span>=<span style=\"color: #800080; text-decoration-color: #800080\">networks</span>.lora --<span style=\"color: #808000; text-decoration-color: #808000\">text_encoder_lr</span>=<span style=\"color: #008080; text-decoration-color: #008080; font-weight: bold\">5e-05</span> --<span style=\"color: #808000; text-decoration-color: #808000\">unet_lr</span>=<span style=\"color: #008080; text-decoration-color: #008080; font-weight: bold\">0.0001</span> --<span style=\"color: #808000; text-decoration-color: #808000\">network_dim</span>=<span style=\"color: #008080; text-decoration-color: #008080; font-weight: bold\">8</span>   \n",
              "<span style=\"color: #7fbfbf; text-decoration-color: #7fbfbf\">                </span>         --<span style=\"color: #808000; text-decoration-color: #808000\">gradient_accumulation_steps</span>=<span style=\"color: #008080; text-decoration-color: #008080; font-weight: bold\">4</span> --<span style=\"color: #808000; text-decoration-color: #808000\">output_name</span>=<span style=\"color: #008000; text-decoration-color: #008000\">\"roomifai_living\"</span>                           \n",
              "<span style=\"color: #7fbfbf; text-decoration-color: #7fbfbf\">                </span>         --<span style=\"color: #808000; text-decoration-color: #808000\">lr_scheduler_num_cycles</span>=<span style=\"color: #008000; text-decoration-color: #008000\">\"1\"</span> --no_half_vae --<span style=\"color: #808000; text-decoration-color: #808000\">learning_rate</span>=<span style=\"color: #008000; text-decoration-color: #008000\">\"0.0001\"</span>                      \n",
              "<span style=\"color: #7fbfbf; text-decoration-color: #7fbfbf\">                </span>         --<span style=\"color: #808000; text-decoration-color: #808000\">lr_scheduler</span>=<span style=\"color: #008000; text-decoration-color: #008000\">\"cosine\"</span> --<span style=\"color: #808000; text-decoration-color: #808000\">lr_warmup_steps</span>=<span style=\"color: #008000; text-decoration-color: #008000\">\"40\"</span> --<span style=\"color: #808000; text-decoration-color: #808000\">train_batch_size</span>=<span style=\"color: #008000; text-decoration-color: #008000\">\"1\"</span>                     \n",
              "<span style=\"color: #7fbfbf; text-decoration-color: #7fbfbf\">                </span>         --<span style=\"color: #808000; text-decoration-color: #808000\">max_train_steps</span>=<span style=\"color: #008000; text-decoration-color: #008000\">\"400\"</span> --<span style=\"color: #808000; text-decoration-color: #808000\">save_every_n_epochs</span>=<span style=\"color: #008000; text-decoration-color: #008000\">\"1\"</span> --<span style=\"color: #808000; text-decoration-color: #808000\">mixed_precision</span>=<span style=\"color: #008000; text-decoration-color: #008000\">\"fp16\"</span>                \n",
              "<span style=\"color: #7fbfbf; text-decoration-color: #7fbfbf\">                </span>         --<span style=\"color: #808000; text-decoration-color: #808000\">save_precision</span>=<span style=\"color: #008000; text-decoration-color: #008000\">\"fp16\"</span> --<span style=\"color: #808000; text-decoration-color: #808000\">caption_extension</span>=<span style=\"color: #008000; text-decoration-color: #008000\">\".txt\"</span> --cache_latents                        \n",
              "<span style=\"color: #7fbfbf; text-decoration-color: #7fbfbf\">                </span>         --<span style=\"color: #808000; text-decoration-color: #808000\">optimizer_type</span>=<span style=\"color: #008000; text-decoration-color: #008000\">\"AdamW8bit\"</span> --<span style=\"color: #808000; text-decoration-color: #808000\">max_data_loader_n_workers</span>=<span style=\"color: #008000; text-decoration-color: #008000\">\"0\"</span> --<span style=\"color: #808000; text-decoration-color: #808000\">bucket_reso_steps</span>=<span style=\"color: #008080; text-decoration-color: #008080; font-weight: bold\">64</span>       \n",
              "<span style=\"color: #7fbfbf; text-decoration-color: #7fbfbf\">                </span>         --<span style=\"color: #808000; text-decoration-color: #808000\">save_every_n_steps</span>=<span style=\"color: #008000; text-decoration-color: #008000\">\"100\"</span> --bucket_no_upscale --<span style=\"color: #808000; text-decoration-color: #808000\">noise_offset</span>=<span style=\"color: #008080; text-decoration-color: #008080; font-weight: bold\">0.0</span>                         \n",
              "</pre>\n"
            ],
            "text/plain": [
              "\u001b[2;36m01:41:54-497128\u001b[0m\u001b[2;36m \u001b[0m\u001b[34mINFO    \u001b[0m accelerate launch --\u001b[33mnum_cpu_threads_per_process\u001b[0m=\u001b[1;36m2\u001b[0m \u001b[32m\"./train_network.py\"\u001b[0m --enable_bucket    \n",
              "\u001b[2;36m                \u001b[0m         --\u001b[33mmin_bucket_reso\u001b[0m=\u001b[1;36m256\u001b[0m --\u001b[33mmax_bucket_reso\u001b[0m=\u001b[1;36m2048\u001b[0m                                              \n",
              "\u001b[2;36m                \u001b[0m         --\u001b[33mpretrained_model_name_or_path\u001b[0m=\u001b[32m\"runwayml\u001b[0m\u001b[32m/stable-diffusion-v1-5\"\u001b[0m                          \n",
              "\u001b[2;36m                \u001b[0m         --\u001b[33mtrain_data_dir\u001b[0m=\u001b[32m\"C\u001b[0m\u001b[32m:/Users/JackChua/Projects/NUS/SEM02/PRS-PM-2023-07-01-GRP5-roomifAI/Sys\u001b[0m\n",
              "\u001b[2;36m                \u001b[0m         \u001b[32mtemCode/src/main/train/LoRA/train_data\"\u001b[0m --\u001b[33mresolution\u001b[0m=\u001b[32m\"512\u001b[0m\u001b[32m,512\"\u001b[0m                            \n",
              "\u001b[2;36m                \u001b[0m         --\u001b[33moutput_dir\u001b[0m=\u001b[32m\"C\u001b[0m\u001b[32m:/Users/JackChua/Projects/NUS/SEM02/PRS-PM-2023-07-01-GRP5-roomifAI/SystemC\u001b[0m\n",
              "\u001b[2;36m                \u001b[0m         \u001b[32mode/src/main/train/LoRA/output\"\u001b[0m                                                           \n",
              "\u001b[2;36m                \u001b[0m         --\u001b[33mlogging_dir\u001b[0m=\u001b[32m\"C\u001b[0m\u001b[32m:/Users/JackChua/Projects/NUS/SEM02/PRS-PM-2023-07-01-GRP5-roomifAI/System\u001b[0m\n",
              "\u001b[2;36m                \u001b[0m         \u001b[32mCode/src/main/train/LoRA/logs\"\u001b[0m --\u001b[33mnetwork_alpha\u001b[0m=\u001b[32m\"1\"\u001b[0m --\u001b[33msave_model_as\u001b[0m=\u001b[35msafetensors\u001b[0m            \n",
              "\u001b[2;36m                \u001b[0m         --\u001b[33mnetwork_module\u001b[0m=\u001b[35mnetworks\u001b[0m.lora --\u001b[33mtext_encoder_lr\u001b[0m=\u001b[1;36m5e\u001b[0m\u001b[1;36m-05\u001b[0m --\u001b[33munet_lr\u001b[0m=\u001b[1;36m0\u001b[0m\u001b[1;36m.0001\u001b[0m --\u001b[33mnetwork_dim\u001b[0m=\u001b[1;36m8\u001b[0m   \n",
              "\u001b[2;36m                \u001b[0m         --\u001b[33mgradient_accumulation_steps\u001b[0m=\u001b[1;36m4\u001b[0m --\u001b[33moutput_name\u001b[0m=\u001b[32m\"roomifai_living\"\u001b[0m                           \n",
              "\u001b[2;36m                \u001b[0m         --\u001b[33mlr_scheduler_num_cycles\u001b[0m=\u001b[32m\"1\"\u001b[0m --no_half_vae --\u001b[33mlearning_rate\u001b[0m=\u001b[32m\"0\u001b[0m\u001b[32m.0001\"\u001b[0m                      \n",
              "\u001b[2;36m                \u001b[0m         --\u001b[33mlr_scheduler\u001b[0m=\u001b[32m\"cosine\"\u001b[0m --\u001b[33mlr_warmup_steps\u001b[0m=\u001b[32m\"40\"\u001b[0m --\u001b[33mtrain_batch_size\u001b[0m=\u001b[32m\"1\"\u001b[0m                     \n",
              "\u001b[2;36m                \u001b[0m         --\u001b[33mmax_train_steps\u001b[0m=\u001b[32m\"400\"\u001b[0m --\u001b[33msave_every_n_epochs\u001b[0m=\u001b[32m\"1\"\u001b[0m --\u001b[33mmixed_precision\u001b[0m=\u001b[32m\"fp16\"\u001b[0m                \n",
              "\u001b[2;36m                \u001b[0m         --\u001b[33msave_precision\u001b[0m=\u001b[32m\"fp16\"\u001b[0m --\u001b[33mcaption_extension\u001b[0m=\u001b[32m\".txt\"\u001b[0m --cache_latents                        \n",
              "\u001b[2;36m                \u001b[0m         --\u001b[33moptimizer_type\u001b[0m=\u001b[32m\"AdamW8bit\"\u001b[0m --\u001b[33mmax_data_loader_n_workers\u001b[0m=\u001b[32m\"0\"\u001b[0m --\u001b[33mbucket_reso_steps\u001b[0m=\u001b[1;36m64\u001b[0m       \n",
              "\u001b[2;36m                \u001b[0m         --\u001b[33msave_every_n_steps\u001b[0m=\u001b[32m\"100\"\u001b[0m --bucket_no_upscale --\u001b[33mnoise_offset\u001b[0m=\u001b[1;36m0\u001b[0m\u001b[1;36m.0\u001b[0m                         \n"
            ]
          },
          "metadata": {},
          "output_type": "display_data"
        }
      ],
      "source": [
        "#@title ## Start Training\n",
        "# Replace invalid config params\n",
        "if 'stop_text_encoder_training' in configs:\n",
        "    configs['stop_text_encoder_training_pct'] = configs.pop('stop_text_encoder_training')\n",
        "\n",
        "train_model(headless=True, print_only=False, **configs)"
      ]
    },
    {
      "cell_type": "code",
      "execution_count": null,
      "metadata": {},
      "outputs": [],
      "source": []
    }
  ],
  "metadata": {
    "accelerator": "GPU",
    "colab": {
      "provenance": []
    },
    "gpuClass": "standard",
    "kernelspec": {
      "display_name": "Python 3.9.17 ('room')",
      "language": "python",
      "name": "python3"
    },
    "language_info": {
      "codemirror_mode": {
        "name": "ipython",
        "version": 3
      },
      "file_extension": ".py",
      "mimetype": "text/x-python",
      "name": "python",
      "nbconvert_exporter": "python",
      "pygments_lexer": "ipython3",
      "version": "3.9.17"
    },
    "vscode": {
      "interpreter": {
        "hash": "33e8c653b61fcd30db27bb9bf153aa9abf8c95d57f0a0708ce05bf3f3ed84366"
      }
    }
  },
  "nbformat": 4,
  "nbformat_minor": 0
}
