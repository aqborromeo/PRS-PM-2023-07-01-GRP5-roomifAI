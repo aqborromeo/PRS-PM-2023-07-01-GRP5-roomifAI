{
 "cells": [
  {
   "cell_type": "code",
   "execution_count": 2,
   "metadata": {},
   "outputs": [],
   "source": [
    "import polars as pl\n",
    "import json\n",
    "import os"
   ]
  },
  {
   "cell_type": "code",
   "execution_count": 3,
   "metadata": {},
   "outputs": [
    {
     "name": "stdout",
     "output_type": "stream",
     "text": [
      "categories 34\n",
      "images 14761\n",
      "annotations 73513\n"
     ]
    }
   ],
   "source": [
    "# Load furniture categories\n",
    "source_folder = \"3D-FUTURE-scene\"\n",
    "threedfuture_file_path = source_folder + '/train/train_set.json'\n",
    "\n",
    "with open(threedfuture_file_path, 'r') as json_file:\n",
    "    data = json.load(json_file)\n",
    "\n",
    "for key in data:\n",
    "    print(key, len(data[key]))"
   ]
  },
  {
   "cell_type": "code",
   "execution_count": 4,
   "metadata": {},
   "outputs": [
    {
     "data": {
      "text/html": [
       "<div><style>\n",
       ".dataframe > thead > tr > th,\n",
       ".dataframe > tbody > tr > td {\n",
       "  text-align: right;\n",
       "  white-space: pre-wrap;\n",
       "}\n",
       "</style>\n",
       "<small>shape: (5, 3)</small><table border=\"1\" class=\"dataframe\"><thead><tr><th>id</th><th>super-category</th><th>category</th></tr><tr><td>i64</td><td>str</td><td>str</td></tr></thead><tbody><tr><td>1</td><td>&quot;Cabinet/Shelf/…</td><td>&quot;Children Cabin…</td></tr><tr><td>2</td><td>&quot;Cabinet/Shelf/…</td><td>&quot;Nightstand&quot;</td></tr><tr><td>3</td><td>&quot;Cabinet/Shelf/…</td><td>&quot;Bookcase / jew…</td></tr><tr><td>4</td><td>&quot;Cabinet/Shelf/…</td><td>&quot;Wardrobe&quot;</td></tr><tr><td>5</td><td>&quot;Cabinet/Shelf/…</td><td>&quot;Coffee Table&quot;</td></tr></tbody></table></div>"
      ],
      "text/plain": [
       "shape: (5, 3)\n",
       "┌─────┬────────────────────┬────────────────────────────┐\n",
       "│ id  ┆ super-category     ┆ category                   │\n",
       "│ --- ┆ ---                ┆ ---                        │\n",
       "│ i64 ┆ str                ┆ str                        │\n",
       "╞═════╪════════════════════╪════════════════════════════╡\n",
       "│ 1   ┆ Cabinet/Shelf/Desk ┆ Children Cabinet           │\n",
       "│ 2   ┆ Cabinet/Shelf/Desk ┆ Nightstand                 │\n",
       "│ 3   ┆ Cabinet/Shelf/Desk ┆ Bookcase / jewelry Armoire │\n",
       "│ 4   ┆ Cabinet/Shelf/Desk ┆ Wardrobe                   │\n",
       "│ 5   ┆ Cabinet/Shelf/Desk ┆ Coffee Table               │\n",
       "└─────┴────────────────────┴────────────────────────────┘"
      ]
     },
     "execution_count": 4,
     "metadata": {},
     "output_type": "execute_result"
    }
   ],
   "source": [
    "# Create Dataframe tables\n",
    "# Categories\n",
    "categories_data = data['categories']\n",
    "df_categories = pl.DataFrame(categories_data)\n",
    "\n",
    "df_categories.head()"
   ]
  },
  {
   "cell_type": "code",
   "execution_count": 5,
   "metadata": {},
   "outputs": [
    {
     "data": {
      "text/html": [
       "<div><style>\n",
       ".dataframe > thead > tr > th,\n",
       ".dataframe > tbody > tr > td {\n",
       "  text-align: right;\n",
       "  white-space: pre-wrap;\n",
       "}\n",
       "</style>\n",
       "<small>shape: (5, 4)</small><table border=\"1\" class=\"dataframe\"><thead><tr><th>id</th><th>width</th><th>height</th><th>file_name</th></tr><tr><td>i64</td><td>i64</td><td>i64</td><td>str</td></tr></thead><tbody><tr><td>1</td><td>1200</td><td>1200</td><td>&quot;0000000&quot;</td></tr><tr><td>2</td><td>1200</td><td>1200</td><td>&quot;0000001&quot;</td></tr><tr><td>3</td><td>1200</td><td>1200</td><td>&quot;0000002&quot;</td></tr><tr><td>4</td><td>1200</td><td>1200</td><td>&quot;0000003&quot;</td></tr><tr><td>5</td><td>1200</td><td>1200</td><td>&quot;0000004&quot;</td></tr></tbody></table></div>"
      ],
      "text/plain": [
       "shape: (5, 4)\n",
       "┌─────┬───────┬────────┬───────────┐\n",
       "│ id  ┆ width ┆ height ┆ file_name │\n",
       "│ --- ┆ ---   ┆ ---    ┆ ---       │\n",
       "│ i64 ┆ i64   ┆ i64    ┆ str       │\n",
       "╞═════╪═══════╪════════╪═══════════╡\n",
       "│ 1   ┆ 1200  ┆ 1200   ┆ 0000000   │\n",
       "│ 2   ┆ 1200  ┆ 1200   ┆ 0000001   │\n",
       "│ 3   ┆ 1200  ┆ 1200   ┆ 0000002   │\n",
       "│ 4   ┆ 1200  ┆ 1200   ┆ 0000003   │\n",
       "│ 5   ┆ 1200  ┆ 1200   ┆ 0000004   │\n",
       "└─────┴───────┴────────┴───────────┘"
      ]
     },
     "execution_count": 5,
     "metadata": {},
     "output_type": "execute_result"
    }
   ],
   "source": [
    "# Images\n",
    "images_data = data['images']\n",
    "df_images = pl.DataFrame(images_data)\n",
    "\n",
    "df_images.head()"
   ]
  },
  {
   "cell_type": "code",
   "execution_count": 6,
   "metadata": {},
   "outputs": [],
   "source": [
    "source_folder = \"./\"\n",
    "file_path = source_folder + 'blip_anotation_3D_DS.csv'"
   ]
  },
  {
   "cell_type": "code",
   "execution_count": 7,
   "metadata": {},
   "outputs": [
    {
     "data": {
      "text/html": [
       "<div><style>\n",
       ".dataframe > thead > tr > th,\n",
       ".dataframe > tbody > tr > td {\n",
       "  text-align: right;\n",
       "  white-space: pre-wrap;\n",
       "}\n",
       "</style>\n",
       "<small>shape: (5, 19)</small><table border=\"1\" class=\"dataframe\"><thead><tr><th></th><th>annotation_id</th><th>image_id</th><th>category_id</th><th>area</th><th>bbox</th><th>model_id</th><th>texture_id</th><th>fov</th><th>style</th><th>theme</th><th>material</th><th>pose</th><th>occlusion</th><th>width</th><th>height</th><th>file_name</th><th>caption</th><th>Room</th></tr><tr><td>i64</td><td>i64</td><td>i64</td><td>i64</td><td>i64</td><td>str</td><td>str</td><td>str</td><td>f64</td><td>str</td><td>str</td><td>str</td><td>str</td><td>str</td><td>i64</td><td>i64</td><td>i64</td><td>str</td><td>str</td></tr></thead><tbody><tr><td>0</td><td>1</td><td>1</td><td>33</td><td>13073</td><td>&quot;[526.0, 56.0, …</td><td>&quot;da64b6ef-d704-…</td><td>&quot;da64b6ef-d704-…</td><td>0.958973</td><td>&quot;Modern&quot;</td><td>null</td><td>null</td><td>&quot;{&#x27;translation&#x27;…</td><td>&quot;NO&quot;</td><td>1200</td><td>1200</td><td>0</td><td>&quot;a bedroom with…</td><td>&quot;bedroom&quot;</td></tr><tr><td>1</td><td>2</td><td>1</td><td>2</td><td>8014</td><td>&quot;[1140.0, 795.0…</td><td>&quot;4d5ff861-d5ce-…</td><td>&quot;4d5ff861-d5ce-…</td><td>null</td><td>&quot;Korean&quot;</td><td>&quot;Smooth Net&quot;</td><td>&quot;Composite Boar…</td><td>&quot;{&#x27;translation&#x27;…</td><td>&quot;N/A&quot;</td><td>1200</td><td>1200</td><td>0</td><td>&quot;a bedroom with…</td><td>&quot;bedroom&quot;</td></tr><tr><td>2</td><td>3</td><td>1</td><td>23</td><td>24436</td><td>&quot;[0.0, 603.0, 2…</td><td>&quot;a939be24-9c3d-…</td><td>&quot;a939be24-9c3d-…</td><td>0.958973</td><td>&quot;Light Luxury&quot;</td><td>&quot;Gold Foil&quot;</td><td>&quot;Composite Boar…</td><td>&quot;{&#x27;translation&#x27;…</td><td>&quot;N/A&quot;</td><td>1200</td><td>1200</td><td>0</td><td>&quot;a bedroom with…</td><td>&quot;bedroom&quot;</td></tr><tr><td>3</td><td>4</td><td>1</td><td>4</td><td>211496</td><td>&quot;[173.0, 287.0,…</td><td>&quot;1d9f21cd-359f-…</td><td>&quot;1d9f21cd-359f-…</td><td>0.958973</td><td>&quot;Korean&quot;</td><td>&quot;Smooth Net&quot;</td><td>&quot;Composite Boar…</td><td>&quot;{&#x27;translation&#x27;…</td><td>&quot;NO&quot;</td><td>1200</td><td>1200</td><td>0</td><td>&quot;a bedroom with…</td><td>&quot;bedroom&quot;</td></tr><tr><td>4</td><td>5</td><td>1</td><td>13</td><td>235956</td><td>&quot;[414.0, 553.0,…</td><td>&quot;433123cb-172e-…</td><td>&quot;433123cb-172e-…</td><td>0.958973</td><td>&quot;Mediterranean&quot;</td><td>&quot;Striped Grid&quot;</td><td>&quot;Rough Cloth&quot;</td><td>&quot;{&#x27;translation&#x27;…</td><td>&quot;NO&quot;</td><td>1200</td><td>1200</td><td>0</td><td>&quot;a bedroom with…</td><td>&quot;bedroom&quot;</td></tr></tbody></table></div>"
      ],
      "text/plain": [
       "shape: (5, 19)\n",
       "┌─────┬───────────────┬──────────┬─────────────┬───┬────────┬───────────┬────────────────┬─────────┐\n",
       "│     ┆ annotation_id ┆ image_id ┆ category_id ┆ … ┆ height ┆ file_name ┆ caption        ┆ Room    │\n",
       "│ --- ┆ ---           ┆ ---      ┆ ---         ┆   ┆ ---    ┆ ---       ┆ ---            ┆ ---     │\n",
       "│ i64 ┆ i64           ┆ i64      ┆ i64         ┆   ┆ i64    ┆ i64       ┆ str            ┆ str     │\n",
       "╞═════╪═══════════════╪══════════╪═════════════╪═══╪════════╪═══════════╪════════════════╪═════════╡\n",
       "│ 0   ┆ 1             ┆ 1        ┆ 33          ┆ … ┆ 1200   ┆ 0         ┆ a bedroom with ┆ bedroom │\n",
       "│     ┆               ┆          ┆             ┆   ┆        ┆           ┆ a bed,         ┆         │\n",
       "│     ┆               ┆          ┆             ┆   ┆        ┆           ┆ dressers, …    ┆         │\n",
       "│ 1   ┆ 2             ┆ 1        ┆ 2           ┆ … ┆ 1200   ┆ 0         ┆ a bedroom with ┆ bedroom │\n",
       "│     ┆               ┆          ┆             ┆   ┆        ┆           ┆ a bed,         ┆         │\n",
       "│     ┆               ┆          ┆             ┆   ┆        ┆           ┆ dressers, …    ┆         │\n",
       "│ 2   ┆ 3             ┆ 1        ┆ 23          ┆ … ┆ 1200   ┆ 0         ┆ a bedroom with ┆ bedroom │\n",
       "│     ┆               ┆          ┆             ┆   ┆        ┆           ┆ a bed,         ┆         │\n",
       "│     ┆               ┆          ┆             ┆   ┆        ┆           ┆ dressers, …    ┆         │\n",
       "│ 3   ┆ 4             ┆ 1        ┆ 4           ┆ … ┆ 1200   ┆ 0         ┆ a bedroom with ┆ bedroom │\n",
       "│     ┆               ┆          ┆             ┆   ┆        ┆           ┆ a bed,         ┆         │\n",
       "│     ┆               ┆          ┆             ┆   ┆        ┆           ┆ dressers, …    ┆         │\n",
       "│ 4   ┆ 5             ┆ 1        ┆ 13          ┆ … ┆ 1200   ┆ 0         ┆ a bedroom with ┆ bedroom │\n",
       "│     ┆               ┆          ┆             ┆   ┆        ┆           ┆ a bed,         ┆         │\n",
       "│     ┆               ┆          ┆             ┆   ┆        ┆           ┆ dressers, …    ┆         │\n",
       "└─────┴───────────────┴──────────┴─────────────┴───┴────────┴───────────┴────────────────┴─────────┘"
      ]
     },
     "execution_count": 7,
     "metadata": {},
     "output_type": "execute_result"
    }
   ],
   "source": [
    "df = pl.read_csv(file_path)\n",
    "\n",
    "df.head()"
   ]
  },
  {
   "cell_type": "code",
   "execution_count": 8,
   "metadata": {},
   "outputs": [
    {
     "data": {
      "text/plain": [
       "<polars.dataframe.group_by.GroupBy at 0x1f1a3032640>"
      ]
     },
     "execution_count": 8,
     "metadata": {},
     "output_type": "execute_result"
    }
   ],
   "source": [
    "df.group_by(\"image_id\", )"
   ]
  },
  {
   "cell_type": "code",
   "execution_count": 9,
   "metadata": {},
   "outputs": [
    {
     "data": {
      "text/html": [
       "<div><style>\n",
       ".dataframe > thead > tr > th,\n",
       ".dataframe > tbody > tr > td {\n",
       "  text-align: right;\n",
       "  white-space: pre-wrap;\n",
       "}\n",
       "</style>\n",
       "<small>shape: (5, 21)</small><table border=\"1\" class=\"dataframe\"><thead><tr><th></th><th>annotation_id</th><th>image_id</th><th>category_id</th><th>area</th><th>bbox</th><th>model_id</th><th>texture_id</th><th>fov</th><th>style</th><th>theme</th><th>material</th><th>pose</th><th>occlusion</th><th>width</th><th>height</th><th>file_name</th><th>caption</th><th>Room</th><th>super-category</th><th>category</th></tr><tr><td>i64</td><td>i64</td><td>i64</td><td>i64</td><td>i64</td><td>str</td><td>str</td><td>str</td><td>f64</td><td>str</td><td>str</td><td>str</td><td>str</td><td>str</td><td>i64</td><td>i64</td><td>i64</td><td>str</td><td>str</td><td>str</td><td>str</td></tr></thead><tbody><tr><td>0</td><td>1</td><td>1</td><td>33</td><td>13073</td><td>&quot;[526.0, 56.0, …</td><td>&quot;da64b6ef-d704-…</td><td>&quot;da64b6ef-d704-…</td><td>0.958973</td><td>&quot;Modern&quot;</td><td>null</td><td>null</td><td>&quot;{&#x27;translation&#x27;…</td><td>&quot;NO&quot;</td><td>1200</td><td>1200</td><td>0</td><td>&quot;a bedroom with…</td><td>&quot;bedroom&quot;</td><td>&quot;Lighting&quot;</td><td>&quot;Pendant Lamp&quot;</td></tr><tr><td>1</td><td>2</td><td>1</td><td>2</td><td>8014</td><td>&quot;[1140.0, 795.0…</td><td>&quot;4d5ff861-d5ce-…</td><td>&quot;4d5ff861-d5ce-…</td><td>null</td><td>&quot;Korean&quot;</td><td>&quot;Smooth Net&quot;</td><td>&quot;Composite Boar…</td><td>&quot;{&#x27;translation&#x27;…</td><td>&quot;N/A&quot;</td><td>1200</td><td>1200</td><td>0</td><td>&quot;a bedroom with…</td><td>&quot;bedroom&quot;</td><td>&quot;Cabinet/Shelf/…</td><td>&quot;Nightstand&quot;</td></tr><tr><td>2</td><td>3</td><td>1</td><td>23</td><td>24436</td><td>&quot;[0.0, 603.0, 2…</td><td>&quot;a939be24-9c3d-…</td><td>&quot;a939be24-9c3d-…</td><td>0.958973</td><td>&quot;Light Luxury&quot;</td><td>&quot;Gold Foil&quot;</td><td>&quot;Composite Boar…</td><td>&quot;{&#x27;translation&#x27;…</td><td>&quot;N/A&quot;</td><td>1200</td><td>1200</td><td>0</td><td>&quot;a bedroom with…</td><td>&quot;bedroom&quot;</td><td>&quot;Table&quot;</td><td>&quot;Dressing Table…</td></tr><tr><td>3</td><td>4</td><td>1</td><td>4</td><td>211496</td><td>&quot;[173.0, 287.0,…</td><td>&quot;1d9f21cd-359f-…</td><td>&quot;1d9f21cd-359f-…</td><td>0.958973</td><td>&quot;Korean&quot;</td><td>&quot;Smooth Net&quot;</td><td>&quot;Composite Boar…</td><td>&quot;{&#x27;translation&#x27;…</td><td>&quot;NO&quot;</td><td>1200</td><td>1200</td><td>0</td><td>&quot;a bedroom with…</td><td>&quot;bedroom&quot;</td><td>&quot;Cabinet/Shelf/…</td><td>&quot;Wardrobe&quot;</td></tr><tr><td>4</td><td>5</td><td>1</td><td>13</td><td>235956</td><td>&quot;[414.0, 553.0,…</td><td>&quot;433123cb-172e-…</td><td>&quot;433123cb-172e-…</td><td>0.958973</td><td>&quot;Mediterranean&quot;</td><td>&quot;Striped Grid&quot;</td><td>&quot;Rough Cloth&quot;</td><td>&quot;{&#x27;translation&#x27;…</td><td>&quot;NO&quot;</td><td>1200</td><td>1200</td><td>0</td><td>&quot;a bedroom with…</td><td>&quot;bedroom&quot;</td><td>&quot;Bed&quot;</td><td>&quot;King-size Bed&quot;</td></tr></tbody></table></div>"
      ],
      "text/plain": [
       "shape: (5, 21)\n",
       "┌─────┬─────────────┬──────────┬─────────────┬───┬─────────────┬─────────┬────────────┬────────────┐\n",
       "│     ┆ annotation_ ┆ image_id ┆ category_id ┆ … ┆ caption     ┆ Room    ┆ super-cate ┆ category   │\n",
       "│ --- ┆ id          ┆ ---      ┆ ---         ┆   ┆ ---         ┆ ---     ┆ gory       ┆ ---        │\n",
       "│ i64 ┆ ---         ┆ i64      ┆ i64         ┆   ┆ str         ┆ str     ┆ ---        ┆ str        │\n",
       "│     ┆ i64         ┆          ┆             ┆   ┆             ┆         ┆ str        ┆            │\n",
       "╞═════╪═════════════╪══════════╪═════════════╪═══╪═════════════╪═════════╪════════════╪════════════╡\n",
       "│ 0   ┆ 1           ┆ 1        ┆ 33          ┆ … ┆ a bedroom   ┆ bedroom ┆ Lighting   ┆ Pendant    │\n",
       "│     ┆             ┆          ┆             ┆   ┆ with a bed, ┆         ┆            ┆ Lamp       │\n",
       "│     ┆             ┆          ┆             ┆   ┆ dressers, … ┆         ┆            ┆            │\n",
       "│ 1   ┆ 2           ┆ 1        ┆ 2           ┆ … ┆ a bedroom   ┆ bedroom ┆ Cabinet/Sh ┆ Nightstand │\n",
       "│     ┆             ┆          ┆             ┆   ┆ with a bed, ┆         ┆ elf/Desk   ┆            │\n",
       "│     ┆             ┆          ┆             ┆   ┆ dressers, … ┆         ┆            ┆            │\n",
       "│ 2   ┆ 3           ┆ 1        ┆ 23          ┆ … ┆ a bedroom   ┆ bedroom ┆ Table      ┆ Dressing   │\n",
       "│     ┆             ┆          ┆             ┆   ┆ with a bed, ┆         ┆            ┆ Table      │\n",
       "│     ┆             ┆          ┆             ┆   ┆ dressers, … ┆         ┆            ┆            │\n",
       "│ 3   ┆ 4           ┆ 1        ┆ 4           ┆ … ┆ a bedroom   ┆ bedroom ┆ Cabinet/Sh ┆ Wardrobe   │\n",
       "│     ┆             ┆          ┆             ┆   ┆ with a bed, ┆         ┆ elf/Desk   ┆            │\n",
       "│     ┆             ┆          ┆             ┆   ┆ dressers, … ┆         ┆            ┆            │\n",
       "│ 4   ┆ 5           ┆ 1        ┆ 13          ┆ … ┆ a bedroom   ┆ bedroom ┆ Bed        ┆ King-size  │\n",
       "│     ┆             ┆          ┆             ┆   ┆ with a bed, ┆         ┆            ┆ Bed        │\n",
       "│     ┆             ┆          ┆             ┆   ┆ dressers, … ┆         ┆            ┆            │\n",
       "└─────┴─────────────┴──────────┴─────────────┴───┴─────────────┴─────────┴────────────┴────────────┘"
      ]
     },
     "execution_count": 9,
     "metadata": {},
     "output_type": "execute_result"
    }
   ],
   "source": [
    "df_joined = df.join(df_categories, left_on=\"category_id\", right_on=\"id\")\n",
    "df_joined.head()"
   ]
  },
  {
   "cell_type": "code",
   "execution_count": 10,
   "metadata": {},
   "outputs": [
    {
     "data": {
      "text/html": [
       "<div><style>\n",
       ".dataframe > thead > tr > th,\n",
       ".dataframe > tbody > tr > td {\n",
       "  text-align: right;\n",
       "  white-space: pre-wrap;\n",
       "}\n",
       "</style>\n",
       "<small>shape: (5, 22)</small><table border=\"1\" class=\"dataframe\"><thead><tr><th></th><th>annotation_id</th><th>image_id</th><th>category_id</th><th>area</th><th>bbox</th><th>model_id</th><th>texture_id</th><th>fov</th><th>style</th><th>theme</th><th>material</th><th>pose</th><th>occlusion</th><th>width</th><th>height</th><th>file_name</th><th>caption</th><th>Room</th><th>super-category</th><th>category</th><th>model_description</th></tr><tr><td>i64</td><td>i64</td><td>i64</td><td>i64</td><td>i64</td><td>str</td><td>str</td><td>str</td><td>f64</td><td>str</td><td>str</td><td>str</td><td>str</td><td>str</td><td>i64</td><td>i64</td><td>i64</td><td>str</td><td>str</td><td>str</td><td>str</td><td>str</td></tr></thead><tbody><tr><td>0</td><td>1</td><td>1</td><td>33</td><td>13073</td><td>&quot;[526.0, 56.0, …</td><td>&quot;da64b6ef-d704-…</td><td>&quot;da64b6ef-d704-…</td><td>0.958973</td><td>&quot;Modern&quot;</td><td>null</td><td>null</td><td>&quot;{&#x27;translation&#x27;…</td><td>&quot;NO&quot;</td><td>1200</td><td>1200</td><td>0</td><td>&quot;a bedroom with…</td><td>&quot;bedroom&quot;</td><td>&quot;Lighting&quot;</td><td>&quot;Pendant Lamp&quot;</td><td>&quot;Modern  pendan…</td></tr><tr><td>1</td><td>2</td><td>1</td><td>2</td><td>8014</td><td>&quot;[1140.0, 795.0…</td><td>&quot;4d5ff861-d5ce-…</td><td>&quot;4d5ff861-d5ce-…</td><td>null</td><td>&quot;Korean&quot;</td><td>&quot;Smooth Net&quot;</td><td>&quot;Composite Boar…</td><td>&quot;{&#x27;translation&#x27;…</td><td>&quot;N/A&quot;</td><td>1200</td><td>1200</td><td>0</td><td>&quot;a bedroom with…</td><td>&quot;bedroom&quot;</td><td>&quot;Cabinet/Shelf/…</td><td>&quot;Nightstand&quot;</td><td>&quot;Korean composi…</td></tr><tr><td>2</td><td>3</td><td>1</td><td>23</td><td>24436</td><td>&quot;[0.0, 603.0, 2…</td><td>&quot;a939be24-9c3d-…</td><td>&quot;a939be24-9c3d-…</td><td>0.958973</td><td>&quot;Light Luxury&quot;</td><td>&quot;Gold Foil&quot;</td><td>&quot;Composite Boar…</td><td>&quot;{&#x27;translation&#x27;…</td><td>&quot;N/A&quot;</td><td>1200</td><td>1200</td><td>0</td><td>&quot;a bedroom with…</td><td>&quot;bedroom&quot;</td><td>&quot;Table&quot;</td><td>&quot;Dressing Table…</td><td>&quot;Light Luxury c…</td></tr><tr><td>3</td><td>4</td><td>1</td><td>4</td><td>211496</td><td>&quot;[173.0, 287.0,…</td><td>&quot;1d9f21cd-359f-…</td><td>&quot;1d9f21cd-359f-…</td><td>0.958973</td><td>&quot;Korean&quot;</td><td>&quot;Smooth Net&quot;</td><td>&quot;Composite Boar…</td><td>&quot;{&#x27;translation&#x27;…</td><td>&quot;NO&quot;</td><td>1200</td><td>1200</td><td>0</td><td>&quot;a bedroom with…</td><td>&quot;bedroom&quot;</td><td>&quot;Cabinet/Shelf/…</td><td>&quot;Wardrobe&quot;</td><td>&quot;Korean composi…</td></tr><tr><td>4</td><td>5</td><td>1</td><td>13</td><td>235956</td><td>&quot;[414.0, 553.0,…</td><td>&quot;433123cb-172e-…</td><td>&quot;433123cb-172e-…</td><td>0.958973</td><td>&quot;Mediterranean&quot;</td><td>&quot;Striped Grid&quot;</td><td>&quot;Rough Cloth&quot;</td><td>&quot;{&#x27;translation&#x27;…</td><td>&quot;NO&quot;</td><td>1200</td><td>1200</td><td>0</td><td>&quot;a bedroom with…</td><td>&quot;bedroom&quot;</td><td>&quot;Bed&quot;</td><td>&quot;King-size Bed&quot;</td><td>&quot;Mediterranean …</td></tr></tbody></table></div>"
      ],
      "text/plain": [
       "shape: (5, 22)\n",
       "┌─────┬─────────────┬──────────┬─────────────┬───┬─────────┬─────────────┬────────────┬────────────┐\n",
       "│     ┆ annotation_ ┆ image_id ┆ category_id ┆ … ┆ Room    ┆ super-categ ┆ category   ┆ model_desc │\n",
       "│ --- ┆ id          ┆ ---      ┆ ---         ┆   ┆ ---     ┆ ory         ┆ ---        ┆ ription    │\n",
       "│ i64 ┆ ---         ┆ i64      ┆ i64         ┆   ┆ str     ┆ ---         ┆ str        ┆ ---        │\n",
       "│     ┆ i64         ┆          ┆             ┆   ┆         ┆ str         ┆            ┆ str        │\n",
       "╞═════╪═════════════╪══════════╪═════════════╪═══╪═════════╪═════════════╪════════════╪════════════╡\n",
       "│ 0   ┆ 1           ┆ 1        ┆ 33          ┆ … ┆ bedroom ┆ Lighting    ┆ Pendant    ┆ Modern     │\n",
       "│     ┆             ┆          ┆             ┆   ┆         ┆             ┆ Lamp       ┆ pendant    │\n",
       "│     ┆             ┆          ┆             ┆   ┆         ┆             ┆            ┆ lamp       │\n",
       "│ 1   ┆ 2           ┆ 1        ┆ 2           ┆ … ┆ bedroom ┆ Cabinet/She ┆ Nightstand ┆ Korean     │\n",
       "│     ┆             ┆          ┆             ┆   ┆         ┆ lf/Desk     ┆            ┆ composite  │\n",
       "│     ┆             ┆          ┆             ┆   ┆         ┆             ┆            ┆ board      │\n",
       "│     ┆             ┆          ┆             ┆   ┆         ┆             ┆            ┆ nightstan… │\n",
       "│ 2   ┆ 3           ┆ 1        ┆ 23          ┆ … ┆ bedroom ┆ Table       ┆ Dressing   ┆ Light      │\n",
       "│     ┆             ┆          ┆             ┆   ┆         ┆             ┆ Table      ┆ Luxury     │\n",
       "│     ┆             ┆          ┆             ┆   ┆         ┆             ┆            ┆ composite  │\n",
       "│     ┆             ┆          ┆             ┆   ┆         ┆             ┆            ┆ board dre… │\n",
       "│ 3   ┆ 4           ┆ 1        ┆ 4           ┆ … ┆ bedroom ┆ Cabinet/She ┆ Wardrobe   ┆ Korean     │\n",
       "│     ┆             ┆          ┆             ┆   ┆         ┆ lf/Desk     ┆            ┆ composite  │\n",
       "│     ┆             ┆          ┆             ┆   ┆         ┆             ┆            ┆ board      │\n",
       "│     ┆             ┆          ┆             ┆   ┆         ┆             ┆            ┆ wardrobe   │\n",
       "│ 4   ┆ 5           ┆ 1        ┆ 13          ┆ … ┆ bedroom ┆ Bed         ┆ King-size  ┆ Mediterran │\n",
       "│     ┆             ┆          ┆             ┆   ┆         ┆             ┆ Bed        ┆ ean rough  │\n",
       "│     ┆             ┆          ┆             ┆   ┆         ┆             ┆            ┆ cloth      │\n",
       "│     ┆             ┆          ┆             ┆   ┆         ┆             ┆            ┆ king-s…    │\n",
       "└─────┴─────────────┴──────────┴─────────────┴───┴─────────┴─────────────┴────────────┴────────────┘"
      ]
     },
     "execution_count": 10,
     "metadata": {},
     "output_type": "execute_result"
    }
   ],
   "source": [
    "df_concat = df_joined.with_columns(\n",
    "    pl.concat_str(\n",
    "        [\n",
    "            pl.col(\"style\").fill_null(\"\"),\n",
    "            pl.col(\"material\").fill_null(\"\").str.to_lowercase(),\n",
    "            pl.col(\"category\").str.to_lowercase(),\n",
    "        ],\n",
    "        separator=\" \",\n",
    "    ).alias(\"model_description\"),\n",
    ")\n",
    "\n",
    "df_concat.head()"
   ]
  },
  {
   "cell_type": "markdown",
   "metadata": {},
   "source": [
    "# Concatenate room captions\n",
    "# For each image\n",
    "# BLIP descriptions + The room has {style} {category}, {style} {category}, ...\n",
    "# e.g. The room has Mediterranean style Coffee table, Korean style Sofa"
   ]
  },
  {
   "cell_type": "code",
   "execution_count": 13,
   "metadata": {},
   "outputs": [
    {
     "name": "stdout",
     "output_type": "stream",
     "text": [
      "shape: (14_761, 7)\n",
      "┌──────────┬─────────────┬────────────────┬───────────────┬────────────┬───────────┬───────────────┐\n",
      "│ image_id ┆ Room        ┆ caption        ┆ model_descrip ┆ item_count ┆ file_name ┆ full_descript │\n",
      "│ ---      ┆ ---         ┆ ---            ┆ tion          ┆ ---        ┆ ---       ┆ ion           │\n",
      "│ i64      ┆ str         ┆ str            ┆ ---           ┆ u32        ┆ str       ┆ ---           │\n",
      "│          ┆             ┆                ┆ str           ┆            ┆           ┆ str           │\n",
      "╞══════════╪═════════════╪════════════════╪═══════════════╪════════════╪═══════════╪═══════════════╡\n",
      "│ 1        ┆ bedroom     ┆ a bedroom with ┆ Korean        ┆ 5          ┆ 0000000   ┆ a bedroom     │\n",
      "│          ┆             ┆ a bed,         ┆ composite     ┆            ┆           ┆ with a bed,   │\n",
      "│          ┆             ┆ dressers, …    ┆ board         ┆            ┆           ┆ dressers, …   │\n",
      "│          ┆             ┆                ┆ wardrobe,…    ┆            ┆           ┆               │\n",
      "│ 2        ┆ living room ┆ a living room  ┆ Korean rough  ┆ 6          ┆ 0000001   ┆ a living room │\n",
      "│          ┆             ┆ with a couch,  ┆ cloth         ┆            ┆           ┆ with a couch, │\n",
      "│          ┆             ┆ coff…          ┆ l-shaped      ┆            ┆           ┆ coff…         │\n",
      "│          ┆             ┆                ┆ sofa…         ┆            ┆           ┆               │\n",
      "│ 3        ┆ study room  ┆ a room with a  ┆ Modern        ┆ 3          ┆ 0000002   ┆ a room with a │\n",
      "│          ┆             ┆ desk and a     ┆ composite     ┆            ┆           ┆ desk and a    │\n",
      "│          ┆             ┆ chair          ┆ board         ┆            ┆           ┆ chair; …      │\n",
      "│          ┆             ┆                ┆ dressing …    ┆            ┆           ┆               │\n",
      "│ 4        ┆ living room ┆ a living room  ┆ Light Luxury  ┆ 4          ┆ 0000003   ┆ a living room │\n",
      "│          ┆             ┆ with a couch,  ┆ rough cloth   ┆            ┆           ┆ with a couch, │\n",
      "│          ┆             ┆ chai…          ┆ armchai…      ┆            ┆           ┆ chai…         │\n",
      "│ …        ┆ …           ┆ …              ┆ …             ┆ …          ┆ …         ┆ …             │\n",
      "│ 14758    ┆ living room ┆ a living room  ┆ Korean        ┆ 5          ┆ 0014757   ┆ a living room │\n",
      "│          ┆             ┆ with a couch,  ┆ composite     ┆            ┆           ┆ with a couch, │\n",
      "│          ┆             ┆ chai…          ┆ board         ┆            ┆           ┆ chai…         │\n",
      "│          ┆             ┆                ┆ corner/si…    ┆            ┆           ┆               │\n",
      "│ 14759    ┆ living room ┆ a living room  ┆ Modern        ┆ 5          ┆ 0014758   ┆ a living room │\n",
      "│          ┆             ┆ with a couch,  ┆ ceiling lamp, ┆            ┆           ┆ with a couch, │\n",
      "│          ┆             ┆ chai…          ┆ sideboar…     ┆            ┆           ┆ chai…         │\n",
      "│ 14760    ┆ living room ┆ a living room  ┆ Neoclassical  ┆ 8          ┆ 0014759   ┆ a living room │\n",
      "│          ┆             ┆ with a couch,  ┆ rough cloth   ┆            ┆           ┆ with a couch, │\n",
      "│          ┆             ┆ chai…          ┆ three-s…      ┆            ┆           ┆ chai…         │\n",
      "│ 14761    ┆ bedroom     ┆ a bedroom with ┆ Korean rough  ┆ 6          ┆ 0014760   ┆ a bedroom     │\n",
      "│          ┆             ┆ a bed, chair,  ┆ cloth         ┆            ┆           ┆ with a bed,   │\n",
      "│          ┆             ┆ and…           ┆ armchair,     ┆            ┆           ┆ chair, and…   │\n",
      "│          ┆             ┆                ┆ Kor…          ┆            ┆           ┆               │\n",
      "└──────────┴─────────────┴────────────────┴───────────────┴────────────┴───────────┴───────────────┘\n"
     ]
    }
   ],
   "source": [
    "df_img = df_concat.group_by(['image_id', \"Room\", \"caption\"]).agg(\n",
    "    pl.col(\"model_description\").unique().str.concat(\", \"),\n",
    "    pl.col(\"model_description\").unique().count().alias(\"item_count\")\n",
    ").join(\n",
    "    df_images.select(pl.exclude([\"width\", \"height\"])), left_on=\"image_id\", right_on=\"id\"\n",
    ")\n",
    "\n",
    "# Concatenate the generated annotations with BLIP captions\n",
    "df_img = df_img.with_columns(\n",
    "    pl.concat_str([\n",
    "        pl.col(\"caption\").str.strip_chars(),\n",
    "        pl.col(\"model_description\").str.strip_chars(\", \")\n",
    "    ], separator=\"; \").alias(\"full_description\")\n",
    ")\n",
    "\n",
    "print(df_img)"
   ]
  },
  {
   "cell_type": "code",
   "execution_count": 15,
   "metadata": {},
   "outputs": [],
   "source": [
    "df_img.write_csv(file=\"3dfront-annotated.csv\")"
   ]
  }
 ],
 "metadata": {
  "kernelspec": {
   "display_name": "Python 3.9.17 ('room')",
   "language": "python",
   "name": "python3"
  },
  "language_info": {
   "codemirror_mode": {
    "name": "ipython",
    "version": 3
   },
   "file_extension": ".py",
   "mimetype": "text/x-python",
   "name": "python",
   "nbconvert_exporter": "python",
   "pygments_lexer": "ipython3",
   "version": "3.9.17"
  },
  "orig_nbformat": 4,
  "vscode": {
   "interpreter": {
    "hash": "33e8c653b61fcd30db27bb9bf153aa9abf8c95d57f0a0708ce05bf3f3ed84366"
   }
  }
 },
 "nbformat": 4,
 "nbformat_minor": 2
}
