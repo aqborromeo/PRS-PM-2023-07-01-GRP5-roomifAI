{
 "cells": [
  {
   "cell_type": "code",
   "execution_count": 12,
   "metadata": {},
   "outputs": [],
   "source": [
    "import polars as pl\n",
    "import json\n",
    "import os\n",
    "import shutil\n",
    "import numpy as np"
   ]
  },
  {
   "cell_type": "code",
   "execution_count": 13,
   "metadata": {},
   "outputs": [
    {
     "name": "stdout",
     "output_type": "stream",
     "text": [
      "categories 34\n",
      "images 14761\n",
      "annotations 73513\n"
     ]
    }
   ],
   "source": [
    "# Load furniture categories\n",
    "source_folder = \"3D-FUTURE-scene\"\n",
    "threedfuture_file_path = source_folder + '/train/train_set.json'\n",
    "\n",
    "with open(threedfuture_file_path, 'r') as json_file:\n",
    "    data = json.load(json_file)\n",
    "\n",
    "for key in data:\n",
    "    print(key, len(data[key]))"
   ]
  },
  {
   "cell_type": "code",
   "execution_count": 14,
   "metadata": {},
   "outputs": [
    {
     "data": {
      "text/html": [
       "<div><style>\n",
       ".dataframe > thead > tr > th,\n",
       ".dataframe > tbody > tr > td {\n",
       "  text-align: right;\n",
       "  white-space: pre-wrap;\n",
       "}\n",
       "</style>\n",
       "<small>shape: (5, 3)</small><table border=\"1\" class=\"dataframe\"><thead><tr><th>id</th><th>super-category</th><th>category</th></tr><tr><td>i64</td><td>str</td><td>str</td></tr></thead><tbody><tr><td>1</td><td>&quot;Cabinet/Shelf/…</td><td>&quot;Children Cabin…</td></tr><tr><td>2</td><td>&quot;Cabinet/Shelf/…</td><td>&quot;Nightstand&quot;</td></tr><tr><td>3</td><td>&quot;Cabinet/Shelf/…</td><td>&quot;Bookcase / jew…</td></tr><tr><td>4</td><td>&quot;Cabinet/Shelf/…</td><td>&quot;Wardrobe&quot;</td></tr><tr><td>5</td><td>&quot;Cabinet/Shelf/…</td><td>&quot;Coffee Table&quot;</td></tr></tbody></table></div>"
      ],
      "text/plain": [
       "shape: (5, 3)\n",
       "┌─────┬────────────────────┬────────────────────────────┐\n",
       "│ id  ┆ super-category     ┆ category                   │\n",
       "│ --- ┆ ---                ┆ ---                        │\n",
       "│ i64 ┆ str                ┆ str                        │\n",
       "╞═════╪════════════════════╪════════════════════════════╡\n",
       "│ 1   ┆ Cabinet/Shelf/Desk ┆ Children Cabinet           │\n",
       "│ 2   ┆ Cabinet/Shelf/Desk ┆ Nightstand                 │\n",
       "│ 3   ┆ Cabinet/Shelf/Desk ┆ Bookcase / jewelry Armoire │\n",
       "│ 4   ┆ Cabinet/Shelf/Desk ┆ Wardrobe                   │\n",
       "│ 5   ┆ Cabinet/Shelf/Desk ┆ Coffee Table               │\n",
       "└─────┴────────────────────┴────────────────────────────┘"
      ]
     },
     "execution_count": 14,
     "metadata": {},
     "output_type": "execute_result"
    }
   ],
   "source": [
    "# Create Dataframe tables\n",
    "# Categories\n",
    "categories_data = data['categories']\n",
    "df_categories = pl.DataFrame(categories_data)\n",
    "\n",
    "df_categories.head()"
   ]
  },
  {
   "cell_type": "code",
   "execution_count": 15,
   "metadata": {},
   "outputs": [
    {
     "data": {
      "text/html": [
       "<div><style>\n",
       ".dataframe > thead > tr > th,\n",
       ".dataframe > tbody > tr > td {\n",
       "  text-align: right;\n",
       "  white-space: pre-wrap;\n",
       "}\n",
       "</style>\n",
       "<small>shape: (5, 4)</small><table border=\"1\" class=\"dataframe\"><thead><tr><th>id</th><th>width</th><th>height</th><th>file_name</th></tr><tr><td>i64</td><td>i64</td><td>i64</td><td>str</td></tr></thead><tbody><tr><td>1</td><td>1200</td><td>1200</td><td>&quot;0000000&quot;</td></tr><tr><td>2</td><td>1200</td><td>1200</td><td>&quot;0000001&quot;</td></tr><tr><td>3</td><td>1200</td><td>1200</td><td>&quot;0000002&quot;</td></tr><tr><td>4</td><td>1200</td><td>1200</td><td>&quot;0000003&quot;</td></tr><tr><td>5</td><td>1200</td><td>1200</td><td>&quot;0000004&quot;</td></tr></tbody></table></div>"
      ],
      "text/plain": [
       "shape: (5, 4)\n",
       "┌─────┬───────┬────────┬───────────┐\n",
       "│ id  ┆ width ┆ height ┆ file_name │\n",
       "│ --- ┆ ---   ┆ ---    ┆ ---       │\n",
       "│ i64 ┆ i64   ┆ i64    ┆ str       │\n",
       "╞═════╪═══════╪════════╪═══════════╡\n",
       "│ 1   ┆ 1200  ┆ 1200   ┆ 0000000   │\n",
       "│ 2   ┆ 1200  ┆ 1200   ┆ 0000001   │\n",
       "│ 3   ┆ 1200  ┆ 1200   ┆ 0000002   │\n",
       "│ 4   ┆ 1200  ┆ 1200   ┆ 0000003   │\n",
       "│ 5   ┆ 1200  ┆ 1200   ┆ 0000004   │\n",
       "└─────┴───────┴────────┴───────────┘"
      ]
     },
     "execution_count": 15,
     "metadata": {},
     "output_type": "execute_result"
    }
   ],
   "source": [
    "# Images\n",
    "images_data = data['images']\n",
    "df_images = pl.DataFrame(images_data)\n",
    "\n",
    "df_images.head()"
   ]
  },
  {
   "cell_type": "code",
   "execution_count": 16,
   "metadata": {},
   "outputs": [],
   "source": [
    "source_folder = \"./\"\n",
    "file_path = source_folder + 'blip_anotation_3D_DS.csv'"
   ]
  },
  {
   "cell_type": "code",
   "execution_count": 17,
   "metadata": {},
   "outputs": [
    {
     "data": {
      "text/html": [
       "<div><style>\n",
       ".dataframe > thead > tr > th,\n",
       ".dataframe > tbody > tr > td {\n",
       "  text-align: right;\n",
       "  white-space: pre-wrap;\n",
       "}\n",
       "</style>\n",
       "<small>shape: (5, 19)</small><table border=\"1\" class=\"dataframe\"><thead><tr><th></th><th>annotation_id</th><th>image_id</th><th>category_id</th><th>area</th><th>bbox</th><th>model_id</th><th>texture_id</th><th>fov</th><th>style</th><th>theme</th><th>material</th><th>pose</th><th>occlusion</th><th>width</th><th>height</th><th>file_name</th><th>caption</th><th>Room</th></tr><tr><td>i64</td><td>i64</td><td>i64</td><td>i64</td><td>i64</td><td>str</td><td>str</td><td>str</td><td>f64</td><td>str</td><td>str</td><td>str</td><td>str</td><td>str</td><td>i64</td><td>i64</td><td>i64</td><td>str</td><td>str</td></tr></thead><tbody><tr><td>0</td><td>1</td><td>1</td><td>33</td><td>13073</td><td>&quot;[526.0, 56.0, …</td><td>&quot;da64b6ef-d704-…</td><td>&quot;da64b6ef-d704-…</td><td>0.958973</td><td>&quot;Modern&quot;</td><td>null</td><td>null</td><td>&quot;{&#x27;translation&#x27;…</td><td>&quot;NO&quot;</td><td>1200</td><td>1200</td><td>0</td><td>&quot;a bedroom with…</td><td>&quot;bedroom&quot;</td></tr><tr><td>1</td><td>2</td><td>1</td><td>2</td><td>8014</td><td>&quot;[1140.0, 795.0…</td><td>&quot;4d5ff861-d5ce-…</td><td>&quot;4d5ff861-d5ce-…</td><td>null</td><td>&quot;Korean&quot;</td><td>&quot;Smooth Net&quot;</td><td>&quot;Composite Boar…</td><td>&quot;{&#x27;translation&#x27;…</td><td>&quot;N/A&quot;</td><td>1200</td><td>1200</td><td>0</td><td>&quot;a bedroom with…</td><td>&quot;bedroom&quot;</td></tr><tr><td>2</td><td>3</td><td>1</td><td>23</td><td>24436</td><td>&quot;[0.0, 603.0, 2…</td><td>&quot;a939be24-9c3d-…</td><td>&quot;a939be24-9c3d-…</td><td>0.958973</td><td>&quot;Light Luxury&quot;</td><td>&quot;Gold Foil&quot;</td><td>&quot;Composite Boar…</td><td>&quot;{&#x27;translation&#x27;…</td><td>&quot;N/A&quot;</td><td>1200</td><td>1200</td><td>0</td><td>&quot;a bedroom with…</td><td>&quot;bedroom&quot;</td></tr><tr><td>3</td><td>4</td><td>1</td><td>4</td><td>211496</td><td>&quot;[173.0, 287.0,…</td><td>&quot;1d9f21cd-359f-…</td><td>&quot;1d9f21cd-359f-…</td><td>0.958973</td><td>&quot;Korean&quot;</td><td>&quot;Smooth Net&quot;</td><td>&quot;Composite Boar…</td><td>&quot;{&#x27;translation&#x27;…</td><td>&quot;NO&quot;</td><td>1200</td><td>1200</td><td>0</td><td>&quot;a bedroom with…</td><td>&quot;bedroom&quot;</td></tr><tr><td>4</td><td>5</td><td>1</td><td>13</td><td>235956</td><td>&quot;[414.0, 553.0,…</td><td>&quot;433123cb-172e-…</td><td>&quot;433123cb-172e-…</td><td>0.958973</td><td>&quot;Mediterranean&quot;</td><td>&quot;Striped Grid&quot;</td><td>&quot;Rough Cloth&quot;</td><td>&quot;{&#x27;translation&#x27;…</td><td>&quot;NO&quot;</td><td>1200</td><td>1200</td><td>0</td><td>&quot;a bedroom with…</td><td>&quot;bedroom&quot;</td></tr></tbody></table></div>"
      ],
      "text/plain": [
       "shape: (5, 19)\n",
       "┌─────┬───────────────┬──────────┬─────────────┬───┬────────┬───────────┬────────────────┬─────────┐\n",
       "│     ┆ annotation_id ┆ image_id ┆ category_id ┆ … ┆ height ┆ file_name ┆ caption        ┆ Room    │\n",
       "│ --- ┆ ---           ┆ ---      ┆ ---         ┆   ┆ ---    ┆ ---       ┆ ---            ┆ ---     │\n",
       "│ i64 ┆ i64           ┆ i64      ┆ i64         ┆   ┆ i64    ┆ i64       ┆ str            ┆ str     │\n",
       "╞═════╪═══════════════╪══════════╪═════════════╪═══╪════════╪═══════════╪════════════════╪═════════╡\n",
       "│ 0   ┆ 1             ┆ 1        ┆ 33          ┆ … ┆ 1200   ┆ 0         ┆ a bedroom with ┆ bedroom │\n",
       "│     ┆               ┆          ┆             ┆   ┆        ┆           ┆ a bed,         ┆         │\n",
       "│     ┆               ┆          ┆             ┆   ┆        ┆           ┆ dressers, …    ┆         │\n",
       "│ 1   ┆ 2             ┆ 1        ┆ 2           ┆ … ┆ 1200   ┆ 0         ┆ a bedroom with ┆ bedroom │\n",
       "│     ┆               ┆          ┆             ┆   ┆        ┆           ┆ a bed,         ┆         │\n",
       "│     ┆               ┆          ┆             ┆   ┆        ┆           ┆ dressers, …    ┆         │\n",
       "│ 2   ┆ 3             ┆ 1        ┆ 23          ┆ … ┆ 1200   ┆ 0         ┆ a bedroom with ┆ bedroom │\n",
       "│     ┆               ┆          ┆             ┆   ┆        ┆           ┆ a bed,         ┆         │\n",
       "│     ┆               ┆          ┆             ┆   ┆        ┆           ┆ dressers, …    ┆         │\n",
       "│ 3   ┆ 4             ┆ 1        ┆ 4           ┆ … ┆ 1200   ┆ 0         ┆ a bedroom with ┆ bedroom │\n",
       "│     ┆               ┆          ┆             ┆   ┆        ┆           ┆ a bed,         ┆         │\n",
       "│     ┆               ┆          ┆             ┆   ┆        ┆           ┆ dressers, …    ┆         │\n",
       "│ 4   ┆ 5             ┆ 1        ┆ 13          ┆ … ┆ 1200   ┆ 0         ┆ a bedroom with ┆ bedroom │\n",
       "│     ┆               ┆          ┆             ┆   ┆        ┆           ┆ a bed,         ┆         │\n",
       "│     ┆               ┆          ┆             ┆   ┆        ┆           ┆ dressers, …    ┆         │\n",
       "└─────┴───────────────┴──────────┴─────────────┴───┴────────┴───────────┴────────────────┴─────────┘"
      ]
     },
     "execution_count": 17,
     "metadata": {},
     "output_type": "execute_result"
    }
   ],
   "source": [
    "df = pl.read_csv(file_path)\n",
    "\n",
    "df.head()"
   ]
  },
  {
   "cell_type": "code",
   "execution_count": 18,
   "metadata": {},
   "outputs": [
    {
     "data": {
      "text/html": [
       "<div><style>\n",
       ".dataframe > thead > tr > th,\n",
       ".dataframe > tbody > tr > td {\n",
       "  text-align: right;\n",
       "  white-space: pre-wrap;\n",
       "}\n",
       "</style>\n",
       "<small>shape: (5, 21)</small><table border=\"1\" class=\"dataframe\"><thead><tr><th></th><th>annotation_id</th><th>image_id</th><th>category_id</th><th>area</th><th>bbox</th><th>model_id</th><th>texture_id</th><th>fov</th><th>style</th><th>theme</th><th>material</th><th>pose</th><th>occlusion</th><th>width</th><th>height</th><th>file_name</th><th>caption</th><th>Room</th><th>super-category</th><th>category</th></tr><tr><td>i64</td><td>i64</td><td>i64</td><td>i64</td><td>i64</td><td>str</td><td>str</td><td>str</td><td>f64</td><td>str</td><td>str</td><td>str</td><td>str</td><td>str</td><td>i64</td><td>i64</td><td>i64</td><td>str</td><td>str</td><td>str</td><td>str</td></tr></thead><tbody><tr><td>0</td><td>1</td><td>1</td><td>33</td><td>13073</td><td>&quot;[526.0, 56.0, …</td><td>&quot;da64b6ef-d704-…</td><td>&quot;da64b6ef-d704-…</td><td>0.958973</td><td>&quot;Modern&quot;</td><td>null</td><td>null</td><td>&quot;{&#x27;translation&#x27;…</td><td>&quot;NO&quot;</td><td>1200</td><td>1200</td><td>0</td><td>&quot;a bedroom with…</td><td>&quot;bedroom&quot;</td><td>&quot;Lighting&quot;</td><td>&quot;Pendant Lamp&quot;</td></tr><tr><td>1</td><td>2</td><td>1</td><td>2</td><td>8014</td><td>&quot;[1140.0, 795.0…</td><td>&quot;4d5ff861-d5ce-…</td><td>&quot;4d5ff861-d5ce-…</td><td>null</td><td>&quot;Korean&quot;</td><td>&quot;Smooth Net&quot;</td><td>&quot;Composite Boar…</td><td>&quot;{&#x27;translation&#x27;…</td><td>&quot;N/A&quot;</td><td>1200</td><td>1200</td><td>0</td><td>&quot;a bedroom with…</td><td>&quot;bedroom&quot;</td><td>&quot;Cabinet/Shelf/…</td><td>&quot;Nightstand&quot;</td></tr><tr><td>2</td><td>3</td><td>1</td><td>23</td><td>24436</td><td>&quot;[0.0, 603.0, 2…</td><td>&quot;a939be24-9c3d-…</td><td>&quot;a939be24-9c3d-…</td><td>0.958973</td><td>&quot;Light Luxury&quot;</td><td>&quot;Gold Foil&quot;</td><td>&quot;Composite Boar…</td><td>&quot;{&#x27;translation&#x27;…</td><td>&quot;N/A&quot;</td><td>1200</td><td>1200</td><td>0</td><td>&quot;a bedroom with…</td><td>&quot;bedroom&quot;</td><td>&quot;Table&quot;</td><td>&quot;Dressing Table…</td></tr><tr><td>3</td><td>4</td><td>1</td><td>4</td><td>211496</td><td>&quot;[173.0, 287.0,…</td><td>&quot;1d9f21cd-359f-…</td><td>&quot;1d9f21cd-359f-…</td><td>0.958973</td><td>&quot;Korean&quot;</td><td>&quot;Smooth Net&quot;</td><td>&quot;Composite Boar…</td><td>&quot;{&#x27;translation&#x27;…</td><td>&quot;NO&quot;</td><td>1200</td><td>1200</td><td>0</td><td>&quot;a bedroom with…</td><td>&quot;bedroom&quot;</td><td>&quot;Cabinet/Shelf/…</td><td>&quot;Wardrobe&quot;</td></tr><tr><td>4</td><td>5</td><td>1</td><td>13</td><td>235956</td><td>&quot;[414.0, 553.0,…</td><td>&quot;433123cb-172e-…</td><td>&quot;433123cb-172e-…</td><td>0.958973</td><td>&quot;Mediterranean&quot;</td><td>&quot;Striped Grid&quot;</td><td>&quot;Rough Cloth&quot;</td><td>&quot;{&#x27;translation&#x27;…</td><td>&quot;NO&quot;</td><td>1200</td><td>1200</td><td>0</td><td>&quot;a bedroom with…</td><td>&quot;bedroom&quot;</td><td>&quot;Bed&quot;</td><td>&quot;King-size Bed&quot;</td></tr></tbody></table></div>"
      ],
      "text/plain": [
       "shape: (5, 21)\n",
       "┌─────┬─────────────┬──────────┬─────────────┬───┬─────────────┬─────────┬────────────┬────────────┐\n",
       "│     ┆ annotation_ ┆ image_id ┆ category_id ┆ … ┆ caption     ┆ Room    ┆ super-cate ┆ category   │\n",
       "│ --- ┆ id          ┆ ---      ┆ ---         ┆   ┆ ---         ┆ ---     ┆ gory       ┆ ---        │\n",
       "│ i64 ┆ ---         ┆ i64      ┆ i64         ┆   ┆ str         ┆ str     ┆ ---        ┆ str        │\n",
       "│     ┆ i64         ┆          ┆             ┆   ┆             ┆         ┆ str        ┆            │\n",
       "╞═════╪═════════════╪══════════╪═════════════╪═══╪═════════════╪═════════╪════════════╪════════════╡\n",
       "│ 0   ┆ 1           ┆ 1        ┆ 33          ┆ … ┆ a bedroom   ┆ bedroom ┆ Lighting   ┆ Pendant    │\n",
       "│     ┆             ┆          ┆             ┆   ┆ with a bed, ┆         ┆            ┆ Lamp       │\n",
       "│     ┆             ┆          ┆             ┆   ┆ dressers, … ┆         ┆            ┆            │\n",
       "│ 1   ┆ 2           ┆ 1        ┆ 2           ┆ … ┆ a bedroom   ┆ bedroom ┆ Cabinet/Sh ┆ Nightstand │\n",
       "│     ┆             ┆          ┆             ┆   ┆ with a bed, ┆         ┆ elf/Desk   ┆            │\n",
       "│     ┆             ┆          ┆             ┆   ┆ dressers, … ┆         ┆            ┆            │\n",
       "│ 2   ┆ 3           ┆ 1        ┆ 23          ┆ … ┆ a bedroom   ┆ bedroom ┆ Table      ┆ Dressing   │\n",
       "│     ┆             ┆          ┆             ┆   ┆ with a bed, ┆         ┆            ┆ Table      │\n",
       "│     ┆             ┆          ┆             ┆   ┆ dressers, … ┆         ┆            ┆            │\n",
       "│ 3   ┆ 4           ┆ 1        ┆ 4           ┆ … ┆ a bedroom   ┆ bedroom ┆ Cabinet/Sh ┆ Wardrobe   │\n",
       "│     ┆             ┆          ┆             ┆   ┆ with a bed, ┆         ┆ elf/Desk   ┆            │\n",
       "│     ┆             ┆          ┆             ┆   ┆ dressers, … ┆         ┆            ┆            │\n",
       "│ 4   ┆ 5           ┆ 1        ┆ 13          ┆ … ┆ a bedroom   ┆ bedroom ┆ Bed        ┆ King-size  │\n",
       "│     ┆             ┆          ┆             ┆   ┆ with a bed, ┆         ┆            ┆ Bed        │\n",
       "│     ┆             ┆          ┆             ┆   ┆ dressers, … ┆         ┆            ┆            │\n",
       "└─────┴─────────────┴──────────┴─────────────┴───┴─────────────┴─────────┴────────────┴────────────┘"
      ]
     },
     "execution_count": 18,
     "metadata": {},
     "output_type": "execute_result"
    }
   ],
   "source": [
    "df_joined = df.join(df_categories, left_on=\"category_id\", right_on=\"id\")\n",
    "df_joined.head()"
   ]
  },
  {
   "cell_type": "code",
   "execution_count": 19,
   "metadata": {},
   "outputs": [
    {
     "data": {
      "text/html": [
       "<div><style>\n",
       ".dataframe > thead > tr > th,\n",
       ".dataframe > tbody > tr > td {\n",
       "  text-align: right;\n",
       "  white-space: pre-wrap;\n",
       "}\n",
       "</style>\n",
       "<small>shape: (5, 22)</small><table border=\"1\" class=\"dataframe\"><thead><tr><th></th><th>annotation_id</th><th>image_id</th><th>category_id</th><th>area</th><th>bbox</th><th>model_id</th><th>texture_id</th><th>fov</th><th>style</th><th>theme</th><th>material</th><th>pose</th><th>occlusion</th><th>width</th><th>height</th><th>file_name</th><th>caption</th><th>Room</th><th>super-category</th><th>category</th><th>model_description</th></tr><tr><td>i64</td><td>i64</td><td>i64</td><td>i64</td><td>i64</td><td>str</td><td>str</td><td>str</td><td>f64</td><td>str</td><td>str</td><td>str</td><td>str</td><td>str</td><td>i64</td><td>i64</td><td>i64</td><td>str</td><td>str</td><td>str</td><td>str</td><td>str</td></tr></thead><tbody><tr><td>0</td><td>1</td><td>1</td><td>33</td><td>13073</td><td>&quot;[526.0, 56.0, …</td><td>&quot;da64b6ef-d704-…</td><td>&quot;da64b6ef-d704-…</td><td>0.958973</td><td>&quot;Modern&quot;</td><td>null</td><td>null</td><td>&quot;{&#x27;translation&#x27;…</td><td>&quot;NO&quot;</td><td>1200</td><td>1200</td><td>0</td><td>&quot;a bedroom with…</td><td>&quot;bedroom&quot;</td><td>&quot;Lighting&quot;</td><td>&quot;Pendant Lamp&quot;</td><td>&quot;Modern  pendan…</td></tr><tr><td>1</td><td>2</td><td>1</td><td>2</td><td>8014</td><td>&quot;[1140.0, 795.0…</td><td>&quot;4d5ff861-d5ce-…</td><td>&quot;4d5ff861-d5ce-…</td><td>null</td><td>&quot;Korean&quot;</td><td>&quot;Smooth Net&quot;</td><td>&quot;Composite Boar…</td><td>&quot;{&#x27;translation&#x27;…</td><td>&quot;N/A&quot;</td><td>1200</td><td>1200</td><td>0</td><td>&quot;a bedroom with…</td><td>&quot;bedroom&quot;</td><td>&quot;Cabinet/Shelf/…</td><td>&quot;Nightstand&quot;</td><td>&quot;Korean composi…</td></tr><tr><td>2</td><td>3</td><td>1</td><td>23</td><td>24436</td><td>&quot;[0.0, 603.0, 2…</td><td>&quot;a939be24-9c3d-…</td><td>&quot;a939be24-9c3d-…</td><td>0.958973</td><td>&quot;Light Luxury&quot;</td><td>&quot;Gold Foil&quot;</td><td>&quot;Composite Boar…</td><td>&quot;{&#x27;translation&#x27;…</td><td>&quot;N/A&quot;</td><td>1200</td><td>1200</td><td>0</td><td>&quot;a bedroom with…</td><td>&quot;bedroom&quot;</td><td>&quot;Table&quot;</td><td>&quot;Dressing Table…</td><td>&quot;Light Luxury c…</td></tr><tr><td>3</td><td>4</td><td>1</td><td>4</td><td>211496</td><td>&quot;[173.0, 287.0,…</td><td>&quot;1d9f21cd-359f-…</td><td>&quot;1d9f21cd-359f-…</td><td>0.958973</td><td>&quot;Korean&quot;</td><td>&quot;Smooth Net&quot;</td><td>&quot;Composite Boar…</td><td>&quot;{&#x27;translation&#x27;…</td><td>&quot;NO&quot;</td><td>1200</td><td>1200</td><td>0</td><td>&quot;a bedroom with…</td><td>&quot;bedroom&quot;</td><td>&quot;Cabinet/Shelf/…</td><td>&quot;Wardrobe&quot;</td><td>&quot;Korean composi…</td></tr><tr><td>4</td><td>5</td><td>1</td><td>13</td><td>235956</td><td>&quot;[414.0, 553.0,…</td><td>&quot;433123cb-172e-…</td><td>&quot;433123cb-172e-…</td><td>0.958973</td><td>&quot;Mediterranean&quot;</td><td>&quot;Striped Grid&quot;</td><td>&quot;Rough Cloth&quot;</td><td>&quot;{&#x27;translation&#x27;…</td><td>&quot;NO&quot;</td><td>1200</td><td>1200</td><td>0</td><td>&quot;a bedroom with…</td><td>&quot;bedroom&quot;</td><td>&quot;Bed&quot;</td><td>&quot;King-size Bed&quot;</td><td>&quot;Mediterranean …</td></tr></tbody></table></div>"
      ],
      "text/plain": [
       "shape: (5, 22)\n",
       "┌─────┬─────────────┬──────────┬─────────────┬───┬─────────┬─────────────┬────────────┬────────────┐\n",
       "│     ┆ annotation_ ┆ image_id ┆ category_id ┆ … ┆ Room    ┆ super-categ ┆ category   ┆ model_desc │\n",
       "│ --- ┆ id          ┆ ---      ┆ ---         ┆   ┆ ---     ┆ ory         ┆ ---        ┆ ription    │\n",
       "│ i64 ┆ ---         ┆ i64      ┆ i64         ┆   ┆ str     ┆ ---         ┆ str        ┆ ---        │\n",
       "│     ┆ i64         ┆          ┆             ┆   ┆         ┆ str         ┆            ┆ str        │\n",
       "╞═════╪═════════════╪══════════╪═════════════╪═══╪═════════╪═════════════╪════════════╪════════════╡\n",
       "│ 0   ┆ 1           ┆ 1        ┆ 33          ┆ … ┆ bedroom ┆ Lighting    ┆ Pendant    ┆ Modern     │\n",
       "│     ┆             ┆          ┆             ┆   ┆         ┆             ┆ Lamp       ┆ pendant    │\n",
       "│     ┆             ┆          ┆             ┆   ┆         ┆             ┆            ┆ lamp       │\n",
       "│ 1   ┆ 2           ┆ 1        ┆ 2           ┆ … ┆ bedroom ┆ Cabinet/She ┆ Nightstand ┆ Korean     │\n",
       "│     ┆             ┆          ┆             ┆   ┆         ┆ lf/Desk     ┆            ┆ composite  │\n",
       "│     ┆             ┆          ┆             ┆   ┆         ┆             ┆            ┆ board      │\n",
       "│     ┆             ┆          ┆             ┆   ┆         ┆             ┆            ┆ nightstan… │\n",
       "│ 2   ┆ 3           ┆ 1        ┆ 23          ┆ … ┆ bedroom ┆ Table       ┆ Dressing   ┆ Light      │\n",
       "│     ┆             ┆          ┆             ┆   ┆         ┆             ┆ Table      ┆ Luxury     │\n",
       "│     ┆             ┆          ┆             ┆   ┆         ┆             ┆            ┆ composite  │\n",
       "│     ┆             ┆          ┆             ┆   ┆         ┆             ┆            ┆ board dre… │\n",
       "│ 3   ┆ 4           ┆ 1        ┆ 4           ┆ … ┆ bedroom ┆ Cabinet/She ┆ Wardrobe   ┆ Korean     │\n",
       "│     ┆             ┆          ┆             ┆   ┆         ┆ lf/Desk     ┆            ┆ composite  │\n",
       "│     ┆             ┆          ┆             ┆   ┆         ┆             ┆            ┆ board      │\n",
       "│     ┆             ┆          ┆             ┆   ┆         ┆             ┆            ┆ wardrobe   │\n",
       "│ 4   ┆ 5           ┆ 1        ┆ 13          ┆ … ┆ bedroom ┆ Bed         ┆ King-size  ┆ Mediterran │\n",
       "│     ┆             ┆          ┆             ┆   ┆         ┆             ┆ Bed        ┆ ean rough  │\n",
       "│     ┆             ┆          ┆             ┆   ┆         ┆             ┆            ┆ cloth      │\n",
       "│     ┆             ┆          ┆             ┆   ┆         ┆             ┆            ┆ king-s…    │\n",
       "└─────┴─────────────┴──────────┴─────────────┴───┴─────────┴─────────────┴────────────┴────────────┘"
      ]
     },
     "execution_count": 19,
     "metadata": {},
     "output_type": "execute_result"
    }
   ],
   "source": [
    "df_concat = df_joined.with_columns(\n",
    "    pl.concat_str(\n",
    "        [\n",
    "            pl.col(\"style\").fill_null(\"\"),\n",
    "            pl.col(\"material\").fill_null(\"\").str.to_lowercase(),\n",
    "            pl.col(\"category\").str.to_lowercase(),\n",
    "        ],\n",
    "        separator=\" \",\n",
    "    ).alias(\"model_description\"),\n",
    ")\n",
    "\n",
    "df_concat.head()"
   ]
  },
  {
   "cell_type": "markdown",
   "metadata": {},
   "source": [
    "# Concatenate room captions\n",
    "For each image\n",
    "BLIP descriptions + The room has {style} {category}, {style} {category}, ...\n",
    "e.g. The room has Mediterranean style Coffee table, Korean style Sofa"
   ]
  },
  {
   "cell_type": "code",
   "execution_count": 21,
   "metadata": {},
   "outputs": [
    {
     "name": "stdout",
     "output_type": "stream",
     "text": [
      "shape: (14_761, 7)\n",
      "┌──────────┬─────────────┬───────────────┬───────────────┬────────────┬─────────────┬──────────────┐\n",
      "│ image_id ┆ Room        ┆ caption       ┆ model_descrip ┆ item_count ┆ file_name   ┆ full_descrip │\n",
      "│ ---      ┆ ---         ┆ ---           ┆ tion          ┆ ---        ┆ ---         ┆ tion         │\n",
      "│ i64      ┆ str         ┆ str           ┆ ---           ┆ u32        ┆ str         ┆ ---          │\n",
      "│          ┆             ┆               ┆ str           ┆            ┆             ┆ str          │\n",
      "╞══════════╪═════════════╪═══════════════╪═══════════════╪════════════╪═════════════╪══════════════╡\n",
      "│ 1        ┆ bedroom     ┆ a bedroom     ┆ Modern        ┆ 5          ┆ 0000000.jpg ┆ a bedroom    │\n",
      "│          ┆             ┆ with a bed,   ┆ pendant lamp, ┆            ┆             ┆ with a bed,  │\n",
      "│          ┆             ┆ dressers, …   ┆ Light Luxu…   ┆            ┆             ┆ dressers, …  │\n",
      "│ 2        ┆ living room ┆ a living room ┆ Minimalist    ┆ 6          ┆ 0000001.jpg ┆ a living     │\n",
      "│          ┆             ┆ with a couch, ┆ others coffee ┆            ┆             ┆ room with a  │\n",
      "│          ┆             ┆ coff…         ┆ table, …      ┆            ┆             ┆ couch, coff… │\n",
      "│ 3        ┆ study room  ┆ a room with a ┆ Korean        ┆ 3          ┆ 0000002.jpg ┆ a room with  │\n",
      "│          ┆             ┆ desk and a    ┆ composite     ┆            ┆             ┆ a desk and a │\n",
      "│          ┆             ┆ chair         ┆ board         ┆            ┆             ┆ chair; …     │\n",
      "│          ┆             ┆               ┆ wardrobe,…    ┆            ┆             ┆              │\n",
      "│ 4        ┆ living room ┆ a living room ┆ Light Luxury  ┆ 4          ┆ 0000003.jpg ┆ a living     │\n",
      "│          ┆             ┆ with a couch, ┆ rough cloth   ┆            ┆             ┆ room with a  │\n",
      "│          ┆             ┆ chai…         ┆ armchai…      ┆            ┆             ┆ couch, chai… │\n",
      "│ …        ┆ …           ┆ …             ┆ …             ┆ …          ┆ …           ┆ …            │\n",
      "│ 14758    ┆ living room ┆ a living room ┆ Korean        ┆ 5          ┆ 0014757.jpg ┆ a living     │\n",
      "│          ┆             ┆ with a couch, ┆ composite     ┆            ┆             ┆ room with a  │\n",
      "│          ┆             ┆ chai…         ┆ board         ┆            ┆             ┆ couch, chai… │\n",
      "│          ┆             ┆               ┆ corner/si…    ┆            ┆             ┆              │\n",
      "│ 14759    ┆ living room ┆ a living room ┆ Japanese      ┆ 5          ┆ 0014758.jpg ┆ a living     │\n",
      "│          ┆             ┆ with a couch, ┆ cloth         ┆            ┆             ┆ room with a  │\n",
      "│          ┆             ┆ chai…         ┆ three-seat /  ┆            ┆             ┆ couch, chai… │\n",
      "│          ┆             ┆               ┆ mult…         ┆            ┆             ┆              │\n",
      "│ 14760    ┆ living room ┆ a living room ┆ Industrial    ┆ 8          ┆ 0014759.jpg ┆ a living     │\n",
      "│          ┆             ┆ with a couch, ┆ composition   ┆            ┆             ┆ room with a  │\n",
      "│          ┆             ┆ chai…         ┆ corner/si…    ┆            ┆             ┆ couch, chai… │\n",
      "│ 14761    ┆ bedroom     ┆ a bedroom     ┆ Korean wood   ┆ 6          ┆ 0014760.jpg ┆ a bedroom    │\n",
      "│          ┆             ┆ with a bed,   ┆ dressing      ┆            ┆             ┆ with a bed,  │\n",
      "│          ┆             ┆ chair, and…   ┆ table,   ni…  ┆            ┆             ┆ chair, and…  │\n",
      "└──────────┴─────────────┴───────────────┴───────────────┴────────────┴─────────────┴──────────────┘\n"
     ]
    }
   ],
   "source": [
    "df_img = df_concat.group_by(['image_id', \"Room\", \"caption\"]).agg(\n",
    "    pl.col(\"model_description\").unique().str.concat(\", \"),\n",
    "    pl.col(\"model_description\").unique().count().alias(\"item_count\")\n",
    ").join(\n",
    "    df_images.select(pl.exclude([\"width\", \"height\"])), left_on=\"image_id\", right_on=\"id\"\n",
    ")\n",
    "\n",
    "# Concatenate the generated annotations with BLIP captions\n",
    "df_img = df_img.with_columns(\n",
    "    pl.concat_str([\n",
    "        pl.col(\"caption\").str.strip_chars(),\n",
    "        pl.col(\"model_description\").str.strip_chars(\", \")\n",
    "    ], separator=\"; \").alias(\"full_description\")\n",
    ")\n",
    "\n",
    "# Replace file names with *.jpg format\n",
    "df_img = df_img.with_columns(\n",
    "    df_img[\"file_name\"] + \".jpg\",\n",
    ")\n",
    "\n",
    "print(df_img)"
   ]
  },
  {
   "cell_type": "code",
   "execution_count": 10,
   "metadata": {},
   "outputs": [],
   "source": [
    "df_img.write_csv(file=\"3dfront-annotated.csv\")"
   ]
  },
  {
   "cell_type": "code",
   "execution_count": 22,
   "metadata": {},
   "outputs": [
    {
     "data": {
      "text/html": [
       "<div><style>\n",
       ".dataframe > thead > tr > th,\n",
       ".dataframe > tbody > tr > td {\n",
       "  text-align: right;\n",
       "  white-space: pre-wrap;\n",
       "}\n",
       "</style>\n",
       "<small>shape: (24, 3)</small><table border=\"1\" class=\"dataframe\"><thead><tr><th>Room</th><th>item_count</th><th>count</th></tr><tr><td>str</td><td>u32</td><td>u32</td></tr></thead><tbody><tr><td>&quot;bedroom&quot;</td><td>8</td><td>3</td></tr><tr><td>&quot;bedroom&quot;</td><td>7</td><td>16</td></tr><tr><td>&quot;bedroom&quot;</td><td>6</td><td>405</td></tr><tr><td>&quot;bedroom&quot;</td><td>5</td><td>944</td></tr><tr><td>&quot;bedroom&quot;</td><td>4</td><td>1648</td></tr><tr><td>&quot;bedroom&quot;</td><td>3</td><td>993</td></tr><tr><td>&quot;bedroom&quot;</td><td>2</td><td>281</td></tr><tr><td>&quot;bedroom&quot;</td><td>1</td><td>25</td></tr><tr><td>&quot;dining room&quot;</td><td>8</td><td>1</td></tr><tr><td>&quot;dining room&quot;</td><td>6</td><td>37</td></tr><tr><td>&quot;dining room&quot;</td><td>5</td><td>212</td></tr><tr><td>&quot;dining room&quot;</td><td>4</td><td>1303</td></tr><tr><td>&quot;dining room&quot;</td><td>3</td><td>306</td></tr><tr><td>&quot;dining room&quot;</td><td>2</td><td>68</td></tr><tr><td>&quot;dining room&quot;</td><td>1</td><td>18</td></tr><tr><td>&quot;living room&quot;</td><td>9</td><td>15</td></tr><tr><td>&quot;living room&quot;</td><td>8</td><td>85</td></tr><tr><td>&quot;living room&quot;</td><td>7</td><td>284</td></tr><tr><td>&quot;living room&quot;</td><td>6</td><td>1181</td></tr><tr><td>&quot;living room&quot;</td><td>5</td><td>2280</td></tr><tr><td>&quot;living room&quot;</td><td>4</td><td>2545</td></tr><tr><td>&quot;living room&quot;</td><td>3</td><td>1207</td></tr><tr><td>&quot;living room&quot;</td><td>2</td><td>298</td></tr><tr><td>&quot;living room&quot;</td><td>1</td><td>68</td></tr></tbody></table></div>"
      ],
      "text/plain": [
       "shape: (24, 3)\n",
       "┌─────────────┬────────────┬───────┐\n",
       "│ Room        ┆ item_count ┆ count │\n",
       "│ ---         ┆ ---        ┆ ---   │\n",
       "│ str         ┆ u32        ┆ u32   │\n",
       "╞═════════════╪════════════╪═══════╡\n",
       "│ bedroom     ┆ 8          ┆ 3     │\n",
       "│ bedroom     ┆ 7          ┆ 16    │\n",
       "│ bedroom     ┆ 6          ┆ 405   │\n",
       "│ bedroom     ┆ 5          ┆ 944   │\n",
       "│ …           ┆ …          ┆ …     │\n",
       "│ living room ┆ 4          ┆ 2545  │\n",
       "│ living room ┆ 3          ┆ 1207  │\n",
       "│ living room ┆ 2          ┆ 298   │\n",
       "│ living room ┆ 1          ┆ 68    │\n",
       "└─────────────┴────────────┴───────┘"
      ]
     },
     "execution_count": 22,
     "metadata": {},
     "output_type": "execute_result"
    }
   ],
   "source": [
    "summary = df_img.filter(pl.col(\"Room\").is_in([\n",
    "    \"living room\", \"bedroom\", \"dining room\"\n",
    "])).group_by([\"Room\", \"item_count\"]).count().sort([\"Room\", \"item_count\"], descending=[False, True])\n",
    "\n",
    "summary"
   ]
  },
  {
   "cell_type": "code",
   "execution_count": 23,
   "metadata": {},
   "outputs": [],
   "source": [
    "sorted_living_df = df_img.filter(pl.col(\"Room\") == \"living room\").sort([\"item_count\", \"file_name\"], descending=[True, False])\n",
    "# sorted_bedroom_df = df_img.filter(pl.col(\"Room\") == \"bedroom\" & pl.col(\"item_count\") > 3).sort([\"item_count\", \"file_name\"], descending=[True, False])\n",
    "# sorted_dining_df = df_img.filter(pl.col(\"Room\") == \"dining room\" & pl.col(\"item_count\") > 3).sort([\"item_count\", \"file_name\"], descending=[True, False])"
   ]
  },
  {
   "cell_type": "code",
   "execution_count": 12,
   "metadata": {},
   "outputs": [],
   "source": [
    "def move_files(key, file_names):\n",
    "    source_folder = \"3D-FUTURE-scene\"\n",
    "    dest_folder = os.path.join(source_folder, \"train\", \"image_512_\" + key)\n",
    "\n",
    "    if not os.path.exists(dest_folder):\n",
    "        # If it doesn't exist, create it\n",
    "        os.makedirs(dest_folder)\n",
    "\n",
    "    for file_name in file_names:\n",
    "        full_file_name = os.path.join(source_folder, \"train\", \"image_512\", file_name)\n",
    "        dest = os.path.join(dest_folder, file_name)\n",
    "        shutil.copy(full_file_name, dest)\n"
   ]
  },
  {
   "cell_type": "code",
   "execution_count": 31,
   "metadata": {},
   "outputs": [
    {
     "ename": "FileNotFoundError",
     "evalue": "[Errno 2] No such file or directory: './train\\\\image_512\\\\0000072.jpg'",
     "output_type": "error",
     "traceback": [
      "\u001b[1;31m---------------------------------------------------------------------------\u001b[0m",
      "\u001b[1;31mFileNotFoundError\u001b[0m                         Traceback (most recent call last)",
      "Cell \u001b[1;32mIn[31], line 1\u001b[0m\n\u001b[1;32m----> 1\u001b[0m \u001b[43mmove_files\u001b[49m\u001b[43m(\u001b[49m\u001b[38;5;124;43m\"\u001b[39;49m\u001b[38;5;124;43mliving\u001b[39;49m\u001b[38;5;124;43m\"\u001b[39;49m\u001b[43m,\u001b[49m\u001b[43m \u001b[49m\u001b[43msorted_living_df\u001b[49m\u001b[43m[\u001b[49m\u001b[38;5;124;43m\"\u001b[39;49m\u001b[38;5;124;43mfile_name\u001b[39;49m\u001b[38;5;124;43m\"\u001b[39;49m\u001b[43m]\u001b[49m\u001b[43m)\u001b[49m\n",
      "Cell \u001b[1;32mIn[30], line 11\u001b[0m, in \u001b[0;36mmove_files\u001b[1;34m(key, file_names)\u001b[0m\n\u001b[0;32m      9\u001b[0m full_file_name \u001b[38;5;241m=\u001b[39m os\u001b[38;5;241m.\u001b[39mpath\u001b[38;5;241m.\u001b[39mjoin(source_folder, \u001b[38;5;124m\"\u001b[39m\u001b[38;5;124mtrain\u001b[39m\u001b[38;5;124m\"\u001b[39m, \u001b[38;5;124m\"\u001b[39m\u001b[38;5;124mimage_512\u001b[39m\u001b[38;5;124m\"\u001b[39m, file_name)\n\u001b[0;32m     10\u001b[0m dest \u001b[38;5;241m=\u001b[39m os\u001b[38;5;241m.\u001b[39mpath\u001b[38;5;241m.\u001b[39mjoin(dest_folder, file_name)\n\u001b[1;32m---> 11\u001b[0m \u001b[43mshutil\u001b[49m\u001b[38;5;241;43m.\u001b[39;49m\u001b[43mcopy\u001b[49m\u001b[43m(\u001b[49m\u001b[43mfull_file_name\u001b[49m\u001b[43m,\u001b[49m\u001b[43m \u001b[49m\u001b[43mdest\u001b[49m\u001b[43m)\u001b[49m\n",
      "File \u001b[1;32mc:\\Users\\JackChua\\miniconda3\\envs\\room\\lib\\shutil.py:427\u001b[0m, in \u001b[0;36mcopy\u001b[1;34m(src, dst, follow_symlinks)\u001b[0m\n\u001b[0;32m    425\u001b[0m \u001b[39mif\u001b[39;00m os\u001b[39m.\u001b[39mpath\u001b[39m.\u001b[39misdir(dst):\n\u001b[0;32m    426\u001b[0m     dst \u001b[39m=\u001b[39m os\u001b[39m.\u001b[39mpath\u001b[39m.\u001b[39mjoin(dst, os\u001b[39m.\u001b[39mpath\u001b[39m.\u001b[39mbasename(src))\n\u001b[1;32m--> 427\u001b[0m copyfile(src, dst, follow_symlinks\u001b[39m=\u001b[39;49mfollow_symlinks)\n\u001b[0;32m    428\u001b[0m copymode(src, dst, follow_symlinks\u001b[39m=\u001b[39mfollow_symlinks)\n\u001b[0;32m    429\u001b[0m \u001b[39mreturn\u001b[39;00m dst\n",
      "File \u001b[1;32mc:\\Users\\JackChua\\miniconda3\\envs\\room\\lib\\shutil.py:264\u001b[0m, in \u001b[0;36mcopyfile\u001b[1;34m(src, dst, follow_symlinks)\u001b[0m\n\u001b[0;32m    262\u001b[0m     os\u001b[39m.\u001b[39msymlink(os\u001b[39m.\u001b[39mreadlink(src), dst)\n\u001b[0;32m    263\u001b[0m \u001b[39melse\u001b[39;00m:\n\u001b[1;32m--> 264\u001b[0m     \u001b[39mwith\u001b[39;00m \u001b[39mopen\u001b[39;49m(src, \u001b[39m'\u001b[39;49m\u001b[39mrb\u001b[39;49m\u001b[39m'\u001b[39;49m) \u001b[39mas\u001b[39;00m fsrc:\n\u001b[0;32m    265\u001b[0m         \u001b[39mtry\u001b[39;00m:\n\u001b[0;32m    266\u001b[0m             \u001b[39mwith\u001b[39;00m \u001b[39mopen\u001b[39m(dst, \u001b[39m'\u001b[39m\u001b[39mwb\u001b[39m\u001b[39m'\u001b[39m) \u001b[39mas\u001b[39;00m fdst:\n\u001b[0;32m    267\u001b[0m                 \u001b[39m# macOS\u001b[39;00m\n",
      "\u001b[1;31mFileNotFoundError\u001b[0m: [Errno 2] No such file or directory: './train\\\\image_512\\\\0000072.jpg'"
     ]
    }
   ],
   "source": [
    "move_files(\"living\", sorted_living_df[\"file_name\"])"
   ]
  },
  {
   "cell_type": "markdown",
   "metadata": {},
   "source": [
    "# Clean dataset\n",
    "Images were manually sifted through and handpicked to form final dataset for training."
   ]
  },
  {
   "cell_type": "code",
   "execution_count": 25,
   "metadata": {},
   "outputs": [],
   "source": [
    "# Working with cleaned dataset\n",
    "def filter_images(folder):\n",
    "    main_source_folder = \"3D-FUTURE-scene\"\n",
    "\n",
    "    clean_folder_path = os.path.join(main_source_folder, 'train', folder)\n",
    "\n",
    "    # # List all filenames in the folder\n",
    "    filenames = os.listdir(clean_folder_path)\n",
    "    filtered_df = df_img.filter(df_img['file_name'].is_in(filenames))\n",
    "    return filtered_df"
   ]
  },
  {
   "cell_type": "code",
   "execution_count": 26,
   "metadata": {},
   "outputs": [],
   "source": [
    "filtered_living_df = filter_images('image_512_living_f')"
   ]
  },
  {
   "cell_type": "code",
   "execution_count": 27,
   "metadata": {},
   "outputs": [
    {
     "data": {
      "text/html": [
       "<div><style>\n",
       ".dataframe > thead > tr > th,\n",
       ".dataframe > tbody > tr > td {\n",
       "  text-align: right;\n",
       "  white-space: pre-wrap;\n",
       "}\n",
       "</style>\n",
       "<small>shape: (8, 3)</small><table border=\"1\" class=\"dataframe\"><thead><tr><th>Room</th><th>item_count</th><th>count</th></tr><tr><td>str</td><td>u32</td><td>u32</td></tr></thead><tbody><tr><td>&quot;living room&quot;</td><td>9</td><td>1</td></tr><tr><td>&quot;living room&quot;</td><td>8</td><td>4</td></tr><tr><td>&quot;living room&quot;</td><td>7</td><td>11</td></tr><tr><td>&quot;living room&quot;</td><td>6</td><td>23</td></tr><tr><td>&quot;living room&quot;</td><td>5</td><td>67</td></tr><tr><td>&quot;living room&quot;</td><td>4</td><td>53</td></tr><tr><td>&quot;living room&quot;</td><td>3</td><td>21</td></tr><tr><td>&quot;living room&quot;</td><td>1</td><td>1</td></tr></tbody></table></div>"
      ],
      "text/plain": [
       "shape: (8, 3)\n",
       "┌─────────────┬────────────┬───────┐\n",
       "│ Room        ┆ item_count ┆ count │\n",
       "│ ---         ┆ ---        ┆ ---   │\n",
       "│ str         ┆ u32        ┆ u32   │\n",
       "╞═════════════╪════════════╪═══════╡\n",
       "│ living room ┆ 9          ┆ 1     │\n",
       "│ living room ┆ 8          ┆ 4     │\n",
       "│ living room ┆ 7          ┆ 11    │\n",
       "│ living room ┆ 6          ┆ 23    │\n",
       "│ living room ┆ 5          ┆ 67    │\n",
       "│ living room ┆ 4          ┆ 53    │\n",
       "│ living room ┆ 3          ┆ 21    │\n",
       "│ living room ┆ 1          ┆ 1     │\n",
       "└─────────────┴────────────┴───────┘"
      ]
     },
     "execution_count": 27,
     "metadata": {},
     "output_type": "execute_result"
    }
   ],
   "source": [
    "summary_filtered_living = filtered_living_df.group_by([\"Room\", \"item_count\"]).count().sort([\"Room\", \"item_count\"], descending=[False, True])\n",
    "\n",
    "summary_filtered_living"
   ]
  },
  {
   "cell_type": "code",
   "execution_count": 28,
   "metadata": {},
   "outputs": [],
   "source": [
    "def output_prompts(folder, df):\n",
    "    main_source_folder = \"3D-FUTURE-scene\"\n",
    "    output_directory = os.path.join(main_source_folder, 'train', folder)\n",
    "    os.makedirs(output_directory, exist_ok=True)\n",
    "\n",
    "    file_name_index = df.find_idx_by_name(\"file_name\")\n",
    "    full_description_index = df.find_idx_by_name(\"full_description\")\n",
    "    \n",
    "    def output_image(row):\n",
    "        name = row[file_name_index].split(\".\")[0]\n",
    "        output_file_path = os.path.join(output_directory, f'{name}.txt')\n",
    "        with open(output_file_path, \"w\") as file:\n",
    "            file.write(row[full_description_index])\n",
    "        return row\n",
    "\n",
    "    df.map_rows(output_image)"
   ]
  },
  {
   "cell_type": "code",
   "execution_count": 29,
   "metadata": {},
   "outputs": [],
   "source": [
    "output_prompts(\"image_512_living_f_captions\", filtered_living_df)"
   ]
  },
  {
   "cell_type": "markdown",
   "metadata": {},
   "source": [
    "# Prepare IKEA datasets"
   ]
  },
  {
   "cell_type": "code",
   "execution_count": 56,
   "metadata": {},
   "outputs": [
    {
     "data": {
      "text/html": [
       "<div><style>\n",
       ".dataframe > thead > tr > th,\n",
       ".dataframe > tbody > tr > td {\n",
       "  text-align: right;\n",
       "  white-space: pre-wrap;\n",
       "}\n",
       "</style>\n",
       "<small>shape: (5, 3)</small><table border=\"1\" class=\"dataframe\"><thead><tr><th></th><th>filename</th><th>caption</th></tr><tr><td>i64</td><td>str</td><td>str</td></tr></thead><tbody><tr><td>0</td><td>&quot;ikea-crisp-modern-design-perfect-for-breakfast-time__1364308406824-s4&quot;</td><td>&quot;a kitchen with white cabinets and a table&quot;</td></tr><tr><td>1</td><td>&quot;ikea-kid-friendly-storage-in-traditional-style__1364308477569-s4&quot;</td><td>&quot;a pink room with a wooden dresser and a white dresser&quot;</td></tr><tr><td>2</td><td>&quot;ikea-living-room-by-day-sleeping-space-by-night.__1364309472217-s4&quot;</td><td>&quot;a bedroom with a bed, dresser and fireplace&quot;</td></tr><tr><td>3</td><td>&quot;ikea-traditional-looks-meet-modern-versatility__1364308465624-s4&quot;</td><td>&quot;a kitchen with white cabinets and wooden floors&quot;</td></tr><tr><td>4</td><td>&quot;ikea-traditional-long-lasting-furniture-for-every-generation__1364309710705-s4&quot;</td><td>&quot;a white table and chairs in a garden&quot;</td></tr></tbody></table></div>"
      ],
      "text/plain": [
       "shape: (5, 3)\n",
       "┌─────┬──────────────────────────────────────────────┬─────────────────────────────────────────────┐\n",
       "│     ┆ filename                                     ┆ caption                                     │\n",
       "│ --- ┆ ---                                          ┆ ---                                         │\n",
       "│ i64 ┆ str                                          ┆ str                                         │\n",
       "╞═════╪══════════════════════════════════════════════╪═════════════════════════════════════════════╡\n",
       "│ 0   ┆ ikea-crisp-modern-design-perfect-for-breakfa ┆ a kitchen with white cabinets and a table   │\n",
       "│     ┆ st-time__1364308406824-s4                    ┆                                             │\n",
       "│ 1   ┆ ikea-kid-friendly-storage-in-traditional-sty ┆ a pink room with a wooden dresser and a     │\n",
       "│     ┆ le__1364308477569-s4                         ┆ white dresser                               │\n",
       "│ 2   ┆ ikea-living-room-by-day-sleeping-space-by-ni ┆ a bedroom with a bed, dresser and fireplace │\n",
       "│     ┆ ght.__1364309472217-s4                       ┆                                             │\n",
       "│ 3   ┆ ikea-traditional-looks-meet-modern-versatili ┆ a kitchen with white cabinets and wooden    │\n",
       "│     ┆ ty__1364308465624-s4                         ┆ floors                                      │\n",
       "│ 4   ┆ ikea-traditional-long-lasting-furniture-for- ┆ a white table and chairs in a garden        │\n",
       "│     ┆ every-generation__1364309710705-s4           ┆                                             │\n",
       "└─────┴──────────────────────────────────────────────┴─────────────────────────────────────────────┘"
      ]
     },
     "execution_count": 56,
     "metadata": {},
     "output_type": "execute_result"
    }
   ],
   "source": [
    "ikea_file_path = \"room_scenes_blip2.csv\"\n",
    "df_ikea = pl.read_csv(ikea_file_path)\n",
    "\n",
    "df_ikea.head()"
   ]
  },
  {
   "cell_type": "code",
   "execution_count": 63,
   "metadata": {},
   "outputs": [],
   "source": [
    "def filter_ikea_rooms(room, df):\n",
    "    df_filtered = df.filter(df['caption'].str.contains(room))\n",
    "    return df_filtered"
   ]
  },
  {
   "cell_type": "code",
   "execution_count": 64,
   "metadata": {},
   "outputs": [],
   "source": [
    "ikea_living_df = filter_ikea_rooms(\"living room\", df_ikea)"
   ]
  },
  {
   "cell_type": "code",
   "execution_count": 58,
   "metadata": {},
   "outputs": [],
   "source": [
    "from PIL import Image\n",
    "\n",
    "# Function to resize an image using GPU\n",
    "def resize_image(input_path, output_path, width=512, height=512):\n",
    "    try:\n",
    "        # Load the image using Pillow\n",
    "        image = Image.open(input_path)\n",
    "\n",
    "        resized_image = image.resize((512, 512), Image.LANCZOS)\n",
    "        resized_image.save(output_path)\n",
    "    except Exception as e:\n",
    "        print(f\"Error resizing {input_path}: {str(e)}\")"
   ]
  },
  {
   "cell_type": "code",
   "execution_count": 60,
   "metadata": {},
   "outputs": [
    {
     "name": "stdout",
     "output_type": "stream",
     "text": [
      "Directory './ikea_room_scenes/room_scenes_512/' has been created.\n"
     ]
    },
    {
     "name": "stderr",
     "output_type": "stream",
     "text": [
      "C:\\Users\\JackChua\\AppData\\Local\\Temp\\ipykernel_17584\\2552947371.py:9: DeprecationWarning: ANTIALIAS is deprecated and will be removed in Pillow 10 (2023-07-01). Use LANCZOS or Resampling.LANCZOS instead.\n",
      "  resized_image = image.resize((512, 512), Image.ANTIALIAS)\n"
     ]
    }
   ],
   "source": [
    "input_directory = './ikea_room_scenes/room_scenes/'\n",
    "output_directory = './ikea_room_scenes/room_scenes_512/'\n",
    "\n",
    "ikea_filenames = os.listdir(input_directory)\n",
    "\n",
    "if not os.path.exists(output_directory):\n",
    "    os.makedirs(output_directory)\n",
    "    print(f\"Directory '{output_directory}' has been created.\")\n",
    "\n",
    "for filename in ikea_filenames:\n",
    "    resize_image(input_directory + filename, output_directory + filename)"
   ]
  },
  {
   "cell_type": "code",
   "execution_count": 79,
   "metadata": {},
   "outputs": [],
   "source": [
    "def create_ikea_dataset(key, df):\n",
    "    main_source_folder = \"./ikea_room_scenes\"\n",
    "    input_directory = os.path.join(main_source_folder, 'room_scenes_512')\n",
    "    output_directory = os.path.join(main_source_folder, 'room_scenes_512_' + key)\n",
    "\n",
    "    output_directory_images = os.path.join(output_directory, 'images')\n",
    "    output_directory_captions = os.path.join(output_directory, 'captions')\n",
    "\n",
    "    os.makedirs(output_directory_images, exist_ok=True)\n",
    "    os.makedirs(output_directory_captions, exist_ok=True)\n",
    "\n",
    "    filename_index = df.find_idx_by_name(\"filename\")\n",
    "    caption_index = df.find_idx_by_name(\"caption\")\n",
    "\n",
    "    style = \"; Scandinavian style\"\n",
    "    \n",
    "    def output_image(row):\n",
    "        filename = row[filename_index]\n",
    "        output_file_path = os.path.join(output_directory_captions, f'{filename}.txt')\n",
    "        with open(output_file_path, \"w\") as file:\n",
    "            file.write(row[caption_index] + style)\n",
    "\n",
    "        # Copy selected images over\n",
    "        filename_jpg = filename + \".jpg\"\n",
    "        input_img_path = os.path.join(input_directory, filename_jpg)\n",
    "        output_img_path = os.path.join(output_directory_images, filename_jpg)\n",
    "        shutil.copy(input_img_path, output_img_path)\n",
    "        return row\n",
    "\n",
    "    df.map_rows(output_image)"
   ]
  },
  {
   "cell_type": "code",
   "execution_count": 80,
   "metadata": {},
   "outputs": [],
   "source": [
    "create_ikea_dataset(\"living\", ikea_living_df)"
   ]
  },
  {
   "cell_type": "code",
   "execution_count": 88,
   "metadata": {},
   "outputs": [],
   "source": [
    "# Combines dataset of \n",
    "# def combine_data(key):\n",
    "#     main_source_folder = \"./combined_data\"\n",
    "#     output_directory = os.path.join(main_source_folder, key)\n",
    "#     output_directory_images = os.path.join(output_directory, 'images')\n",
    "#     output_directory_captions = os.path.join(output_directory, 'captions')\n",
    "\n",
    "#     if not os.path.exists(output_directory_images):\n",
    "#         os.makedirs(output_directory_images, exist_ok=True)\n",
    "#     if not os.path.exists(output_directory_captions):\n",
    "#         os.makedirs(output_directory_captions, exist_ok=True)\n",
    "\n",
    "#     # 3D Future Data\n",
    "#     threedfuture_main_source_folder = \"./3D-FUTURE-scene\"\n",
    "#     threedfuture_input_directory_images = os.path.join(threedfuture_main_source_folder, 'train', f\"image_512_{key}_f\")\n",
    "#     threedfuture_input_directory_captions = os.path.join(threedfuture_main_source_folder, 'train', f\"image_512_{key}_f_captions\")\n",
    "\n",
    "#     shutil.copy2(threedfuture_input_directory_images, output_directory_images)\n",
    "#     shutil.copy2(threedfuture_input_directory_captions, output_directory_captions)\n",
    "\n",
    "#     # IKEA Data\n",
    "#     ikea_main_source_folder = \"./ikea_room_scenes\"\n",
    "#     ikea_input_directory = os.path.join(main_source_folder, 'room_scenes_512_' + key)\n",
    "#     ikea_input_directory_images = os.path.join(ikea_input_directory, \"images\")\n",
    "#     ikea_input_directory_captions = os.path.join(ikea_input_directory, \"captions\")\n",
    "\n",
    "#     shutil.copy2(ikea_input_directory_images, output_directory_images)\n",
    "#     shutil.copy2(ikea_input_directory_captions, output_directory_captions)"
   ]
  },
  {
   "cell_type": "code",
   "execution_count": 90,
   "metadata": {},
   "outputs": [
    {
     "ename": "PermissionError",
     "evalue": "[Errno 13] Permission denied: './3D-FUTURE-scene\\\\train\\\\image_512_living_f'",
     "output_type": "error",
     "traceback": [
      "\u001b[1;31m---------------------------------------------------------------------------\u001b[0m",
      "\u001b[1;31mPermissionError\u001b[0m                           Traceback (most recent call last)",
      "Cell \u001b[1;32mIn[90], line 1\u001b[0m\n\u001b[1;32m----> 1\u001b[0m \u001b[43mcombine_data\u001b[49m\u001b[43m(\u001b[49m\u001b[38;5;124;43m\"\u001b[39;49m\u001b[38;5;124;43mliving\u001b[39;49m\u001b[38;5;124;43m\"\u001b[39;49m\u001b[43m)\u001b[49m\n",
      "Cell \u001b[1;32mIn[88], line 18\u001b[0m, in \u001b[0;36mcombine_data\u001b[1;34m(key)\u001b[0m\n\u001b[0;32m     15\u001b[0m threedfuture_input_directory_images \u001b[38;5;241m=\u001b[39m os\u001b[38;5;241m.\u001b[39mpath\u001b[38;5;241m.\u001b[39mjoin(threedfuture_main_source_folder, \u001b[38;5;124m'\u001b[39m\u001b[38;5;124mtrain\u001b[39m\u001b[38;5;124m'\u001b[39m, \u001b[38;5;124mf\u001b[39m\u001b[38;5;124m\"\u001b[39m\u001b[38;5;124mimage_512_\u001b[39m\u001b[38;5;132;01m{\u001b[39;00mkey\u001b[38;5;132;01m}\u001b[39;00m\u001b[38;5;124m_f\u001b[39m\u001b[38;5;124m\"\u001b[39m)\n\u001b[0;32m     16\u001b[0m threedfuture_input_directory_captions \u001b[38;5;241m=\u001b[39m os\u001b[38;5;241m.\u001b[39mpath\u001b[38;5;241m.\u001b[39mjoin(threedfuture_main_source_folder, \u001b[38;5;124m'\u001b[39m\u001b[38;5;124mtrain\u001b[39m\u001b[38;5;124m'\u001b[39m, \u001b[38;5;124mf\u001b[39m\u001b[38;5;124m\"\u001b[39m\u001b[38;5;124mimage_512_\u001b[39m\u001b[38;5;132;01m{\u001b[39;00mkey\u001b[38;5;132;01m}\u001b[39;00m\u001b[38;5;124m_f_captions\u001b[39m\u001b[38;5;124m\"\u001b[39m)\n\u001b[1;32m---> 18\u001b[0m \u001b[43mshutil\u001b[49m\u001b[38;5;241;43m.\u001b[39;49m\u001b[43mcopy2\u001b[49m\u001b[43m(\u001b[49m\u001b[43mthreedfuture_input_directory_images\u001b[49m\u001b[43m,\u001b[49m\u001b[43m \u001b[49m\u001b[43moutput_directory_images\u001b[49m\u001b[43m)\u001b[49m\n\u001b[0;32m     19\u001b[0m shutil\u001b[38;5;241m.\u001b[39mcopy2(threedfuture_input_directory_captions, output_directory_captions)\n\u001b[0;32m     21\u001b[0m \u001b[38;5;66;03m# IKEA Data\u001b[39;00m\n",
      "File \u001b[1;32mc:\\Users\\JackChua\\miniconda3\\envs\\room\\lib\\shutil.py:444\u001b[0m, in \u001b[0;36mcopy2\u001b[1;34m(src, dst, follow_symlinks)\u001b[0m\n\u001b[0;32m    442\u001b[0m \u001b[39mif\u001b[39;00m os\u001b[39m.\u001b[39mpath\u001b[39m.\u001b[39misdir(dst):\n\u001b[0;32m    443\u001b[0m     dst \u001b[39m=\u001b[39m os\u001b[39m.\u001b[39mpath\u001b[39m.\u001b[39mjoin(dst, os\u001b[39m.\u001b[39mpath\u001b[39m.\u001b[39mbasename(src))\n\u001b[1;32m--> 444\u001b[0m copyfile(src, dst, follow_symlinks\u001b[39m=\u001b[39;49mfollow_symlinks)\n\u001b[0;32m    445\u001b[0m copystat(src, dst, follow_symlinks\u001b[39m=\u001b[39mfollow_symlinks)\n\u001b[0;32m    446\u001b[0m \u001b[39mreturn\u001b[39;00m dst\n",
      "File \u001b[1;32mc:\\Users\\JackChua\\miniconda3\\envs\\room\\lib\\shutil.py:264\u001b[0m, in \u001b[0;36mcopyfile\u001b[1;34m(src, dst, follow_symlinks)\u001b[0m\n\u001b[0;32m    262\u001b[0m     os\u001b[39m.\u001b[39msymlink(os\u001b[39m.\u001b[39mreadlink(src), dst)\n\u001b[0;32m    263\u001b[0m \u001b[39melse\u001b[39;00m:\n\u001b[1;32m--> 264\u001b[0m     \u001b[39mwith\u001b[39;00m \u001b[39mopen\u001b[39;49m(src, \u001b[39m'\u001b[39;49m\u001b[39mrb\u001b[39;49m\u001b[39m'\u001b[39;49m) \u001b[39mas\u001b[39;00m fsrc:\n\u001b[0;32m    265\u001b[0m         \u001b[39mtry\u001b[39;00m:\n\u001b[0;32m    266\u001b[0m             \u001b[39mwith\u001b[39;00m \u001b[39mopen\u001b[39m(dst, \u001b[39m'\u001b[39m\u001b[39mwb\u001b[39m\u001b[39m'\u001b[39m) \u001b[39mas\u001b[39;00m fdst:\n\u001b[0;32m    267\u001b[0m                 \u001b[39m# macOS\u001b[39;00m\n",
      "\u001b[1;31mPermissionError\u001b[0m: [Errno 13] Permission denied: './3D-FUTURE-scene\\\\train\\\\image_512_living_f'"
     ]
    }
   ],
   "source": [
    "combine_data(\"living\")"
   ]
  }
 ],
 "metadata": {
  "kernelspec": {
   "display_name": "Python 3.9.17 ('room')",
   "language": "python",
   "name": "python3"
  },
  "language_info": {
   "codemirror_mode": {
    "name": "ipython",
    "version": 3
   },
   "file_extension": ".py",
   "mimetype": "text/x-python",
   "name": "python",
   "nbconvert_exporter": "python",
   "pygments_lexer": "ipython3",
   "version": "3.9.17"
  },
  "orig_nbformat": 4,
  "vscode": {
   "interpreter": {
    "hash": "33e8c653b61fcd30db27bb9bf153aa9abf8c95d57f0a0708ce05bf3f3ed84366"
   }
  }
 },
 "nbformat": 4,
 "nbformat_minor": 2
}
